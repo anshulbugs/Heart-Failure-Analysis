{
  "cells": [
    {
      "cell_type": "markdown",
      "metadata": {
        "id": "6J8Xb3B_KOfV"
      },
      "source": [
        "# <center>Heart Failure -  Analysis</center>\n"
      ]
    },
    {
      "cell_type": "markdown",
      "metadata": {
        "id": "TFkITf9OKOfs"
      },
      "source": [
        "# Data Preparation and Cleaning"
      ]
    },
    {
      "cell_type": "markdown",
      "metadata": {
        "id": "e37F8uVnKOft"
      },
      "source": [
        "  <p style='text-align:justify;'> Let's load the CSV files using the Pandas library. We'll use the name \"heart_failure_raw_df\" for the data frame to indicate this is unprocessed data that we might clean, filter and modify to prepare a data frame ready for analysis. So we have to extract a copy of data frame and name it as \"heart_failure_df\". We'll perform data preparation and cleaning operations on \"heart_failure_df\"  and leave the raw data frame untouched and unmodified. </p>"
      ]
    },
    {
      "cell_type": "code",
      "execution_count": 6,
      "metadata": {
        "id": "mmVkShwrKOft"
      },
      "outputs": [],
      "source": [
        "import pandas as pd"
      ]
    },
    {
      "cell_type": "code",
      "execution_count": 7,
      "metadata": {
        "colab": {
          "base_uri": "https://localhost:8080/",
          "height": 487
        },
        "id": "w2-4EiK5KOfu",
        "outputId": "b8fd43c6-2b6b-413b-d924-8daac336fd15"
      },
      "outputs": [
        {
          "output_type": "execute_result",
          "data": {
            "text/plain": [
              "      age  anaemia  creatinine_phosphokinase  diabetes  ejection_fraction  \\\n",
              "0    75.0        0                       582         0                 20   \n",
              "1    55.0        0                      7861         0                 38   \n",
              "2    65.0        0                       146         0                 20   \n",
              "3    50.0        1                       111         0                 20   \n",
              "4    65.0        1                       160         1                 20   \n",
              "..    ...      ...                       ...       ...                ...   \n",
              "294  62.0        0                        61         1                 38   \n",
              "295  55.0        0                      1820         0                 38   \n",
              "296  45.0        0                      2060         1                 60   \n",
              "297  45.0        0                      2413         0                 38   \n",
              "298  50.0        0                       196         0                 45   \n",
              "\n",
              "     high_blood_pressure  platelets  serum_creatinine  serum_sodium  sex  \\\n",
              "0                      1  265000.00               1.9           130    1   \n",
              "1                      0  263358.03               1.1           136    1   \n",
              "2                      0  162000.00               1.3           129    1   \n",
              "3                      0  210000.00               1.9           137    1   \n",
              "4                      0  327000.00               2.7           116    0   \n",
              "..                   ...        ...               ...           ...  ...   \n",
              "294                    1  155000.00               1.1           143    1   \n",
              "295                    0  270000.00               1.2           139    0   \n",
              "296                    0  742000.00               0.8           138    0   \n",
              "297                    0  140000.00               1.4           140    1   \n",
              "298                    0  395000.00               1.6           136    1   \n",
              "\n",
              "     smoking  time  DEATH_EVENT  \n",
              "0          0     4            1  \n",
              "1          0     6            1  \n",
              "2          1     7            1  \n",
              "3          0     7            1  \n",
              "4          0     8            1  \n",
              "..       ...   ...          ...  \n",
              "294        1   270            0  \n",
              "295        0   271            0  \n",
              "296        0   278            0  \n",
              "297        1   280            0  \n",
              "298        1   285            0  \n",
              "\n",
              "[299 rows x 13 columns]"
            ],
            "text/html": [
              "\n",
              "  <div id=\"df-44f8d9ba-e5d8-4de3-b2f8-2ac1002a16de\">\n",
              "    <div class=\"colab-df-container\">\n",
              "      <div>\n",
              "<style scoped>\n",
              "    .dataframe tbody tr th:only-of-type {\n",
              "        vertical-align: middle;\n",
              "    }\n",
              "\n",
              "    .dataframe tbody tr th {\n",
              "        vertical-align: top;\n",
              "    }\n",
              "\n",
              "    .dataframe thead th {\n",
              "        text-align: right;\n",
              "    }\n",
              "</style>\n",
              "<table border=\"1\" class=\"dataframe\">\n",
              "  <thead>\n",
              "    <tr style=\"text-align: right;\">\n",
              "      <th></th>\n",
              "      <th>age</th>\n",
              "      <th>anaemia</th>\n",
              "      <th>creatinine_phosphokinase</th>\n",
              "      <th>diabetes</th>\n",
              "      <th>ejection_fraction</th>\n",
              "      <th>high_blood_pressure</th>\n",
              "      <th>platelets</th>\n",
              "      <th>serum_creatinine</th>\n",
              "      <th>serum_sodium</th>\n",
              "      <th>sex</th>\n",
              "      <th>smoking</th>\n",
              "      <th>time</th>\n",
              "      <th>DEATH_EVENT</th>\n",
              "    </tr>\n",
              "  </thead>\n",
              "  <tbody>\n",
              "    <tr>\n",
              "      <th>0</th>\n",
              "      <td>75.0</td>\n",
              "      <td>0</td>\n",
              "      <td>582</td>\n",
              "      <td>0</td>\n",
              "      <td>20</td>\n",
              "      <td>1</td>\n",
              "      <td>265000.00</td>\n",
              "      <td>1.9</td>\n",
              "      <td>130</td>\n",
              "      <td>1</td>\n",
              "      <td>0</td>\n",
              "      <td>4</td>\n",
              "      <td>1</td>\n",
              "    </tr>\n",
              "    <tr>\n",
              "      <th>1</th>\n",
              "      <td>55.0</td>\n",
              "      <td>0</td>\n",
              "      <td>7861</td>\n",
              "      <td>0</td>\n",
              "      <td>38</td>\n",
              "      <td>0</td>\n",
              "      <td>263358.03</td>\n",
              "      <td>1.1</td>\n",
              "      <td>136</td>\n",
              "      <td>1</td>\n",
              "      <td>0</td>\n",
              "      <td>6</td>\n",
              "      <td>1</td>\n",
              "    </tr>\n",
              "    <tr>\n",
              "      <th>2</th>\n",
              "      <td>65.0</td>\n",
              "      <td>0</td>\n",
              "      <td>146</td>\n",
              "      <td>0</td>\n",
              "      <td>20</td>\n",
              "      <td>0</td>\n",
              "      <td>162000.00</td>\n",
              "      <td>1.3</td>\n",
              "      <td>129</td>\n",
              "      <td>1</td>\n",
              "      <td>1</td>\n",
              "      <td>7</td>\n",
              "      <td>1</td>\n",
              "    </tr>\n",
              "    <tr>\n",
              "      <th>3</th>\n",
              "      <td>50.0</td>\n",
              "      <td>1</td>\n",
              "      <td>111</td>\n",
              "      <td>0</td>\n",
              "      <td>20</td>\n",
              "      <td>0</td>\n",
              "      <td>210000.00</td>\n",
              "      <td>1.9</td>\n",
              "      <td>137</td>\n",
              "      <td>1</td>\n",
              "      <td>0</td>\n",
              "      <td>7</td>\n",
              "      <td>1</td>\n",
              "    </tr>\n",
              "    <tr>\n",
              "      <th>4</th>\n",
              "      <td>65.0</td>\n",
              "      <td>1</td>\n",
              "      <td>160</td>\n",
              "      <td>1</td>\n",
              "      <td>20</td>\n",
              "      <td>0</td>\n",
              "      <td>327000.00</td>\n",
              "      <td>2.7</td>\n",
              "      <td>116</td>\n",
              "      <td>0</td>\n",
              "      <td>0</td>\n",
              "      <td>8</td>\n",
              "      <td>1</td>\n",
              "    </tr>\n",
              "    <tr>\n",
              "      <th>...</th>\n",
              "      <td>...</td>\n",
              "      <td>...</td>\n",
              "      <td>...</td>\n",
              "      <td>...</td>\n",
              "      <td>...</td>\n",
              "      <td>...</td>\n",
              "      <td>...</td>\n",
              "      <td>...</td>\n",
              "      <td>...</td>\n",
              "      <td>...</td>\n",
              "      <td>...</td>\n",
              "      <td>...</td>\n",
              "      <td>...</td>\n",
              "    </tr>\n",
              "    <tr>\n",
              "      <th>294</th>\n",
              "      <td>62.0</td>\n",
              "      <td>0</td>\n",
              "      <td>61</td>\n",
              "      <td>1</td>\n",
              "      <td>38</td>\n",
              "      <td>1</td>\n",
              "      <td>155000.00</td>\n",
              "      <td>1.1</td>\n",
              "      <td>143</td>\n",
              "      <td>1</td>\n",
              "      <td>1</td>\n",
              "      <td>270</td>\n",
              "      <td>0</td>\n",
              "    </tr>\n",
              "    <tr>\n",
              "      <th>295</th>\n",
              "      <td>55.0</td>\n",
              "      <td>0</td>\n",
              "      <td>1820</td>\n",
              "      <td>0</td>\n",
              "      <td>38</td>\n",
              "      <td>0</td>\n",
              "      <td>270000.00</td>\n",
              "      <td>1.2</td>\n",
              "      <td>139</td>\n",
              "      <td>0</td>\n",
              "      <td>0</td>\n",
              "      <td>271</td>\n",
              "      <td>0</td>\n",
              "    </tr>\n",
              "    <tr>\n",
              "      <th>296</th>\n",
              "      <td>45.0</td>\n",
              "      <td>0</td>\n",
              "      <td>2060</td>\n",
              "      <td>1</td>\n",
              "      <td>60</td>\n",
              "      <td>0</td>\n",
              "      <td>742000.00</td>\n",
              "      <td>0.8</td>\n",
              "      <td>138</td>\n",
              "      <td>0</td>\n",
              "      <td>0</td>\n",
              "      <td>278</td>\n",
              "      <td>0</td>\n",
              "    </tr>\n",
              "    <tr>\n",
              "      <th>297</th>\n",
              "      <td>45.0</td>\n",
              "      <td>0</td>\n",
              "      <td>2413</td>\n",
              "      <td>0</td>\n",
              "      <td>38</td>\n",
              "      <td>0</td>\n",
              "      <td>140000.00</td>\n",
              "      <td>1.4</td>\n",
              "      <td>140</td>\n",
              "      <td>1</td>\n",
              "      <td>1</td>\n",
              "      <td>280</td>\n",
              "      <td>0</td>\n",
              "    </tr>\n",
              "    <tr>\n",
              "      <th>298</th>\n",
              "      <td>50.0</td>\n",
              "      <td>0</td>\n",
              "      <td>196</td>\n",
              "      <td>0</td>\n",
              "      <td>45</td>\n",
              "      <td>0</td>\n",
              "      <td>395000.00</td>\n",
              "      <td>1.6</td>\n",
              "      <td>136</td>\n",
              "      <td>1</td>\n",
              "      <td>1</td>\n",
              "      <td>285</td>\n",
              "      <td>0</td>\n",
              "    </tr>\n",
              "  </tbody>\n",
              "</table>\n",
              "<p>299 rows × 13 columns</p>\n",
              "</div>\n",
              "      <button class=\"colab-df-convert\" onclick=\"convertToInteractive('df-44f8d9ba-e5d8-4de3-b2f8-2ac1002a16de')\"\n",
              "              title=\"Convert this dataframe to an interactive table.\"\n",
              "              style=\"display:none;\">\n",
              "        \n",
              "  <svg xmlns=\"http://www.w3.org/2000/svg\" height=\"24px\"viewBox=\"0 0 24 24\"\n",
              "       width=\"24px\">\n",
              "    <path d=\"M0 0h24v24H0V0z\" fill=\"none\"/>\n",
              "    <path d=\"M18.56 5.44l.94 2.06.94-2.06 2.06-.94-2.06-.94-.94-2.06-.94 2.06-2.06.94zm-11 1L8.5 8.5l.94-2.06 2.06-.94-2.06-.94L8.5 2.5l-.94 2.06-2.06.94zm10 10l.94 2.06.94-2.06 2.06-.94-2.06-.94-.94-2.06-.94 2.06-2.06.94z\"/><path d=\"M17.41 7.96l-1.37-1.37c-.4-.4-.92-.59-1.43-.59-.52 0-1.04.2-1.43.59L10.3 9.45l-7.72 7.72c-.78.78-.78 2.05 0 2.83L4 21.41c.39.39.9.59 1.41.59.51 0 1.02-.2 1.41-.59l7.78-7.78 2.81-2.81c.8-.78.8-2.07 0-2.86zM5.41 20L4 18.59l7.72-7.72 1.47 1.35L5.41 20z\"/>\n",
              "  </svg>\n",
              "      </button>\n",
              "      \n",
              "  <style>\n",
              "    .colab-df-container {\n",
              "      display:flex;\n",
              "      flex-wrap:wrap;\n",
              "      gap: 12px;\n",
              "    }\n",
              "\n",
              "    .colab-df-convert {\n",
              "      background-color: #E8F0FE;\n",
              "      border: none;\n",
              "      border-radius: 50%;\n",
              "      cursor: pointer;\n",
              "      display: none;\n",
              "      fill: #1967D2;\n",
              "      height: 32px;\n",
              "      padding: 0 0 0 0;\n",
              "      width: 32px;\n",
              "    }\n",
              "\n",
              "    .colab-df-convert:hover {\n",
              "      background-color: #E2EBFA;\n",
              "      box-shadow: 0px 1px 2px rgba(60, 64, 67, 0.3), 0px 1px 3px 1px rgba(60, 64, 67, 0.15);\n",
              "      fill: #174EA6;\n",
              "    }\n",
              "\n",
              "    [theme=dark] .colab-df-convert {\n",
              "      background-color: #3B4455;\n",
              "      fill: #D2E3FC;\n",
              "    }\n",
              "\n",
              "    [theme=dark] .colab-df-convert:hover {\n",
              "      background-color: #434B5C;\n",
              "      box-shadow: 0px 1px 3px 1px rgba(0, 0, 0, 0.15);\n",
              "      filter: drop-shadow(0px 1px 2px rgba(0, 0, 0, 0.3));\n",
              "      fill: #FFFFFF;\n",
              "    }\n",
              "  </style>\n",
              "\n",
              "      <script>\n",
              "        const buttonEl =\n",
              "          document.querySelector('#df-44f8d9ba-e5d8-4de3-b2f8-2ac1002a16de button.colab-df-convert');\n",
              "        buttonEl.style.display =\n",
              "          google.colab.kernel.accessAllowed ? 'block' : 'none';\n",
              "\n",
              "        async function convertToInteractive(key) {\n",
              "          const element = document.querySelector('#df-44f8d9ba-e5d8-4de3-b2f8-2ac1002a16de');\n",
              "          const dataTable =\n",
              "            await google.colab.kernel.invokeFunction('convertToInteractive',\n",
              "                                                     [key], {});\n",
              "          if (!dataTable) return;\n",
              "\n",
              "          const docLinkHtml = 'Like what you see? Visit the ' +\n",
              "            '<a target=\"_blank\" href=https://colab.research.google.com/notebooks/data_table.ipynb>data table notebook</a>'\n",
              "            + ' to learn more about interactive tables.';\n",
              "          element.innerHTML = '';\n",
              "          dataTable['output_type'] = 'display_data';\n",
              "          await google.colab.output.renderOutput(dataTable, element);\n",
              "          const docLink = document.createElement('div');\n",
              "          docLink.innerHTML = docLinkHtml;\n",
              "          element.appendChild(docLink);\n",
              "        }\n",
              "      </script>\n",
              "    </div>\n",
              "  </div>\n",
              "  "
            ]
          },
          "metadata": {},
          "execution_count": 7
        }
      ],
      "source": [
        "\n",
        "#convert the csv file into pandas data frame \n",
        "heart_failure_raw_df = pd.read_csv('/content/Heart_failure_clinical_records_dataset.csv')\n",
        "#let's extract a copy of raw df to keep the raw df unaffected / untouched \n",
        "heart_failure_df = heart_failure_raw_df.copy()\n",
        "heart_failure_df "
      ]
    },
    {
      "cell_type": "markdown",
      "metadata": {
        "id": "05zc9RnCKOfu"
      },
      "source": [
        "  <p style='text-align:justify;'> We can easily identify from the above pandas data frame that the responses have been anonymized to remove personally identifiable information like name, address etc.</p>\n"
      ]
    },
    {
      "cell_type": "code",
      "execution_count": 8,
      "metadata": {
        "id": "Cc-dJtsXKOfv"
      },
      "outputs": [],
      "source": [
        "#importing numpy module as np to change value in sex column \n",
        "import numpy as np "
      ]
    },
    {
      "cell_type": "markdown",
      "metadata": {
        "id": "ktgDaQqVKOfv"
      },
      "source": [
        "  <p style='text-align:justify;'> Let's modify our \"heart_failure_df\" data frame by dropping unnecessary columns / rows, renaming the column names, changing the data type of column and so on.</p>"
      ]
    },
    {
      "cell_type": "code",
      "execution_count": 9,
      "metadata": {
        "colab": {
          "base_uri": "https://localhost:8080/",
          "height": 487
        },
        "id": "m5YTgfXHKOfw",
        "outputId": "7a835071-cd21-4782-8804-a0b2d0fbe49f"
      },
      "outputs": [
        {
          "output_type": "execute_result",
          "data": {
            "text/plain": [
              "     age  anaemia  creatinine_phosphokinase  diabetes  ejection_fraction  \\\n",
              "0     75    False                       582     False                 20   \n",
              "1     55    False                      7861     False                 38   \n",
              "2     65    False                       146     False                 20   \n",
              "3     50     True                       111     False                 20   \n",
              "4     65     True                       160      True                 20   \n",
              "..   ...      ...                       ...       ...                ...   \n",
              "294   62    False                        61      True                 38   \n",
              "295   55    False                      1820     False                 38   \n",
              "296   45    False                      2060      True                 60   \n",
              "297   45    False                      2413     False                 38   \n",
              "298   50    False                       196     False                 45   \n",
              "\n",
              "     high_blood_pressure  platelets  serum_creatinine  serum_sodium     sex  \\\n",
              "0                   True        265               1.9           130    Male   \n",
              "1                  False        263               1.1           136    Male   \n",
              "2                  False        162               1.3           129    Male   \n",
              "3                  False        210               1.9           137    Male   \n",
              "4                  False        327               2.7           116  Female   \n",
              "..                   ...        ...               ...           ...     ...   \n",
              "294                 True        155               1.1           143    Male   \n",
              "295                False        270               1.2           139  Female   \n",
              "296                False        742               0.8           138  Female   \n",
              "297                False        140               1.4           140    Male   \n",
              "298                False        395               1.6           136    Male   \n",
              "\n",
              "     smoking  patient_dead  \n",
              "0      False          True  \n",
              "1      False          True  \n",
              "2       True          True  \n",
              "3      False          True  \n",
              "4      False          True  \n",
              "..       ...           ...  \n",
              "294     True         False  \n",
              "295    False         False  \n",
              "296    False         False  \n",
              "297     True         False  \n",
              "298     True         False  \n",
              "\n",
              "[299 rows x 12 columns]"
            ],
            "text/html": [
              "\n",
              "  <div id=\"df-e9f55afe-a732-48ca-8626-daa626e24196\">\n",
              "    <div class=\"colab-df-container\">\n",
              "      <div>\n",
              "<style scoped>\n",
              "    .dataframe tbody tr th:only-of-type {\n",
              "        vertical-align: middle;\n",
              "    }\n",
              "\n",
              "    .dataframe tbody tr th {\n",
              "        vertical-align: top;\n",
              "    }\n",
              "\n",
              "    .dataframe thead th {\n",
              "        text-align: right;\n",
              "    }\n",
              "</style>\n",
              "<table border=\"1\" class=\"dataframe\">\n",
              "  <thead>\n",
              "    <tr style=\"text-align: right;\">\n",
              "      <th></th>\n",
              "      <th>age</th>\n",
              "      <th>anaemia</th>\n",
              "      <th>creatinine_phosphokinase</th>\n",
              "      <th>diabetes</th>\n",
              "      <th>ejection_fraction</th>\n",
              "      <th>high_blood_pressure</th>\n",
              "      <th>platelets</th>\n",
              "      <th>serum_creatinine</th>\n",
              "      <th>serum_sodium</th>\n",
              "      <th>sex</th>\n",
              "      <th>smoking</th>\n",
              "      <th>patient_dead</th>\n",
              "    </tr>\n",
              "  </thead>\n",
              "  <tbody>\n",
              "    <tr>\n",
              "      <th>0</th>\n",
              "      <td>75</td>\n",
              "      <td>False</td>\n",
              "      <td>582</td>\n",
              "      <td>False</td>\n",
              "      <td>20</td>\n",
              "      <td>True</td>\n",
              "      <td>265</td>\n",
              "      <td>1.9</td>\n",
              "      <td>130</td>\n",
              "      <td>Male</td>\n",
              "      <td>False</td>\n",
              "      <td>True</td>\n",
              "    </tr>\n",
              "    <tr>\n",
              "      <th>1</th>\n",
              "      <td>55</td>\n",
              "      <td>False</td>\n",
              "      <td>7861</td>\n",
              "      <td>False</td>\n",
              "      <td>38</td>\n",
              "      <td>False</td>\n",
              "      <td>263</td>\n",
              "      <td>1.1</td>\n",
              "      <td>136</td>\n",
              "      <td>Male</td>\n",
              "      <td>False</td>\n",
              "      <td>True</td>\n",
              "    </tr>\n",
              "    <tr>\n",
              "      <th>2</th>\n",
              "      <td>65</td>\n",
              "      <td>False</td>\n",
              "      <td>146</td>\n",
              "      <td>False</td>\n",
              "      <td>20</td>\n",
              "      <td>False</td>\n",
              "      <td>162</td>\n",
              "      <td>1.3</td>\n",
              "      <td>129</td>\n",
              "      <td>Male</td>\n",
              "      <td>True</td>\n",
              "      <td>True</td>\n",
              "    </tr>\n",
              "    <tr>\n",
              "      <th>3</th>\n",
              "      <td>50</td>\n",
              "      <td>True</td>\n",
              "      <td>111</td>\n",
              "      <td>False</td>\n",
              "      <td>20</td>\n",
              "      <td>False</td>\n",
              "      <td>210</td>\n",
              "      <td>1.9</td>\n",
              "      <td>137</td>\n",
              "      <td>Male</td>\n",
              "      <td>False</td>\n",
              "      <td>True</td>\n",
              "    </tr>\n",
              "    <tr>\n",
              "      <th>4</th>\n",
              "      <td>65</td>\n",
              "      <td>True</td>\n",
              "      <td>160</td>\n",
              "      <td>True</td>\n",
              "      <td>20</td>\n",
              "      <td>False</td>\n",
              "      <td>327</td>\n",
              "      <td>2.7</td>\n",
              "      <td>116</td>\n",
              "      <td>Female</td>\n",
              "      <td>False</td>\n",
              "      <td>True</td>\n",
              "    </tr>\n",
              "    <tr>\n",
              "      <th>...</th>\n",
              "      <td>...</td>\n",
              "      <td>...</td>\n",
              "      <td>...</td>\n",
              "      <td>...</td>\n",
              "      <td>...</td>\n",
              "      <td>...</td>\n",
              "      <td>...</td>\n",
              "      <td>...</td>\n",
              "      <td>...</td>\n",
              "      <td>...</td>\n",
              "      <td>...</td>\n",
              "      <td>...</td>\n",
              "    </tr>\n",
              "    <tr>\n",
              "      <th>294</th>\n",
              "      <td>62</td>\n",
              "      <td>False</td>\n",
              "      <td>61</td>\n",
              "      <td>True</td>\n",
              "      <td>38</td>\n",
              "      <td>True</td>\n",
              "      <td>155</td>\n",
              "      <td>1.1</td>\n",
              "      <td>143</td>\n",
              "      <td>Male</td>\n",
              "      <td>True</td>\n",
              "      <td>False</td>\n",
              "    </tr>\n",
              "    <tr>\n",
              "      <th>295</th>\n",
              "      <td>55</td>\n",
              "      <td>False</td>\n",
              "      <td>1820</td>\n",
              "      <td>False</td>\n",
              "      <td>38</td>\n",
              "      <td>False</td>\n",
              "      <td>270</td>\n",
              "      <td>1.2</td>\n",
              "      <td>139</td>\n",
              "      <td>Female</td>\n",
              "      <td>False</td>\n",
              "      <td>False</td>\n",
              "    </tr>\n",
              "    <tr>\n",
              "      <th>296</th>\n",
              "      <td>45</td>\n",
              "      <td>False</td>\n",
              "      <td>2060</td>\n",
              "      <td>True</td>\n",
              "      <td>60</td>\n",
              "      <td>False</td>\n",
              "      <td>742</td>\n",
              "      <td>0.8</td>\n",
              "      <td>138</td>\n",
              "      <td>Female</td>\n",
              "      <td>False</td>\n",
              "      <td>False</td>\n",
              "    </tr>\n",
              "    <tr>\n",
              "      <th>297</th>\n",
              "      <td>45</td>\n",
              "      <td>False</td>\n",
              "      <td>2413</td>\n",
              "      <td>False</td>\n",
              "      <td>38</td>\n",
              "      <td>False</td>\n",
              "      <td>140</td>\n",
              "      <td>1.4</td>\n",
              "      <td>140</td>\n",
              "      <td>Male</td>\n",
              "      <td>True</td>\n",
              "      <td>False</td>\n",
              "    </tr>\n",
              "    <tr>\n",
              "      <th>298</th>\n",
              "      <td>50</td>\n",
              "      <td>False</td>\n",
              "      <td>196</td>\n",
              "      <td>False</td>\n",
              "      <td>45</td>\n",
              "      <td>False</td>\n",
              "      <td>395</td>\n",
              "      <td>1.6</td>\n",
              "      <td>136</td>\n",
              "      <td>Male</td>\n",
              "      <td>True</td>\n",
              "      <td>False</td>\n",
              "    </tr>\n",
              "  </tbody>\n",
              "</table>\n",
              "<p>299 rows × 12 columns</p>\n",
              "</div>\n",
              "      <button class=\"colab-df-convert\" onclick=\"convertToInteractive('df-e9f55afe-a732-48ca-8626-daa626e24196')\"\n",
              "              title=\"Convert this dataframe to an interactive table.\"\n",
              "              style=\"display:none;\">\n",
              "        \n",
              "  <svg xmlns=\"http://www.w3.org/2000/svg\" height=\"24px\"viewBox=\"0 0 24 24\"\n",
              "       width=\"24px\">\n",
              "    <path d=\"M0 0h24v24H0V0z\" fill=\"none\"/>\n",
              "    <path d=\"M18.56 5.44l.94 2.06.94-2.06 2.06-.94-2.06-.94-.94-2.06-.94 2.06-2.06.94zm-11 1L8.5 8.5l.94-2.06 2.06-.94-2.06-.94L8.5 2.5l-.94 2.06-2.06.94zm10 10l.94 2.06.94-2.06 2.06-.94-2.06-.94-.94-2.06-.94 2.06-2.06.94z\"/><path d=\"M17.41 7.96l-1.37-1.37c-.4-.4-.92-.59-1.43-.59-.52 0-1.04.2-1.43.59L10.3 9.45l-7.72 7.72c-.78.78-.78 2.05 0 2.83L4 21.41c.39.39.9.59 1.41.59.51 0 1.02-.2 1.41-.59l7.78-7.78 2.81-2.81c.8-.78.8-2.07 0-2.86zM5.41 20L4 18.59l7.72-7.72 1.47 1.35L5.41 20z\"/>\n",
              "  </svg>\n",
              "      </button>\n",
              "      \n",
              "  <style>\n",
              "    .colab-df-container {\n",
              "      display:flex;\n",
              "      flex-wrap:wrap;\n",
              "      gap: 12px;\n",
              "    }\n",
              "\n",
              "    .colab-df-convert {\n",
              "      background-color: #E8F0FE;\n",
              "      border: none;\n",
              "      border-radius: 50%;\n",
              "      cursor: pointer;\n",
              "      display: none;\n",
              "      fill: #1967D2;\n",
              "      height: 32px;\n",
              "      padding: 0 0 0 0;\n",
              "      width: 32px;\n",
              "    }\n",
              "\n",
              "    .colab-df-convert:hover {\n",
              "      background-color: #E2EBFA;\n",
              "      box-shadow: 0px 1px 2px rgba(60, 64, 67, 0.3), 0px 1px 3px 1px rgba(60, 64, 67, 0.15);\n",
              "      fill: #174EA6;\n",
              "    }\n",
              "\n",
              "    [theme=dark] .colab-df-convert {\n",
              "      background-color: #3B4455;\n",
              "      fill: #D2E3FC;\n",
              "    }\n",
              "\n",
              "    [theme=dark] .colab-df-convert:hover {\n",
              "      background-color: #434B5C;\n",
              "      box-shadow: 0px 1px 3px 1px rgba(0, 0, 0, 0.15);\n",
              "      filter: drop-shadow(0px 1px 2px rgba(0, 0, 0, 0.3));\n",
              "      fill: #FFFFFF;\n",
              "    }\n",
              "  </style>\n",
              "\n",
              "      <script>\n",
              "        const buttonEl =\n",
              "          document.querySelector('#df-e9f55afe-a732-48ca-8626-daa626e24196 button.colab-df-convert');\n",
              "        buttonEl.style.display =\n",
              "          google.colab.kernel.accessAllowed ? 'block' : 'none';\n",
              "\n",
              "        async function convertToInteractive(key) {\n",
              "          const element = document.querySelector('#df-e9f55afe-a732-48ca-8626-daa626e24196');\n",
              "          const dataTable =\n",
              "            await google.colab.kernel.invokeFunction('convertToInteractive',\n",
              "                                                     [key], {});\n",
              "          if (!dataTable) return;\n",
              "\n",
              "          const docLinkHtml = 'Like what you see? Visit the ' +\n",
              "            '<a target=\"_blank\" href=https://colab.research.google.com/notebooks/data_table.ipynb>data table notebook</a>'\n",
              "            + ' to learn more about interactive tables.';\n",
              "          element.innerHTML = '';\n",
              "          dataTable['output_type'] = 'display_data';\n",
              "          await google.colab.output.renderOutput(dataTable, element);\n",
              "          const docLink = document.createElement('div');\n",
              "          docLink.innerHTML = docLinkHtml;\n",
              "          element.appendChild(docLink);\n",
              "        }\n",
              "      </script>\n",
              "    </div>\n",
              "  </div>\n",
              "  "
            ]
          },
          "metadata": {},
          "execution_count": 9
        }
      ],
      "source": [
        "#renaming DEATH_EVENT as patient_dead for my convenience \n",
        "heart_failure_df.rename(columns = {'DEATH_EVENT':'patient_dead'}, inplace = True)\n",
        "#drop the time column which is not necessary for our analysis \n",
        "heart_failure_df.drop(['time'],axis=1, inplace =True, errors = 'ignore')\n",
        "#changing the data type of age column from float to int\n",
        "heart_failure_df.age = heart_failure_df.age.astype(int)\n",
        "#changing the data type of following columns to bool type for our convenience \n",
        "heart_failure_df[['anaemia','diabetes','high_blood_pressure', 'smoking', 'patient_dead']] = heart_failure_df[['anaemia','diabetes', 'high_blood_pressure', 'smoking', 'patient_dead']].astype(bool)\n",
        "#changing the value of sex column to male or female\n",
        "heart_failure_df['sex'] = np.where(heart_failure_df['sex'] == 1, 'Male','Female')\n",
        "#to convert the platelet-count into kilo-platelets/mcL \n",
        "heart_failure_df.platelets = (heart_failure_df. platelets/1000).astype(int)\n",
        "heart_failure_df "
      ]
    },
    {
      "cell_type": "markdown",
      "metadata": {
        "id": "iu3ryJlKKOfx"
      },
      "source": [
        "**Check for null values in data frame**\n",
        "\n",
        "  <p style='text-align:justify;'> isna().any() function returns 'True', if there's any null (Nan) value in data frame and returns False if there's no null value.</p>"
      ]
    },
    {
      "cell_type": "code",
      "execution_count": 10,
      "metadata": {
        "colab": {
          "base_uri": "https://localhost:8080/"
        },
        "id": "c0Hsf8Z5KOfx",
        "outputId": "b42a4c11-0cbd-4240-dd91-ba19ef470ef9"
      },
      "outputs": [
        {
          "output_type": "execute_result",
          "data": {
            "text/plain": [
              "age                         False\n",
              "anaemia                     False\n",
              "creatinine_phosphokinase    False\n",
              "diabetes                    False\n",
              "ejection_fraction           False\n",
              "high_blood_pressure         False\n",
              "platelets                   False\n",
              "serum_creatinine            False\n",
              "serum_sodium                False\n",
              "sex                         False\n",
              "smoking                     False\n",
              "patient_dead                False\n",
              "dtype: bool"
            ]
          },
          "metadata": {},
          "execution_count": 10
        }
      ],
      "source": [
        "#checking for NaN values \n",
        "heart_failure_df.isnull().any()"
      ]
    },
    {
      "cell_type": "markdown",
      "metadata": {
        "id": "KlGkYd5lKOfy"
      },
      "source": [
        "  <p style='text-align:justify;'> From the above result, it's clear that  there's no null values present in our data frame. If there's limited number of columns, we can also check whether a column has null value or not using info()  function.</p>"
      ]
    },
    {
      "cell_type": "code",
      "execution_count": 11,
      "metadata": {
        "colab": {
          "base_uri": "https://localhost:8080/"
        },
        "id": "Aljl6kH1KOfy",
        "outputId": "8ca08d74-067b-48ea-964d-10465d2f48e4"
      },
      "outputs": [
        {
          "output_type": "stream",
          "name": "stdout",
          "text": [
            "<class 'pandas.core.frame.DataFrame'>\n",
            "RangeIndex: 299 entries, 0 to 298\n",
            "Data columns (total 12 columns):\n",
            " #   Column                    Non-Null Count  Dtype  \n",
            "---  ------                    --------------  -----  \n",
            " 0   age                       299 non-null    int64  \n",
            " 1   anaemia                   299 non-null    bool   \n",
            " 2   creatinine_phosphokinase  299 non-null    int64  \n",
            " 3   diabetes                  299 non-null    bool   \n",
            " 4   ejection_fraction         299 non-null    int64  \n",
            " 5   high_blood_pressure       299 non-null    bool   \n",
            " 6   platelets                 299 non-null    int64  \n",
            " 7   serum_creatinine          299 non-null    float64\n",
            " 8   serum_sodium              299 non-null    int64  \n",
            " 9   sex                       299 non-null    object \n",
            " 10  smoking                   299 non-null    bool   \n",
            " 11  patient_dead              299 non-null    bool   \n",
            "dtypes: bool(5), float64(1), int64(5), object(1)\n",
            "memory usage: 17.9+ KB\n"
          ]
        }
      ],
      "source": [
        "heart_failure_df.info()"
      ]
    },
    {
      "cell_type": "markdown",
      "metadata": {
        "id": "cTxS3Q38KOfz"
      },
      "source": [
        "  <p style='text-align:justify;'> info() function in pandas module is used to view some basic information of a data frame. From the above output, we can clearly see that there are 299 rows and 12 column and there's no null value. Also we can see the data types of each column in the data frame.</p>"
      ]
    },
    {
      "cell_type": "code",
      "execution_count": 12,
      "metadata": {
        "colab": {
          "base_uri": "https://localhost:8080/",
          "height": 300
        },
        "id": "Cd8gSx-IKOfz",
        "outputId": "6da42e8e-5445-44b2-f899-035ae6f6881f"
      },
      "outputs": [
        {
          "output_type": "execute_result",
          "data": {
            "text/plain": [
              "              age  creatinine_phosphokinase  ejection_fraction   platelets  \\\n",
              "count  299.000000                299.000000         299.000000  299.000000   \n",
              "mean    60.832776                581.839465          38.083612  263.327759   \n",
              "std     11.901108                970.287881          11.834841   97.805105   \n",
              "min     40.000000                 23.000000          14.000000   25.000000   \n",
              "25%     51.000000                116.500000          30.000000  212.500000   \n",
              "50%     60.000000                250.000000          38.000000  262.000000   \n",
              "75%     70.000000                582.000000          45.000000  303.500000   \n",
              "max     95.000000               7861.000000          80.000000  850.000000   \n",
              "\n",
              "       serum_creatinine  serum_sodium  \n",
              "count         299.00000    299.000000  \n",
              "mean            1.39388    136.625418  \n",
              "std             1.03451      4.412477  \n",
              "min             0.50000    113.000000  \n",
              "25%             0.90000    134.000000  \n",
              "50%             1.10000    137.000000  \n",
              "75%             1.40000    140.000000  \n",
              "max             9.40000    148.000000  "
            ],
            "text/html": [
              "\n",
              "  <div id=\"df-ef04c01d-515e-4143-8599-834e31a5a219\">\n",
              "    <div class=\"colab-df-container\">\n",
              "      <div>\n",
              "<style scoped>\n",
              "    .dataframe tbody tr th:only-of-type {\n",
              "        vertical-align: middle;\n",
              "    }\n",
              "\n",
              "    .dataframe tbody tr th {\n",
              "        vertical-align: top;\n",
              "    }\n",
              "\n",
              "    .dataframe thead th {\n",
              "        text-align: right;\n",
              "    }\n",
              "</style>\n",
              "<table border=\"1\" class=\"dataframe\">\n",
              "  <thead>\n",
              "    <tr style=\"text-align: right;\">\n",
              "      <th></th>\n",
              "      <th>age</th>\n",
              "      <th>creatinine_phosphokinase</th>\n",
              "      <th>ejection_fraction</th>\n",
              "      <th>platelets</th>\n",
              "      <th>serum_creatinine</th>\n",
              "      <th>serum_sodium</th>\n",
              "    </tr>\n",
              "  </thead>\n",
              "  <tbody>\n",
              "    <tr>\n",
              "      <th>count</th>\n",
              "      <td>299.000000</td>\n",
              "      <td>299.000000</td>\n",
              "      <td>299.000000</td>\n",
              "      <td>299.000000</td>\n",
              "      <td>299.00000</td>\n",
              "      <td>299.000000</td>\n",
              "    </tr>\n",
              "    <tr>\n",
              "      <th>mean</th>\n",
              "      <td>60.832776</td>\n",
              "      <td>581.839465</td>\n",
              "      <td>38.083612</td>\n",
              "      <td>263.327759</td>\n",
              "      <td>1.39388</td>\n",
              "      <td>136.625418</td>\n",
              "    </tr>\n",
              "    <tr>\n",
              "      <th>std</th>\n",
              "      <td>11.901108</td>\n",
              "      <td>970.287881</td>\n",
              "      <td>11.834841</td>\n",
              "      <td>97.805105</td>\n",
              "      <td>1.03451</td>\n",
              "      <td>4.412477</td>\n",
              "    </tr>\n",
              "    <tr>\n",
              "      <th>min</th>\n",
              "      <td>40.000000</td>\n",
              "      <td>23.000000</td>\n",
              "      <td>14.000000</td>\n",
              "      <td>25.000000</td>\n",
              "      <td>0.50000</td>\n",
              "      <td>113.000000</td>\n",
              "    </tr>\n",
              "    <tr>\n",
              "      <th>25%</th>\n",
              "      <td>51.000000</td>\n",
              "      <td>116.500000</td>\n",
              "      <td>30.000000</td>\n",
              "      <td>212.500000</td>\n",
              "      <td>0.90000</td>\n",
              "      <td>134.000000</td>\n",
              "    </tr>\n",
              "    <tr>\n",
              "      <th>50%</th>\n",
              "      <td>60.000000</td>\n",
              "      <td>250.000000</td>\n",
              "      <td>38.000000</td>\n",
              "      <td>262.000000</td>\n",
              "      <td>1.10000</td>\n",
              "      <td>137.000000</td>\n",
              "    </tr>\n",
              "    <tr>\n",
              "      <th>75%</th>\n",
              "      <td>70.000000</td>\n",
              "      <td>582.000000</td>\n",
              "      <td>45.000000</td>\n",
              "      <td>303.500000</td>\n",
              "      <td>1.40000</td>\n",
              "      <td>140.000000</td>\n",
              "    </tr>\n",
              "    <tr>\n",
              "      <th>max</th>\n",
              "      <td>95.000000</td>\n",
              "      <td>7861.000000</td>\n",
              "      <td>80.000000</td>\n",
              "      <td>850.000000</td>\n",
              "      <td>9.40000</td>\n",
              "      <td>148.000000</td>\n",
              "    </tr>\n",
              "  </tbody>\n",
              "</table>\n",
              "</div>\n",
              "      <button class=\"colab-df-convert\" onclick=\"convertToInteractive('df-ef04c01d-515e-4143-8599-834e31a5a219')\"\n",
              "              title=\"Convert this dataframe to an interactive table.\"\n",
              "              style=\"display:none;\">\n",
              "        \n",
              "  <svg xmlns=\"http://www.w3.org/2000/svg\" height=\"24px\"viewBox=\"0 0 24 24\"\n",
              "       width=\"24px\">\n",
              "    <path d=\"M0 0h24v24H0V0z\" fill=\"none\"/>\n",
              "    <path d=\"M18.56 5.44l.94 2.06.94-2.06 2.06-.94-2.06-.94-.94-2.06-.94 2.06-2.06.94zm-11 1L8.5 8.5l.94-2.06 2.06-.94-2.06-.94L8.5 2.5l-.94 2.06-2.06.94zm10 10l.94 2.06.94-2.06 2.06-.94-2.06-.94-.94-2.06-.94 2.06-2.06.94z\"/><path d=\"M17.41 7.96l-1.37-1.37c-.4-.4-.92-.59-1.43-.59-.52 0-1.04.2-1.43.59L10.3 9.45l-7.72 7.72c-.78.78-.78 2.05 0 2.83L4 21.41c.39.39.9.59 1.41.59.51 0 1.02-.2 1.41-.59l7.78-7.78 2.81-2.81c.8-.78.8-2.07 0-2.86zM5.41 20L4 18.59l7.72-7.72 1.47 1.35L5.41 20z\"/>\n",
              "  </svg>\n",
              "      </button>\n",
              "      \n",
              "  <style>\n",
              "    .colab-df-container {\n",
              "      display:flex;\n",
              "      flex-wrap:wrap;\n",
              "      gap: 12px;\n",
              "    }\n",
              "\n",
              "    .colab-df-convert {\n",
              "      background-color: #E8F0FE;\n",
              "      border: none;\n",
              "      border-radius: 50%;\n",
              "      cursor: pointer;\n",
              "      display: none;\n",
              "      fill: #1967D2;\n",
              "      height: 32px;\n",
              "      padding: 0 0 0 0;\n",
              "      width: 32px;\n",
              "    }\n",
              "\n",
              "    .colab-df-convert:hover {\n",
              "      background-color: #E2EBFA;\n",
              "      box-shadow: 0px 1px 2px rgba(60, 64, 67, 0.3), 0px 1px 3px 1px rgba(60, 64, 67, 0.15);\n",
              "      fill: #174EA6;\n",
              "    }\n",
              "\n",
              "    [theme=dark] .colab-df-convert {\n",
              "      background-color: #3B4455;\n",
              "      fill: #D2E3FC;\n",
              "    }\n",
              "\n",
              "    [theme=dark] .colab-df-convert:hover {\n",
              "      background-color: #434B5C;\n",
              "      box-shadow: 0px 1px 3px 1px rgba(0, 0, 0, 0.15);\n",
              "      filter: drop-shadow(0px 1px 2px rgba(0, 0, 0, 0.3));\n",
              "      fill: #FFFFFF;\n",
              "    }\n",
              "  </style>\n",
              "\n",
              "      <script>\n",
              "        const buttonEl =\n",
              "          document.querySelector('#df-ef04c01d-515e-4143-8599-834e31a5a219 button.colab-df-convert');\n",
              "        buttonEl.style.display =\n",
              "          google.colab.kernel.accessAllowed ? 'block' : 'none';\n",
              "\n",
              "        async function convertToInteractive(key) {\n",
              "          const element = document.querySelector('#df-ef04c01d-515e-4143-8599-834e31a5a219');\n",
              "          const dataTable =\n",
              "            await google.colab.kernel.invokeFunction('convertToInteractive',\n",
              "                                                     [key], {});\n",
              "          if (!dataTable) return;\n",
              "\n",
              "          const docLinkHtml = 'Like what you see? Visit the ' +\n",
              "            '<a target=\"_blank\" href=https://colab.research.google.com/notebooks/data_table.ipynb>data table notebook</a>'\n",
              "            + ' to learn more about interactive tables.';\n",
              "          element.innerHTML = '';\n",
              "          dataTable['output_type'] = 'display_data';\n",
              "          await google.colab.output.renderOutput(dataTable, element);\n",
              "          const docLink = document.createElement('div');\n",
              "          docLink.innerHTML = docLinkHtml;\n",
              "          element.appendChild(docLink);\n",
              "        }\n",
              "      </script>\n",
              "    </div>\n",
              "  </div>\n",
              "  "
            ]
          },
          "metadata": {},
          "execution_count": 12
        }
      ],
      "source": [
        "heart_failure_df.describe()"
      ]
    },
    {
      "cell_type": "markdown",
      "metadata": {
        "id": "2Je7vteFKOf0"
      },
      "source": [
        "  <p style='text-align:justify;'> describe() function is used to find some basic statistical information regarding a data frame in pandas. \n",
        "It's normal that, the max age of patient recorded is 95 years and min age is 40 years. All other numeric value records found okay, but the maximum value of Creatinine Phosphokinase (CPK) measured is 7861, that's too high for a normal person. The maximum value of CKP found in a heart failure patient was around 600 micrograms per liter. </p>"
      ]
    },
    {
      "cell_type": "code",
      "execution_count": 13,
      "metadata": {
        "colab": {
          "base_uri": "https://localhost:8080/"
        },
        "id": "e5B41FdLKOf0",
        "outputId": "57c506ef-f4a4-4dd4-f441-9a4b3a336e71"
      },
      "outputs": [
        {
          "output_type": "stream",
          "name": "stdout",
          "text": [
            "<class 'pandas.core.frame.DataFrame'>\n",
            "Int64Index: 36 entries, 1 to 297\n",
            "Data columns (total 12 columns):\n",
            " #   Column                    Non-Null Count  Dtype  \n",
            "---  ------                    --------------  -----  \n",
            " 0   age                       36 non-null     int64  \n",
            " 1   anaemia                   36 non-null     bool   \n",
            " 2   creatinine_phosphokinase  36 non-null     int64  \n",
            " 3   diabetes                  36 non-null     bool   \n",
            " 4   ejection_fraction         36 non-null     int64  \n",
            " 5   high_blood_pressure       36 non-null     bool   \n",
            " 6   platelets                 36 non-null     int64  \n",
            " 7   serum_creatinine          36 non-null     float64\n",
            " 8   serum_sodium              36 non-null     int64  \n",
            " 9   sex                       36 non-null     object \n",
            " 10  smoking                   36 non-null     bool   \n",
            " 11  patient_dead              36 non-null     bool   \n",
            "dtypes: bool(5), float64(1), int64(5), object(1)\n",
            "memory usage: 2.4+ KB\n"
          ]
        }
      ],
      "source": [
        "heart_failure_df[heart_failure_df.creatinine_phosphokinase > 1000].info()"
      ]
    },
    {
      "cell_type": "markdown",
      "metadata": {
        "id": "C1ShVqibKOf1"
      },
      "source": [
        "  <p style='text-align:justify;'> The normal value of CPK ranges from 10 to 120 micrograms per liter, but around 36 patients has CPK level more than 1000 micrograms per liter in our observation. Since, we are not sure about the source of error or that the recorded data is correct or not. This error and huge difference in value might be due to the different measurement units. So let's drop that column and not include in our analysis.</p>"
      ]
    },
    {
      "cell_type": "code",
      "execution_count": 14,
      "metadata": {
        "id": "xH2pcx0NKOf1"
      },
      "outputs": [],
      "source": [
        "#to drop creatinine_phosphokinase column\n",
        "heart_failure_df.drop('creatinine_phosphokinase', inplace = True, axis = 1, errors ='ignore')"
      ]
    },
    {
      "cell_type": "markdown",
      "metadata": {
        "id": "c5XY-oF2KOf2"
      },
      "source": [
        "  <p style='text-align:justify;'> Let's check the column names of our data frame using columns() function in pandas.</p>"
      ]
    },
    {
      "cell_type": "code",
      "execution_count": 15,
      "metadata": {
        "colab": {
          "base_uri": "https://localhost:8080/"
        },
        "id": "hCHCPHzuKOf2",
        "outputId": "94aef8a7-2a4c-4622-8c78-8634394ccf26"
      },
      "outputs": [
        {
          "output_type": "execute_result",
          "data": {
            "text/plain": [
              "Index(['age', 'anaemia', 'diabetes', 'ejection_fraction',\n",
              "       'high_blood_pressure', 'platelets', 'serum_creatinine', 'serum_sodium',\n",
              "       'sex', 'smoking', 'patient_dead'],\n",
              "      dtype='object')"
            ]
          },
          "metadata": {},
          "execution_count": 15
        }
      ],
      "source": [
        "#to display column names\n",
        "heart_failure_df.columns "
      ]
    },
    {
      "cell_type": "markdown",
      "metadata": {
        "id": "_aaGpw5uKOf3"
      },
      "source": [
        "  <p style='text-align:justify;'> There are 11 column in our data frame, where each column represents the attribute of the 299 heart failure patients.</p>\n",
        "  <p style='text-align:justify;'> \n",
        "column names (attributes) of the data frame doesn't provide complete information regarding the data recorded, so we have to refer to the another table or any website for reference to see the complete information regarding the attributes (column names) like explanation and measurement units. Also we have to add normal level value for the attributes, for the required column values.</p>\n",
        "  <p style='text-align:justify;'> \n",
        "Pandas library in python provides various useful functions to read various file formats, here we'll use read_html function to read a table from the source website. Kindly check the reference links at the bottom of this page.</p>"
      ]
    },
    {
      "cell_type": "code",
      "execution_count": 16,
      "metadata": {
        "colab": {
          "base_uri": "https://localhost:8080/",
          "height": 394
        },
        "id": "_Rt72IitKOf3",
        "outputId": "0e310c04-f031-4fd8-dad5-327e56378309"
      },
      "outputs": [
        {
          "output_type": "execute_result",
          "data": {
            "text/plain": [
              "                 feature                                      explanation  \\\n",
              "0                    Age                               Age of the patient   \n",
              "1                Anaemia        Decrease of red blood cells or hemoglobin   \n",
              "2    High blood pressure                    If a patient has hypertension   \n",
              "5               Diabetes                      If the patient has diabetes   \n",
              "6      Ejection fraction                      Percentage of blood leaving   \n",
              "8                    Sex                                     Woman or man   \n",
              "9              Platelets                           Platelets in the blood   \n",
              "10      Serum creatinine                 Level of creatinine in the blood   \n",
              "11          Serum sodium                     Level of sodium in the blood   \n",
              "12               Smoking                            If the patient smokes   \n",
              "14  (target) death event  If the patient died during the follow-up period   \n",
              "\n",
              "    measurement_unit  \n",
              "0              Years  \n",
              "1            Boolean  \n",
              "2            Boolean  \n",
              "5            Boolean  \n",
              "6         Percentage  \n",
              "8             Binary  \n",
              "9   kiloplatelets/mL  \n",
              "10             mg/dL  \n",
              "11             mEq/L  \n",
              "12           Boolean  \n",
              "14           Boolean  "
            ],
            "text/html": [
              "\n",
              "  <div id=\"df-90b0b8ef-a111-436a-b9d5-8f5c0c18d949\">\n",
              "    <div class=\"colab-df-container\">\n",
              "      <div>\n",
              "<style scoped>\n",
              "    .dataframe tbody tr th:only-of-type {\n",
              "        vertical-align: middle;\n",
              "    }\n",
              "\n",
              "    .dataframe tbody tr th {\n",
              "        vertical-align: top;\n",
              "    }\n",
              "\n",
              "    .dataframe thead th {\n",
              "        text-align: right;\n",
              "    }\n",
              "</style>\n",
              "<table border=\"1\" class=\"dataframe\">\n",
              "  <thead>\n",
              "    <tr style=\"text-align: right;\">\n",
              "      <th></th>\n",
              "      <th>feature</th>\n",
              "      <th>explanation</th>\n",
              "      <th>measurement_unit</th>\n",
              "    </tr>\n",
              "  </thead>\n",
              "  <tbody>\n",
              "    <tr>\n",
              "      <th>0</th>\n",
              "      <td>Age</td>\n",
              "      <td>Age of the patient</td>\n",
              "      <td>Years</td>\n",
              "    </tr>\n",
              "    <tr>\n",
              "      <th>1</th>\n",
              "      <td>Anaemia</td>\n",
              "      <td>Decrease of red blood cells or hemoglobin</td>\n",
              "      <td>Boolean</td>\n",
              "    </tr>\n",
              "    <tr>\n",
              "      <th>2</th>\n",
              "      <td>High blood pressure</td>\n",
              "      <td>If a patient has hypertension</td>\n",
              "      <td>Boolean</td>\n",
              "    </tr>\n",
              "    <tr>\n",
              "      <th>5</th>\n",
              "      <td>Diabetes</td>\n",
              "      <td>If the patient has diabetes</td>\n",
              "      <td>Boolean</td>\n",
              "    </tr>\n",
              "    <tr>\n",
              "      <th>6</th>\n",
              "      <td>Ejection fraction</td>\n",
              "      <td>Percentage of blood leaving</td>\n",
              "      <td>Percentage</td>\n",
              "    </tr>\n",
              "    <tr>\n",
              "      <th>8</th>\n",
              "      <td>Sex</td>\n",
              "      <td>Woman or man</td>\n",
              "      <td>Binary</td>\n",
              "    </tr>\n",
              "    <tr>\n",
              "      <th>9</th>\n",
              "      <td>Platelets</td>\n",
              "      <td>Platelets in the blood</td>\n",
              "      <td>kiloplatelets/mL</td>\n",
              "    </tr>\n",
              "    <tr>\n",
              "      <th>10</th>\n",
              "      <td>Serum creatinine</td>\n",
              "      <td>Level of creatinine in the blood</td>\n",
              "      <td>mg/dL</td>\n",
              "    </tr>\n",
              "    <tr>\n",
              "      <th>11</th>\n",
              "      <td>Serum sodium</td>\n",
              "      <td>Level of sodium in the blood</td>\n",
              "      <td>mEq/L</td>\n",
              "    </tr>\n",
              "    <tr>\n",
              "      <th>12</th>\n",
              "      <td>Smoking</td>\n",
              "      <td>If the patient smokes</td>\n",
              "      <td>Boolean</td>\n",
              "    </tr>\n",
              "    <tr>\n",
              "      <th>14</th>\n",
              "      <td>(target) death event</td>\n",
              "      <td>If the patient died during the follow-up period</td>\n",
              "      <td>Boolean</td>\n",
              "    </tr>\n",
              "  </tbody>\n",
              "</table>\n",
              "</div>\n",
              "      <button class=\"colab-df-convert\" onclick=\"convertToInteractive('df-90b0b8ef-a111-436a-b9d5-8f5c0c18d949')\"\n",
              "              title=\"Convert this dataframe to an interactive table.\"\n",
              "              style=\"display:none;\">\n",
              "        \n",
              "  <svg xmlns=\"http://www.w3.org/2000/svg\" height=\"24px\"viewBox=\"0 0 24 24\"\n",
              "       width=\"24px\">\n",
              "    <path d=\"M0 0h24v24H0V0z\" fill=\"none\"/>\n",
              "    <path d=\"M18.56 5.44l.94 2.06.94-2.06 2.06-.94-2.06-.94-.94-2.06-.94 2.06-2.06.94zm-11 1L8.5 8.5l.94-2.06 2.06-.94-2.06-.94L8.5 2.5l-.94 2.06-2.06.94zm10 10l.94 2.06.94-2.06 2.06-.94-2.06-.94-.94-2.06-.94 2.06-2.06.94z\"/><path d=\"M17.41 7.96l-1.37-1.37c-.4-.4-.92-.59-1.43-.59-.52 0-1.04.2-1.43.59L10.3 9.45l-7.72 7.72c-.78.78-.78 2.05 0 2.83L4 21.41c.39.39.9.59 1.41.59.51 0 1.02-.2 1.41-.59l7.78-7.78 2.81-2.81c.8-.78.8-2.07 0-2.86zM5.41 20L4 18.59l7.72-7.72 1.47 1.35L5.41 20z\"/>\n",
              "  </svg>\n",
              "      </button>\n",
              "      \n",
              "  <style>\n",
              "    .colab-df-container {\n",
              "      display:flex;\n",
              "      flex-wrap:wrap;\n",
              "      gap: 12px;\n",
              "    }\n",
              "\n",
              "    .colab-df-convert {\n",
              "      background-color: #E8F0FE;\n",
              "      border: none;\n",
              "      border-radius: 50%;\n",
              "      cursor: pointer;\n",
              "      display: none;\n",
              "      fill: #1967D2;\n",
              "      height: 32px;\n",
              "      padding: 0 0 0 0;\n",
              "      width: 32px;\n",
              "    }\n",
              "\n",
              "    .colab-df-convert:hover {\n",
              "      background-color: #E2EBFA;\n",
              "      box-shadow: 0px 1px 2px rgba(60, 64, 67, 0.3), 0px 1px 3px 1px rgba(60, 64, 67, 0.15);\n",
              "      fill: #174EA6;\n",
              "    }\n",
              "\n",
              "    [theme=dark] .colab-df-convert {\n",
              "      background-color: #3B4455;\n",
              "      fill: #D2E3FC;\n",
              "    }\n",
              "\n",
              "    [theme=dark] .colab-df-convert:hover {\n",
              "      background-color: #434B5C;\n",
              "      box-shadow: 0px 1px 3px 1px rgba(0, 0, 0, 0.15);\n",
              "      filter: drop-shadow(0px 1px 2px rgba(0, 0, 0, 0.3));\n",
              "      fill: #FFFFFF;\n",
              "    }\n",
              "  </style>\n",
              "\n",
              "      <script>\n",
              "        const buttonEl =\n",
              "          document.querySelector('#df-90b0b8ef-a111-436a-b9d5-8f5c0c18d949 button.colab-df-convert');\n",
              "        buttonEl.style.display =\n",
              "          google.colab.kernel.accessAllowed ? 'block' : 'none';\n",
              "\n",
              "        async function convertToInteractive(key) {\n",
              "          const element = document.querySelector('#df-90b0b8ef-a111-436a-b9d5-8f5c0c18d949');\n",
              "          const dataTable =\n",
              "            await google.colab.kernel.invokeFunction('convertToInteractive',\n",
              "                                                     [key], {});\n",
              "          if (!dataTable) return;\n",
              "\n",
              "          const docLinkHtml = 'Like what you see? Visit the ' +\n",
              "            '<a target=\"_blank\" href=https://colab.research.google.com/notebooks/data_table.ipynb>data table notebook</a>'\n",
              "            + ' to learn more about interactive tables.';\n",
              "          element.innerHTML = '';\n",
              "          dataTable['output_type'] = 'display_data';\n",
              "          await google.colab.output.renderOutput(dataTable, element);\n",
              "          const docLink = document.createElement('div');\n",
              "          docLink.innerHTML = docLinkHtml;\n",
              "          element.appendChild(docLink);\n",
              "        }\n",
              "      </script>\n",
              "    </div>\n",
              "  </div>\n",
              "  "
            ]
          },
          "metadata": {},
          "execution_count": 16
        }
      ],
      "source": [
        "#to save the html table as pandas data frame \n",
        "column_details_df = pd.read_html(\"https://bmcmedinformdecismak.biomedcentral.com/articles/10.1186/s12911-020-1023-5/tables/1 \")[0]\n",
        "#to drop the unnecessary column\n",
        "column_details_df.drop('Range', axis =1,inplace = True, errors='ignore' )\n",
        "#to drop the unnecessary rows\n",
        "column_details_df.drop([3,4,7,13], axis = 0, inplace =True, errors ='ignore')\n",
        "#to rename the column names\n",
        "column_details_df.columns = ['feature', 'explanation', 'measurement_unit']\n",
        "column_details_df "
      ]
    },
    {
      "cell_type": "code",
      "execution_count": 17,
      "metadata": {
        "scrolled": true,
        "id": "1qrhuyiYKOf4"
      },
      "outputs": [],
      "source": [
        "#to rearrange and rename the rows to match the heart_failure_df \n",
        "column_details_df = column_details_df.reindex([0,1,5,6,2,9,10,11,8,12,14])\n",
        "column_details_df.feature = heart_failure_df.columns\n"
      ]
    },
    {
      "cell_type": "code",
      "execution_count": 18,
      "metadata": {
        "id": "ifUVZJoBKOf4"
      },
      "outputs": [],
      "source": [
        "#to set the feature column as index for our convenience \n",
        "column_details_df.set_index(['feature'], inplace =True)"
      ]
    },
    {
      "cell_type": "markdown",
      "metadata": {
        "id": "HjkLPSejKOf5"
      },
      "source": [
        "  <p style='text-align:justify;'> Let's correct the data in explanation and measurement unit column and another column mentioning the normal value for the attributes. </p"
      ]
    },
    {
      "cell_type": "code",
      "execution_count": 19,
      "metadata": {
        "code_folding": [
          1
        ],
        "id": "aBXLgFmwKOf5"
      },
      "outputs": [],
      "source": [
        "#to change the details in explanation column \n",
        "column_details_df['explanation']['anaemia', 'diabetes', 'ejection_fraction', 'high_blood_pressure', 'platelets', 'sex', 'smoking', 'patient_dead'] = ['True, if the patient has Anaemia',\n",
        "                                                                                                                                                      'True, if the patient has Diabetes', \n",
        "                                                                                                                                                      '% of blood leaving the heart at each contraction', \n",
        "                                                                                                                                                      'True, if the patient has High blood pressure', \n",
        "                                                                                                                                                      'Amount of platelets in the blood', \n",
        "                                                                                                                                                      'Male or Female',\n",
        "                                                                                                                                                      'True, if the patient smokes', \n",
        "                                                                                                                                                      'True, if the patient died during the follow-up period'] \n",
        "\n"
      ]
    },
    {
      "cell_type": "code",
      "execution_count": 20,
      "metadata": {
        "code_folding": [
          1
        ],
        "id": "IXGnE5hCKOf6"
      },
      "outputs": [],
      "source": [
        "#to change the details in measurement unit column \n",
        "column_details_df.measurement_unit['sex', 'platelets','serum_creatinine','serum_sodium'] = ['Boolean',\n",
        "                                                                                            'kilo-platelets / mcL (microliter)', \n",
        "                                                                                            'mg/dL (milligrams per deciliter)', \n",
        "                                                                                            'mEq/L (milliequivalents per litre)'\n",
        "                                                                                            ] "
      ]
    },
    {
      "cell_type": "code",
      "execution_count": 21,
      "metadata": {
        "colab": {
          "base_uri": "https://localhost:8080/",
          "height": 425
        },
        "id": "aIir_55mKOf6",
        "outputId": "4801691a-f4c1-470d-a996-d1b6bd9cb3c4"
      },
      "outputs": [
        {
          "output_type": "execute_result",
          "data": {
            "text/plain": [
              "                                                           explanation  \\\n",
              "feature                                                                  \n",
              "age                                                 Age of the patient   \n",
              "anaemia                               True, if the patient has Anaemia   \n",
              "diabetes                             True, if the patient has Diabetes   \n",
              "ejection_fraction     % of blood leaving the heart at each contraction   \n",
              "high_blood_pressure       True, if the patient has High blood pressure   \n",
              "platelets                             Amount of platelets in the blood   \n",
              "serum_creatinine                      Level of creatinine in the blood   \n",
              "serum_sodium                              Level of sodium in the blood   \n",
              "sex                                                     Male or Female   \n",
              "smoking                                    True, if the patient smokes   \n",
              "patient_dead         True, if the patient died during the follow-up...   \n",
              "\n",
              "                                       measurement_unit  \\\n",
              "feature                                                   \n",
              "age                                               Years   \n",
              "anaemia                                         Boolean   \n",
              "diabetes                                        Boolean   \n",
              "ejection_fraction                            Percentage   \n",
              "high_blood_pressure                             Boolean   \n",
              "platelets             kilo-platelets / mcL (microliter)   \n",
              "serum_creatinine       mg/dL (milligrams per deciliter)   \n",
              "serum_sodium         mEq/L (milliequivalents per litre)   \n",
              "sex                                             Boolean   \n",
              "smoking                                         Boolean   \n",
              "patient_dead                                    Boolean   \n",
              "\n",
              "                                       normal_value  \n",
              "feature                                              \n",
              "age                                            None  \n",
              "anaemia                                        None  \n",
              "diabetes                                       None  \n",
              "ejection_fraction                         55% - 70%  \n",
              "high_blood_pressure                            None  \n",
              "platelets            150 - 400 kilo-platelets / mcL  \n",
              "serum_creatinine                    0.6 - 1.2 mg/dL  \n",
              "serum_sodium                       135 - 145 mEq /L  \n",
              "sex                                            None  \n",
              "smoking                                        None  \n",
              "patient_dead                                   None  "
            ],
            "text/html": [
              "\n",
              "  <div id=\"df-43d3bd51-c984-4c32-b50f-4d43c33f3f0a\">\n",
              "    <div class=\"colab-df-container\">\n",
              "      <div>\n",
              "<style scoped>\n",
              "    .dataframe tbody tr th:only-of-type {\n",
              "        vertical-align: middle;\n",
              "    }\n",
              "\n",
              "    .dataframe tbody tr th {\n",
              "        vertical-align: top;\n",
              "    }\n",
              "\n",
              "    .dataframe thead th {\n",
              "        text-align: right;\n",
              "    }\n",
              "</style>\n",
              "<table border=\"1\" class=\"dataframe\">\n",
              "  <thead>\n",
              "    <tr style=\"text-align: right;\">\n",
              "      <th></th>\n",
              "      <th>explanation</th>\n",
              "      <th>measurement_unit</th>\n",
              "      <th>normal_value</th>\n",
              "    </tr>\n",
              "    <tr>\n",
              "      <th>feature</th>\n",
              "      <th></th>\n",
              "      <th></th>\n",
              "      <th></th>\n",
              "    </tr>\n",
              "  </thead>\n",
              "  <tbody>\n",
              "    <tr>\n",
              "      <th>age</th>\n",
              "      <td>Age of the patient</td>\n",
              "      <td>Years</td>\n",
              "      <td>None</td>\n",
              "    </tr>\n",
              "    <tr>\n",
              "      <th>anaemia</th>\n",
              "      <td>True, if the patient has Anaemia</td>\n",
              "      <td>Boolean</td>\n",
              "      <td>None</td>\n",
              "    </tr>\n",
              "    <tr>\n",
              "      <th>diabetes</th>\n",
              "      <td>True, if the patient has Diabetes</td>\n",
              "      <td>Boolean</td>\n",
              "      <td>None</td>\n",
              "    </tr>\n",
              "    <tr>\n",
              "      <th>ejection_fraction</th>\n",
              "      <td>% of blood leaving the heart at each contraction</td>\n",
              "      <td>Percentage</td>\n",
              "      <td>55% - 70%</td>\n",
              "    </tr>\n",
              "    <tr>\n",
              "      <th>high_blood_pressure</th>\n",
              "      <td>True, if the patient has High blood pressure</td>\n",
              "      <td>Boolean</td>\n",
              "      <td>None</td>\n",
              "    </tr>\n",
              "    <tr>\n",
              "      <th>platelets</th>\n",
              "      <td>Amount of platelets in the blood</td>\n",
              "      <td>kilo-platelets / mcL (microliter)</td>\n",
              "      <td>150 - 400 kilo-platelets / mcL</td>\n",
              "    </tr>\n",
              "    <tr>\n",
              "      <th>serum_creatinine</th>\n",
              "      <td>Level of creatinine in the blood</td>\n",
              "      <td>mg/dL (milligrams per deciliter)</td>\n",
              "      <td>0.6 - 1.2 mg/dL</td>\n",
              "    </tr>\n",
              "    <tr>\n",
              "      <th>serum_sodium</th>\n",
              "      <td>Level of sodium in the blood</td>\n",
              "      <td>mEq/L (milliequivalents per litre)</td>\n",
              "      <td>135 - 145 mEq /L</td>\n",
              "    </tr>\n",
              "    <tr>\n",
              "      <th>sex</th>\n",
              "      <td>Male or Female</td>\n",
              "      <td>Boolean</td>\n",
              "      <td>None</td>\n",
              "    </tr>\n",
              "    <tr>\n",
              "      <th>smoking</th>\n",
              "      <td>True, if the patient smokes</td>\n",
              "      <td>Boolean</td>\n",
              "      <td>None</td>\n",
              "    </tr>\n",
              "    <tr>\n",
              "      <th>patient_dead</th>\n",
              "      <td>True, if the patient died during the follow-up...</td>\n",
              "      <td>Boolean</td>\n",
              "      <td>None</td>\n",
              "    </tr>\n",
              "  </tbody>\n",
              "</table>\n",
              "</div>\n",
              "      <button class=\"colab-df-convert\" onclick=\"convertToInteractive('df-43d3bd51-c984-4c32-b50f-4d43c33f3f0a')\"\n",
              "              title=\"Convert this dataframe to an interactive table.\"\n",
              "              style=\"display:none;\">\n",
              "        \n",
              "  <svg xmlns=\"http://www.w3.org/2000/svg\" height=\"24px\"viewBox=\"0 0 24 24\"\n",
              "       width=\"24px\">\n",
              "    <path d=\"M0 0h24v24H0V0z\" fill=\"none\"/>\n",
              "    <path d=\"M18.56 5.44l.94 2.06.94-2.06 2.06-.94-2.06-.94-.94-2.06-.94 2.06-2.06.94zm-11 1L8.5 8.5l.94-2.06 2.06-.94-2.06-.94L8.5 2.5l-.94 2.06-2.06.94zm10 10l.94 2.06.94-2.06 2.06-.94-2.06-.94-.94-2.06-.94 2.06-2.06.94z\"/><path d=\"M17.41 7.96l-1.37-1.37c-.4-.4-.92-.59-1.43-.59-.52 0-1.04.2-1.43.59L10.3 9.45l-7.72 7.72c-.78.78-.78 2.05 0 2.83L4 21.41c.39.39.9.59 1.41.59.51 0 1.02-.2 1.41-.59l7.78-7.78 2.81-2.81c.8-.78.8-2.07 0-2.86zM5.41 20L4 18.59l7.72-7.72 1.47 1.35L5.41 20z\"/>\n",
              "  </svg>\n",
              "      </button>\n",
              "      \n",
              "  <style>\n",
              "    .colab-df-container {\n",
              "      display:flex;\n",
              "      flex-wrap:wrap;\n",
              "      gap: 12px;\n",
              "    }\n",
              "\n",
              "    .colab-df-convert {\n",
              "      background-color: #E8F0FE;\n",
              "      border: none;\n",
              "      border-radius: 50%;\n",
              "      cursor: pointer;\n",
              "      display: none;\n",
              "      fill: #1967D2;\n",
              "      height: 32px;\n",
              "      padding: 0 0 0 0;\n",
              "      width: 32px;\n",
              "    }\n",
              "\n",
              "    .colab-df-convert:hover {\n",
              "      background-color: #E2EBFA;\n",
              "      box-shadow: 0px 1px 2px rgba(60, 64, 67, 0.3), 0px 1px 3px 1px rgba(60, 64, 67, 0.15);\n",
              "      fill: #174EA6;\n",
              "    }\n",
              "\n",
              "    [theme=dark] .colab-df-convert {\n",
              "      background-color: #3B4455;\n",
              "      fill: #D2E3FC;\n",
              "    }\n",
              "\n",
              "    [theme=dark] .colab-df-convert:hover {\n",
              "      background-color: #434B5C;\n",
              "      box-shadow: 0px 1px 3px 1px rgba(0, 0, 0, 0.15);\n",
              "      filter: drop-shadow(0px 1px 2px rgba(0, 0, 0, 0.3));\n",
              "      fill: #FFFFFF;\n",
              "    }\n",
              "  </style>\n",
              "\n",
              "      <script>\n",
              "        const buttonEl =\n",
              "          document.querySelector('#df-43d3bd51-c984-4c32-b50f-4d43c33f3f0a button.colab-df-convert');\n",
              "        buttonEl.style.display =\n",
              "          google.colab.kernel.accessAllowed ? 'block' : 'none';\n",
              "\n",
              "        async function convertToInteractive(key) {\n",
              "          const element = document.querySelector('#df-43d3bd51-c984-4c32-b50f-4d43c33f3f0a');\n",
              "          const dataTable =\n",
              "            await google.colab.kernel.invokeFunction('convertToInteractive',\n",
              "                                                     [key], {});\n",
              "          if (!dataTable) return;\n",
              "\n",
              "          const docLinkHtml = 'Like what you see? Visit the ' +\n",
              "            '<a target=\"_blank\" href=https://colab.research.google.com/notebooks/data_table.ipynb>data table notebook</a>'\n",
              "            + ' to learn more about interactive tables.';\n",
              "          element.innerHTML = '';\n",
              "          dataTable['output_type'] = 'display_data';\n",
              "          await google.colab.output.renderOutput(dataTable, element);\n",
              "          const docLink = document.createElement('div');\n",
              "          docLink.innerHTML = docLinkHtml;\n",
              "          element.appendChild(docLink);\n",
              "        }\n",
              "      </script>\n",
              "    </div>\n",
              "  </div>\n",
              "  "
            ]
          },
          "metadata": {},
          "execution_count": 21
        }
      ],
      "source": [
        "#let's add another column to mention normal values of the attributes \n",
        "column_details_df[\"normal_value\"] = ['None', \n",
        "                                     'None', \n",
        "                                     'None',\n",
        "                                     '55% - 70%',\n",
        "                                     'None', \n",
        "                                     '150 - 400 kilo-platelets / mcL', \n",
        "                                     '0.6 - 1.2 mg/dL', \n",
        "                                     '135 - 145 mEq /L', \n",
        "                                     'None', 'None', 'None'\n",
        "                                    ] \n",
        "column_details_df"
      ]
    },
    {
      "cell_type": "markdown",
      "metadata": {
        "id": "h3uZF-SOKOf7"
      },
      "source": [
        "  <p style='text-align:justify;'> The normal values of the ejection fraction, creatinine level, sodium level and platelets count was taken from various resources, please check the reference links at the bottom. And these values varies based on patients age, body and gender etc.,but we took the most suitable approximate value to simplify our analysis. Please be aware that there might be small changes in our analysis when compared to the real world. </p>"
      ]
    },
    {
      "cell_type": "markdown",
      "metadata": {
        "id": "MTKuUyt-KOf7"
      },
      "source": [
        "###  Datasets - Cleaned & Prepared"
      ]
    },
    {
      "cell_type": "markdown",
      "metadata": {
        "id": "v_ElFcJLKOf7"
      },
      "source": [
        "  <p style='text-align:justify;'> Now, our both the datasets heart_failure_df and column_details_df are ready for our analysis. Let's check some basic information regarding our cleaned datasets before proceeding for visualisation methods. </p>"
      ]
    },
    {
      "cell_type": "code",
      "execution_count": 22,
      "metadata": {
        "colab": {
          "base_uri": "https://localhost:8080/"
        },
        "id": "ncuAPp5FKOf8",
        "outputId": "a09f339f-67a0-4971-d9fb-cbbb0f9d29b1"
      },
      "outputs": [
        {
          "output_type": "stream",
          "name": "stdout",
          "text": [
            "<class 'pandas.core.frame.DataFrame'>\n",
            "Index: 11 entries, age to patient_dead\n",
            "Data columns (total 3 columns):\n",
            " #   Column            Non-Null Count  Dtype \n",
            "---  ------            --------------  ----- \n",
            " 0   explanation       11 non-null     object\n",
            " 1   measurement_unit  11 non-null     object\n",
            " 2   normal_value      11 non-null     object\n",
            "dtypes: object(3)\n",
            "memory usage: 652.0+ bytes\n"
          ]
        }
      ],
      "source": [
        "column_details_df.info()"
      ]
    },
    {
      "cell_type": "markdown",
      "metadata": {
        "id": "_or4h8emKOf8"
      },
      "source": [
        "  <p style='text-align:justify;'> There are 11 rows in our column_details_df which clearly describes the informations (like explanation, measurement units and normal value) regarding the 11 attributes in the heart_failure_df data frame. </p"
      ]
    },
    {
      "cell_type": "code",
      "execution_count": 23,
      "metadata": {
        "colab": {
          "base_uri": "https://localhost:8080/"
        },
        "id": "5StsLByCKOf9",
        "outputId": "1188743c-bca8-482a-9863-bc35cd9eb6ff"
      },
      "outputs": [
        {
          "output_type": "stream",
          "name": "stdout",
          "text": [
            "<class 'pandas.core.frame.DataFrame'>\n",
            "RangeIndex: 299 entries, 0 to 298\n",
            "Data columns (total 11 columns):\n",
            " #   Column               Non-Null Count  Dtype  \n",
            "---  ------               --------------  -----  \n",
            " 0   age                  299 non-null    int64  \n",
            " 1   anaemia              299 non-null    bool   \n",
            " 2   diabetes             299 non-null    bool   \n",
            " 3   ejection_fraction    299 non-null    int64  \n",
            " 4   high_blood_pressure  299 non-null    bool   \n",
            " 5   platelets            299 non-null    int64  \n",
            " 6   serum_creatinine     299 non-null    float64\n",
            " 7   serum_sodium         299 non-null    int64  \n",
            " 8   sex                  299 non-null    object \n",
            " 9   smoking              299 non-null    bool   \n",
            " 10  patient_dead         299 non-null    bool   \n",
            "dtypes: bool(5), float64(1), int64(4), object(1)\n",
            "memory usage: 15.6+ KB\n"
          ]
        }
      ],
      "source": [
        "heart_failure_df.info()"
      ]
    },
    {
      "cell_type": "markdown",
      "metadata": {
        "id": "0t4Wc71NKOf9"
      },
      "source": [
        "  <p style='text-align:justify;'> There are 299 rows and 11 columns in our heart_failure_df with no null values. In raw dataset, there were 299 rows and 13 columns, we performed some operations to remove the unnecessary columns. </p>"
      ]
    },
    {
      "cell_type": "code",
      "execution_count": 24,
      "metadata": {
        "colab": {
          "base_uri": "https://localhost:8080/",
          "height": 300
        },
        "id": "SrXXBCEKKOf9",
        "outputId": "14f6aa7d-ba57-43a3-9186-bdf7104f9e40"
      },
      "outputs": [
        {
          "output_type": "execute_result",
          "data": {
            "text/plain": [
              "              age  ejection_fraction   platelets  serum_creatinine  \\\n",
              "count  299.000000         299.000000  299.000000         299.00000   \n",
              "mean    60.832776          38.083612  263.327759           1.39388   \n",
              "std     11.901108          11.834841   97.805105           1.03451   \n",
              "min     40.000000          14.000000   25.000000           0.50000   \n",
              "25%     51.000000          30.000000  212.500000           0.90000   \n",
              "50%     60.000000          38.000000  262.000000           1.10000   \n",
              "75%     70.000000          45.000000  303.500000           1.40000   \n",
              "max     95.000000          80.000000  850.000000           9.40000   \n",
              "\n",
              "       serum_sodium  \n",
              "count    299.000000  \n",
              "mean     136.625418  \n",
              "std        4.412477  \n",
              "min      113.000000  \n",
              "25%      134.000000  \n",
              "50%      137.000000  \n",
              "75%      140.000000  \n",
              "max      148.000000  "
            ],
            "text/html": [
              "\n",
              "  <div id=\"df-49f1a872-8eff-451c-ad5b-c5f842678958\">\n",
              "    <div class=\"colab-df-container\">\n",
              "      <div>\n",
              "<style scoped>\n",
              "    .dataframe tbody tr th:only-of-type {\n",
              "        vertical-align: middle;\n",
              "    }\n",
              "\n",
              "    .dataframe tbody tr th {\n",
              "        vertical-align: top;\n",
              "    }\n",
              "\n",
              "    .dataframe thead th {\n",
              "        text-align: right;\n",
              "    }\n",
              "</style>\n",
              "<table border=\"1\" class=\"dataframe\">\n",
              "  <thead>\n",
              "    <tr style=\"text-align: right;\">\n",
              "      <th></th>\n",
              "      <th>age</th>\n",
              "      <th>ejection_fraction</th>\n",
              "      <th>platelets</th>\n",
              "      <th>serum_creatinine</th>\n",
              "      <th>serum_sodium</th>\n",
              "    </tr>\n",
              "  </thead>\n",
              "  <tbody>\n",
              "    <tr>\n",
              "      <th>count</th>\n",
              "      <td>299.000000</td>\n",
              "      <td>299.000000</td>\n",
              "      <td>299.000000</td>\n",
              "      <td>299.00000</td>\n",
              "      <td>299.000000</td>\n",
              "    </tr>\n",
              "    <tr>\n",
              "      <th>mean</th>\n",
              "      <td>60.832776</td>\n",
              "      <td>38.083612</td>\n",
              "      <td>263.327759</td>\n",
              "      <td>1.39388</td>\n",
              "      <td>136.625418</td>\n",
              "    </tr>\n",
              "    <tr>\n",
              "      <th>std</th>\n",
              "      <td>11.901108</td>\n",
              "      <td>11.834841</td>\n",
              "      <td>97.805105</td>\n",
              "      <td>1.03451</td>\n",
              "      <td>4.412477</td>\n",
              "    </tr>\n",
              "    <tr>\n",
              "      <th>min</th>\n",
              "      <td>40.000000</td>\n",
              "      <td>14.000000</td>\n",
              "      <td>25.000000</td>\n",
              "      <td>0.50000</td>\n",
              "      <td>113.000000</td>\n",
              "    </tr>\n",
              "    <tr>\n",
              "      <th>25%</th>\n",
              "      <td>51.000000</td>\n",
              "      <td>30.000000</td>\n",
              "      <td>212.500000</td>\n",
              "      <td>0.90000</td>\n",
              "      <td>134.000000</td>\n",
              "    </tr>\n",
              "    <tr>\n",
              "      <th>50%</th>\n",
              "      <td>60.000000</td>\n",
              "      <td>38.000000</td>\n",
              "      <td>262.000000</td>\n",
              "      <td>1.10000</td>\n",
              "      <td>137.000000</td>\n",
              "    </tr>\n",
              "    <tr>\n",
              "      <th>75%</th>\n",
              "      <td>70.000000</td>\n",
              "      <td>45.000000</td>\n",
              "      <td>303.500000</td>\n",
              "      <td>1.40000</td>\n",
              "      <td>140.000000</td>\n",
              "    </tr>\n",
              "    <tr>\n",
              "      <th>max</th>\n",
              "      <td>95.000000</td>\n",
              "      <td>80.000000</td>\n",
              "      <td>850.000000</td>\n",
              "      <td>9.40000</td>\n",
              "      <td>148.000000</td>\n",
              "    </tr>\n",
              "  </tbody>\n",
              "</table>\n",
              "</div>\n",
              "      <button class=\"colab-df-convert\" onclick=\"convertToInteractive('df-49f1a872-8eff-451c-ad5b-c5f842678958')\"\n",
              "              title=\"Convert this dataframe to an interactive table.\"\n",
              "              style=\"display:none;\">\n",
              "        \n",
              "  <svg xmlns=\"http://www.w3.org/2000/svg\" height=\"24px\"viewBox=\"0 0 24 24\"\n",
              "       width=\"24px\">\n",
              "    <path d=\"M0 0h24v24H0V0z\" fill=\"none\"/>\n",
              "    <path d=\"M18.56 5.44l.94 2.06.94-2.06 2.06-.94-2.06-.94-.94-2.06-.94 2.06-2.06.94zm-11 1L8.5 8.5l.94-2.06 2.06-.94-2.06-.94L8.5 2.5l-.94 2.06-2.06.94zm10 10l.94 2.06.94-2.06 2.06-.94-2.06-.94-.94-2.06-.94 2.06-2.06.94z\"/><path d=\"M17.41 7.96l-1.37-1.37c-.4-.4-.92-.59-1.43-.59-.52 0-1.04.2-1.43.59L10.3 9.45l-7.72 7.72c-.78.78-.78 2.05 0 2.83L4 21.41c.39.39.9.59 1.41.59.51 0 1.02-.2 1.41-.59l7.78-7.78 2.81-2.81c.8-.78.8-2.07 0-2.86zM5.41 20L4 18.59l7.72-7.72 1.47 1.35L5.41 20z\"/>\n",
              "  </svg>\n",
              "      </button>\n",
              "      \n",
              "  <style>\n",
              "    .colab-df-container {\n",
              "      display:flex;\n",
              "      flex-wrap:wrap;\n",
              "      gap: 12px;\n",
              "    }\n",
              "\n",
              "    .colab-df-convert {\n",
              "      background-color: #E8F0FE;\n",
              "      border: none;\n",
              "      border-radius: 50%;\n",
              "      cursor: pointer;\n",
              "      display: none;\n",
              "      fill: #1967D2;\n",
              "      height: 32px;\n",
              "      padding: 0 0 0 0;\n",
              "      width: 32px;\n",
              "    }\n",
              "\n",
              "    .colab-df-convert:hover {\n",
              "      background-color: #E2EBFA;\n",
              "      box-shadow: 0px 1px 2px rgba(60, 64, 67, 0.3), 0px 1px 3px 1px rgba(60, 64, 67, 0.15);\n",
              "      fill: #174EA6;\n",
              "    }\n",
              "\n",
              "    [theme=dark] .colab-df-convert {\n",
              "      background-color: #3B4455;\n",
              "      fill: #D2E3FC;\n",
              "    }\n",
              "\n",
              "    [theme=dark] .colab-df-convert:hover {\n",
              "      background-color: #434B5C;\n",
              "      box-shadow: 0px 1px 3px 1px rgba(0, 0, 0, 0.15);\n",
              "      filter: drop-shadow(0px 1px 2px rgba(0, 0, 0, 0.3));\n",
              "      fill: #FFFFFF;\n",
              "    }\n",
              "  </style>\n",
              "\n",
              "      <script>\n",
              "        const buttonEl =\n",
              "          document.querySelector('#df-49f1a872-8eff-451c-ad5b-c5f842678958 button.colab-df-convert');\n",
              "        buttonEl.style.display =\n",
              "          google.colab.kernel.accessAllowed ? 'block' : 'none';\n",
              "\n",
              "        async function convertToInteractive(key) {\n",
              "          const element = document.querySelector('#df-49f1a872-8eff-451c-ad5b-c5f842678958');\n",
              "          const dataTable =\n",
              "            await google.colab.kernel.invokeFunction('convertToInteractive',\n",
              "                                                     [key], {});\n",
              "          if (!dataTable) return;\n",
              "\n",
              "          const docLinkHtml = 'Like what you see? Visit the ' +\n",
              "            '<a target=\"_blank\" href=https://colab.research.google.com/notebooks/data_table.ipynb>data table notebook</a>'\n",
              "            + ' to learn more about interactive tables.';\n",
              "          element.innerHTML = '';\n",
              "          dataTable['output_type'] = 'display_data';\n",
              "          await google.colab.output.renderOutput(dataTable, element);\n",
              "          const docLink = document.createElement('div');\n",
              "          docLink.innerHTML = docLinkHtml;\n",
              "          element.appendChild(docLink);\n",
              "        }\n",
              "      </script>\n",
              "    </div>\n",
              "  </div>\n",
              "  "
            ]
          },
          "metadata": {},
          "execution_count": 24
        }
      ],
      "source": [
        "heart_failure_df.describe()"
      ]
    },
    {
      "cell_type": "markdown",
      "metadata": {
        "id": "6EmXQnrZKOf-"
      },
      "source": [
        "  <p style='text-align:justify;'> From the above result, we can find the average age of patients, maximum and minimum value of clinical records stored in our data frame.</p>"
      ]
    },
    {
      "cell_type": "markdown",
      "metadata": {
        "id": "zmaCXDE_KOf-"
      },
      "source": [
        "#### Number of Male and Female patients "
      ]
    },
    {
      "cell_type": "code",
      "execution_count": 25,
      "metadata": {
        "colab": {
          "base_uri": "https://localhost:8080/"
        },
        "id": "dMA4IUQ5KOf_",
        "outputId": "0fb10648-5ed5-49bb-95cb-92c7bfeeed01"
      },
      "outputs": [
        {
          "output_type": "execute_result",
          "data": {
            "text/plain": [
              "Male      194\n",
              "Female    105\n",
              "Name: sex, dtype: int64"
            ]
          },
          "metadata": {},
          "execution_count": 25
        }
      ],
      "source": [
        "heart_failure_df.sex.value_counts()"
      ]
    },
    {
      "cell_type": "markdown",
      "metadata": {
        "id": "ie2jVsDZKOf_"
      },
      "source": [
        "#### Number of Patients with Anaemia "
      ]
    },
    {
      "cell_type": "code",
      "execution_count": 26,
      "metadata": {
        "colab": {
          "base_uri": "https://localhost:8080/"
        },
        "id": "bIVbYcI_KOf_",
        "outputId": "5ead310a-3acb-432d-906f-e0b355777282"
      },
      "outputs": [
        {
          "output_type": "execute_result",
          "data": {
            "text/plain": [
              "False    170\n",
              "True     129\n",
              "Name: anaemia, dtype: int64"
            ]
          },
          "metadata": {},
          "execution_count": 26
        }
      ],
      "source": [
        "heart_failure_df.anaemia.value_counts()"
      ]
    },
    {
      "cell_type": "markdown",
      "metadata": {
        "id": "O6zSJCzTKOgA"
      },
      "source": [
        "#### Number of Patients with Diabetes"
      ]
    },
    {
      "cell_type": "code",
      "execution_count": 27,
      "metadata": {
        "colab": {
          "base_uri": "https://localhost:8080/"
        },
        "id": "Pyb5CdTZKOgA",
        "outputId": "c08f08f2-be6f-4fe4-866c-2a0c203a92be"
      },
      "outputs": [
        {
          "output_type": "execute_result",
          "data": {
            "text/plain": [
              "False    174\n",
              "True     125\n",
              "Name: diabetes, dtype: int64"
            ]
          },
          "metadata": {},
          "execution_count": 27
        }
      ],
      "source": [
        "heart_failure_df.diabetes.value_counts()"
      ]
    },
    {
      "cell_type": "markdown",
      "metadata": {
        "id": "e-Hnm4oHKOgB"
      },
      "source": [
        "#### Number of Patients with High Blood Pressure "
      ]
    },
    {
      "cell_type": "code",
      "execution_count": 28,
      "metadata": {
        "colab": {
          "base_uri": "https://localhost:8080/"
        },
        "id": "HwUgHdu-KOgB",
        "outputId": "036a3f8d-4065-4d05-a897-651422e73dca"
      },
      "outputs": [
        {
          "output_type": "execute_result",
          "data": {
            "text/plain": [
              "False    194\n",
              "True     105\n",
              "Name: high_blood_pressure, dtype: int64"
            ]
          },
          "metadata": {},
          "execution_count": 28
        }
      ],
      "source": [
        "heart_failure_df.high_blood_pressure.value_counts()"
      ]
    },
    {
      "cell_type": "markdown",
      "metadata": {
        "id": "qCUA-1-4KOgC"
      },
      "source": [
        "#### Number of Patients with Smoking Habit "
      ]
    },
    {
      "cell_type": "code",
      "execution_count": 29,
      "metadata": {
        "colab": {
          "base_uri": "https://localhost:8080/"
        },
        "id": "Npxbqp34KOgC",
        "outputId": "9bae591e-7b30-4645-dc96-f09b625c3598"
      },
      "outputs": [
        {
          "output_type": "execute_result",
          "data": {
            "text/plain": [
              "False    203\n",
              "True      96\n",
              "Name: smoking, dtype: int64"
            ]
          },
          "metadata": {},
          "execution_count": 29
        }
      ],
      "source": [
        "heart_failure_df.smoking.value_counts()"
      ]
    },
    {
      "cell_type": "markdown",
      "metadata": {
        "id": "j2ps58t-KOgC"
      },
      "source": [
        "#### Number of Patients died during follow-up period "
      ]
    },
    {
      "cell_type": "code",
      "execution_count": 30,
      "metadata": {
        "scrolled": false,
        "colab": {
          "base_uri": "https://localhost:8080/",
          "height": 143
        },
        "id": "EWZrteD_KOgD",
        "outputId": "137c45ce-110f-4ff2-cf96-cdc1b2c16413"
      },
      "outputs": [
        {
          "output_type": "execute_result",
          "data": {
            "text/plain": [
              "patient_dead  False  True\n",
              "sex                      \n",
              "Female           71    34\n",
              "Male            132    62"
            ],
            "text/html": [
              "\n",
              "  <div id=\"df-fbb925dd-b174-4d77-afca-33a773d4d9ae\">\n",
              "    <div class=\"colab-df-container\">\n",
              "      <div>\n",
              "<style scoped>\n",
              "    .dataframe tbody tr th:only-of-type {\n",
              "        vertical-align: middle;\n",
              "    }\n",
              "\n",
              "    .dataframe tbody tr th {\n",
              "        vertical-align: top;\n",
              "    }\n",
              "\n",
              "    .dataframe thead th {\n",
              "        text-align: right;\n",
              "    }\n",
              "</style>\n",
              "<table border=\"1\" class=\"dataframe\">\n",
              "  <thead>\n",
              "    <tr style=\"text-align: right;\">\n",
              "      <th>patient_dead</th>\n",
              "      <th>False</th>\n",
              "      <th>True</th>\n",
              "    </tr>\n",
              "    <tr>\n",
              "      <th>sex</th>\n",
              "      <th></th>\n",
              "      <th></th>\n",
              "    </tr>\n",
              "  </thead>\n",
              "  <tbody>\n",
              "    <tr>\n",
              "      <th>Female</th>\n",
              "      <td>71</td>\n",
              "      <td>34</td>\n",
              "    </tr>\n",
              "    <tr>\n",
              "      <th>Male</th>\n",
              "      <td>132</td>\n",
              "      <td>62</td>\n",
              "    </tr>\n",
              "  </tbody>\n",
              "</table>\n",
              "</div>\n",
              "      <button class=\"colab-df-convert\" onclick=\"convertToInteractive('df-fbb925dd-b174-4d77-afca-33a773d4d9ae')\"\n",
              "              title=\"Convert this dataframe to an interactive table.\"\n",
              "              style=\"display:none;\">\n",
              "        \n",
              "  <svg xmlns=\"http://www.w3.org/2000/svg\" height=\"24px\"viewBox=\"0 0 24 24\"\n",
              "       width=\"24px\">\n",
              "    <path d=\"M0 0h24v24H0V0z\" fill=\"none\"/>\n",
              "    <path d=\"M18.56 5.44l.94 2.06.94-2.06 2.06-.94-2.06-.94-.94-2.06-.94 2.06-2.06.94zm-11 1L8.5 8.5l.94-2.06 2.06-.94-2.06-.94L8.5 2.5l-.94 2.06-2.06.94zm10 10l.94 2.06.94-2.06 2.06-.94-2.06-.94-.94-2.06-.94 2.06-2.06.94z\"/><path d=\"M17.41 7.96l-1.37-1.37c-.4-.4-.92-.59-1.43-.59-.52 0-1.04.2-1.43.59L10.3 9.45l-7.72 7.72c-.78.78-.78 2.05 0 2.83L4 21.41c.39.39.9.59 1.41.59.51 0 1.02-.2 1.41-.59l7.78-7.78 2.81-2.81c.8-.78.8-2.07 0-2.86zM5.41 20L4 18.59l7.72-7.72 1.47 1.35L5.41 20z\"/>\n",
              "  </svg>\n",
              "      </button>\n",
              "      \n",
              "  <style>\n",
              "    .colab-df-container {\n",
              "      display:flex;\n",
              "      flex-wrap:wrap;\n",
              "      gap: 12px;\n",
              "    }\n",
              "\n",
              "    .colab-df-convert {\n",
              "      background-color: #E8F0FE;\n",
              "      border: none;\n",
              "      border-radius: 50%;\n",
              "      cursor: pointer;\n",
              "      display: none;\n",
              "      fill: #1967D2;\n",
              "      height: 32px;\n",
              "      padding: 0 0 0 0;\n",
              "      width: 32px;\n",
              "    }\n",
              "\n",
              "    .colab-df-convert:hover {\n",
              "      background-color: #E2EBFA;\n",
              "      box-shadow: 0px 1px 2px rgba(60, 64, 67, 0.3), 0px 1px 3px 1px rgba(60, 64, 67, 0.15);\n",
              "      fill: #174EA6;\n",
              "    }\n",
              "\n",
              "    [theme=dark] .colab-df-convert {\n",
              "      background-color: #3B4455;\n",
              "      fill: #D2E3FC;\n",
              "    }\n",
              "\n",
              "    [theme=dark] .colab-df-convert:hover {\n",
              "      background-color: #434B5C;\n",
              "      box-shadow: 0px 1px 3px 1px rgba(0, 0, 0, 0.15);\n",
              "      filter: drop-shadow(0px 1px 2px rgba(0, 0, 0, 0.3));\n",
              "      fill: #FFFFFF;\n",
              "    }\n",
              "  </style>\n",
              "\n",
              "      <script>\n",
              "        const buttonEl =\n",
              "          document.querySelector('#df-fbb925dd-b174-4d77-afca-33a773d4d9ae button.colab-df-convert');\n",
              "        buttonEl.style.display =\n",
              "          google.colab.kernel.accessAllowed ? 'block' : 'none';\n",
              "\n",
              "        async function convertToInteractive(key) {\n",
              "          const element = document.querySelector('#df-fbb925dd-b174-4d77-afca-33a773d4d9ae');\n",
              "          const dataTable =\n",
              "            await google.colab.kernel.invokeFunction('convertToInteractive',\n",
              "                                                     [key], {});\n",
              "          if (!dataTable) return;\n",
              "\n",
              "          const docLinkHtml = 'Like what you see? Visit the ' +\n",
              "            '<a target=\"_blank\" href=https://colab.research.google.com/notebooks/data_table.ipynb>data table notebook</a>'\n",
              "            + ' to learn more about interactive tables.';\n",
              "          element.innerHTML = '';\n",
              "          dataTable['output_type'] = 'display_data';\n",
              "          await google.colab.output.renderOutput(dataTable, element);\n",
              "          const docLink = document.createElement('div');\n",
              "          docLink.innerHTML = docLinkHtml;\n",
              "          element.appendChild(docLink);\n",
              "        }\n",
              "      </script>\n",
              "    </div>\n",
              "  </div>\n",
              "  "
            ]
          },
          "metadata": {},
          "execution_count": 30
        }
      ],
      "source": [
        "heart_failure_df.groupby(['patient_dead', 'sex']).size().reset_index().pivot(columns= 'patient_dead',index = 'sex', values=0) "
      ]
    },
    {
      "cell_type": "markdown",
      "metadata": {
        "id": "Rtxk779oKOgE"
      },
      "source": [
        "#### Number of Patients with Abnormal Ejection Fraction "
      ]
    },
    {
      "cell_type": "code",
      "execution_count": 31,
      "metadata": {
        "colab": {
          "base_uri": "https://localhost:8080/",
          "height": 36
        },
        "id": "MKmQ4o0JKOgE",
        "outputId": "43143fc4-fe20-4250-c0e1-c9e3a8333b11"
      },
      "outputs": [
        {
          "output_type": "execute_result",
          "data": {
            "text/plain": [
              "'55% - 70%'"
            ],
            "application/vnd.google.colaboratory.intrinsic+json": {
              "type": "string"
            }
          },
          "metadata": {},
          "execution_count": 31
        }
      ],
      "source": [
        "#to find the normal value of Ejection Fraction \n",
        "column_details_df.normal_value['ejection_fraction']"
      ]
    },
    {
      "cell_type": "code",
      "execution_count": 32,
      "metadata": {
        "scrolled": true,
        "colab": {
          "base_uri": "https://localhost:8080/",
          "height": 467
        },
        "id": "Cckxq4sJKOgF",
        "outputId": "e5b9405e-70f9-49f4-b26c-26db6089f34d"
      },
      "outputs": [
        {
          "output_type": "execute_result",
          "data": {
            "text/plain": [
              "     age  anaemia  diabetes  ejection_fraction  high_blood_pressure  \\\n",
              "0     75    False     False                 20                 True   \n",
              "1     55    False     False                 38                False   \n",
              "2     65    False     False                 20                False   \n",
              "3     50     True     False                 20                False   \n",
              "4     65     True      True                 20                False   \n",
              "..   ...      ...       ...                ...                  ...   \n",
              "293   63     True      True                 35                False   \n",
              "294   62    False      True                 38                 True   \n",
              "295   55    False     False                 38                False   \n",
              "297   45    False     False                 38                False   \n",
              "298   50    False     False                 45                False   \n",
              "\n",
              "     platelets  serum_creatinine  serum_sodium     sex  smoking  patient_dead  \n",
              "0          265               1.9           130    Male    False          True  \n",
              "1          263               1.1           136    Male    False          True  \n",
              "2          162               1.3           129    Male     True          True  \n",
              "3          210               1.9           137    Male    False          True  \n",
              "4          327               2.7           116  Female    False          True  \n",
              "..         ...               ...           ...     ...      ...           ...  \n",
              "293        179               0.9           136    Male     True         False  \n",
              "294        155               1.1           143    Male     True         False  \n",
              "295        270               1.2           139  Female    False         False  \n",
              "297        140               1.4           140    Male     True         False  \n",
              "298        395               1.6           136    Male     True         False  \n",
              "\n",
              "[261 rows x 11 columns]"
            ],
            "text/html": [
              "\n",
              "  <div id=\"df-958e53dd-427f-4e29-9e63-86c03e3982f6\">\n",
              "    <div class=\"colab-df-container\">\n",
              "      <div>\n",
              "<style scoped>\n",
              "    .dataframe tbody tr th:only-of-type {\n",
              "        vertical-align: middle;\n",
              "    }\n",
              "\n",
              "    .dataframe tbody tr th {\n",
              "        vertical-align: top;\n",
              "    }\n",
              "\n",
              "    .dataframe thead th {\n",
              "        text-align: right;\n",
              "    }\n",
              "</style>\n",
              "<table border=\"1\" class=\"dataframe\">\n",
              "  <thead>\n",
              "    <tr style=\"text-align: right;\">\n",
              "      <th></th>\n",
              "      <th>age</th>\n",
              "      <th>anaemia</th>\n",
              "      <th>diabetes</th>\n",
              "      <th>ejection_fraction</th>\n",
              "      <th>high_blood_pressure</th>\n",
              "      <th>platelets</th>\n",
              "      <th>serum_creatinine</th>\n",
              "      <th>serum_sodium</th>\n",
              "      <th>sex</th>\n",
              "      <th>smoking</th>\n",
              "      <th>patient_dead</th>\n",
              "    </tr>\n",
              "  </thead>\n",
              "  <tbody>\n",
              "    <tr>\n",
              "      <th>0</th>\n",
              "      <td>75</td>\n",
              "      <td>False</td>\n",
              "      <td>False</td>\n",
              "      <td>20</td>\n",
              "      <td>True</td>\n",
              "      <td>265</td>\n",
              "      <td>1.9</td>\n",
              "      <td>130</td>\n",
              "      <td>Male</td>\n",
              "      <td>False</td>\n",
              "      <td>True</td>\n",
              "    </tr>\n",
              "    <tr>\n",
              "      <th>1</th>\n",
              "      <td>55</td>\n",
              "      <td>False</td>\n",
              "      <td>False</td>\n",
              "      <td>38</td>\n",
              "      <td>False</td>\n",
              "      <td>263</td>\n",
              "      <td>1.1</td>\n",
              "      <td>136</td>\n",
              "      <td>Male</td>\n",
              "      <td>False</td>\n",
              "      <td>True</td>\n",
              "    </tr>\n",
              "    <tr>\n",
              "      <th>2</th>\n",
              "      <td>65</td>\n",
              "      <td>False</td>\n",
              "      <td>False</td>\n",
              "      <td>20</td>\n",
              "      <td>False</td>\n",
              "      <td>162</td>\n",
              "      <td>1.3</td>\n",
              "      <td>129</td>\n",
              "      <td>Male</td>\n",
              "      <td>True</td>\n",
              "      <td>True</td>\n",
              "    </tr>\n",
              "    <tr>\n",
              "      <th>3</th>\n",
              "      <td>50</td>\n",
              "      <td>True</td>\n",
              "      <td>False</td>\n",
              "      <td>20</td>\n",
              "      <td>False</td>\n",
              "      <td>210</td>\n",
              "      <td>1.9</td>\n",
              "      <td>137</td>\n",
              "      <td>Male</td>\n",
              "      <td>False</td>\n",
              "      <td>True</td>\n",
              "    </tr>\n",
              "    <tr>\n",
              "      <th>4</th>\n",
              "      <td>65</td>\n",
              "      <td>True</td>\n",
              "      <td>True</td>\n",
              "      <td>20</td>\n",
              "      <td>False</td>\n",
              "      <td>327</td>\n",
              "      <td>2.7</td>\n",
              "      <td>116</td>\n",
              "      <td>Female</td>\n",
              "      <td>False</td>\n",
              "      <td>True</td>\n",
              "    </tr>\n",
              "    <tr>\n",
              "      <th>...</th>\n",
              "      <td>...</td>\n",
              "      <td>...</td>\n",
              "      <td>...</td>\n",
              "      <td>...</td>\n",
              "      <td>...</td>\n",
              "      <td>...</td>\n",
              "      <td>...</td>\n",
              "      <td>...</td>\n",
              "      <td>...</td>\n",
              "      <td>...</td>\n",
              "      <td>...</td>\n",
              "    </tr>\n",
              "    <tr>\n",
              "      <th>293</th>\n",
              "      <td>63</td>\n",
              "      <td>True</td>\n",
              "      <td>True</td>\n",
              "      <td>35</td>\n",
              "      <td>False</td>\n",
              "      <td>179</td>\n",
              "      <td>0.9</td>\n",
              "      <td>136</td>\n",
              "      <td>Male</td>\n",
              "      <td>True</td>\n",
              "      <td>False</td>\n",
              "    </tr>\n",
              "    <tr>\n",
              "      <th>294</th>\n",
              "      <td>62</td>\n",
              "      <td>False</td>\n",
              "      <td>True</td>\n",
              "      <td>38</td>\n",
              "      <td>True</td>\n",
              "      <td>155</td>\n",
              "      <td>1.1</td>\n",
              "      <td>143</td>\n",
              "      <td>Male</td>\n",
              "      <td>True</td>\n",
              "      <td>False</td>\n",
              "    </tr>\n",
              "    <tr>\n",
              "      <th>295</th>\n",
              "      <td>55</td>\n",
              "      <td>False</td>\n",
              "      <td>False</td>\n",
              "      <td>38</td>\n",
              "      <td>False</td>\n",
              "      <td>270</td>\n",
              "      <td>1.2</td>\n",
              "      <td>139</td>\n",
              "      <td>Female</td>\n",
              "      <td>False</td>\n",
              "      <td>False</td>\n",
              "    </tr>\n",
              "    <tr>\n",
              "      <th>297</th>\n",
              "      <td>45</td>\n",
              "      <td>False</td>\n",
              "      <td>False</td>\n",
              "      <td>38</td>\n",
              "      <td>False</td>\n",
              "      <td>140</td>\n",
              "      <td>1.4</td>\n",
              "      <td>140</td>\n",
              "      <td>Male</td>\n",
              "      <td>True</td>\n",
              "      <td>False</td>\n",
              "    </tr>\n",
              "    <tr>\n",
              "      <th>298</th>\n",
              "      <td>50</td>\n",
              "      <td>False</td>\n",
              "      <td>False</td>\n",
              "      <td>45</td>\n",
              "      <td>False</td>\n",
              "      <td>395</td>\n",
              "      <td>1.6</td>\n",
              "      <td>136</td>\n",
              "      <td>Male</td>\n",
              "      <td>True</td>\n",
              "      <td>False</td>\n",
              "    </tr>\n",
              "  </tbody>\n",
              "</table>\n",
              "<p>261 rows × 11 columns</p>\n",
              "</div>\n",
              "      <button class=\"colab-df-convert\" onclick=\"convertToInteractive('df-958e53dd-427f-4e29-9e63-86c03e3982f6')\"\n",
              "              title=\"Convert this dataframe to an interactive table.\"\n",
              "              style=\"display:none;\">\n",
              "        \n",
              "  <svg xmlns=\"http://www.w3.org/2000/svg\" height=\"24px\"viewBox=\"0 0 24 24\"\n",
              "       width=\"24px\">\n",
              "    <path d=\"M0 0h24v24H0V0z\" fill=\"none\"/>\n",
              "    <path d=\"M18.56 5.44l.94 2.06.94-2.06 2.06-.94-2.06-.94-.94-2.06-.94 2.06-2.06.94zm-11 1L8.5 8.5l.94-2.06 2.06-.94-2.06-.94L8.5 2.5l-.94 2.06-2.06.94zm10 10l.94 2.06.94-2.06 2.06-.94-2.06-.94-.94-2.06-.94 2.06-2.06.94z\"/><path d=\"M17.41 7.96l-1.37-1.37c-.4-.4-.92-.59-1.43-.59-.52 0-1.04.2-1.43.59L10.3 9.45l-7.72 7.72c-.78.78-.78 2.05 0 2.83L4 21.41c.39.39.9.59 1.41.59.51 0 1.02-.2 1.41-.59l7.78-7.78 2.81-2.81c.8-.78.8-2.07 0-2.86zM5.41 20L4 18.59l7.72-7.72 1.47 1.35L5.41 20z\"/>\n",
              "  </svg>\n",
              "      </button>\n",
              "      \n",
              "  <style>\n",
              "    .colab-df-container {\n",
              "      display:flex;\n",
              "      flex-wrap:wrap;\n",
              "      gap: 12px;\n",
              "    }\n",
              "\n",
              "    .colab-df-convert {\n",
              "      background-color: #E8F0FE;\n",
              "      border: none;\n",
              "      border-radius: 50%;\n",
              "      cursor: pointer;\n",
              "      display: none;\n",
              "      fill: #1967D2;\n",
              "      height: 32px;\n",
              "      padding: 0 0 0 0;\n",
              "      width: 32px;\n",
              "    }\n",
              "\n",
              "    .colab-df-convert:hover {\n",
              "      background-color: #E2EBFA;\n",
              "      box-shadow: 0px 1px 2px rgba(60, 64, 67, 0.3), 0px 1px 3px 1px rgba(60, 64, 67, 0.15);\n",
              "      fill: #174EA6;\n",
              "    }\n",
              "\n",
              "    [theme=dark] .colab-df-convert {\n",
              "      background-color: #3B4455;\n",
              "      fill: #D2E3FC;\n",
              "    }\n",
              "\n",
              "    [theme=dark] .colab-df-convert:hover {\n",
              "      background-color: #434B5C;\n",
              "      box-shadow: 0px 1px 3px 1px rgba(0, 0, 0, 0.15);\n",
              "      filter: drop-shadow(0px 1px 2px rgba(0, 0, 0, 0.3));\n",
              "      fill: #FFFFFF;\n",
              "    }\n",
              "  </style>\n",
              "\n",
              "      <script>\n",
              "        const buttonEl =\n",
              "          document.querySelector('#df-958e53dd-427f-4e29-9e63-86c03e3982f6 button.colab-df-convert');\n",
              "        buttonEl.style.display =\n",
              "          google.colab.kernel.accessAllowed ? 'block' : 'none';\n",
              "\n",
              "        async function convertToInteractive(key) {\n",
              "          const element = document.querySelector('#df-958e53dd-427f-4e29-9e63-86c03e3982f6');\n",
              "          const dataTable =\n",
              "            await google.colab.kernel.invokeFunction('convertToInteractive',\n",
              "                                                     [key], {});\n",
              "          if (!dataTable) return;\n",
              "\n",
              "          const docLinkHtml = 'Like what you see? Visit the ' +\n",
              "            '<a target=\"_blank\" href=https://colab.research.google.com/notebooks/data_table.ipynb>data table notebook</a>'\n",
              "            + ' to learn more about interactive tables.';\n",
              "          element.innerHTML = '';\n",
              "          dataTable['output_type'] = 'display_data';\n",
              "          await google.colab.output.renderOutput(dataTable, element);\n",
              "          const docLink = document.createElement('div');\n",
              "          docLink.innerHTML = docLinkHtml;\n",
              "          element.appendChild(docLink);\n",
              "        }\n",
              "      </script>\n",
              "    </div>\n",
              "  </div>\n",
              "  "
            ]
          },
          "metadata": {},
          "execution_count": 32
        }
      ],
      "source": [
        "abn_ef = heart_failure_df[(heart_failure_df.ejection_fraction < 55) | (heart_failure_df.ejection_fraction >70)]\n",
        "abn_ef"
      ]
    },
    {
      "cell_type": "markdown",
      "metadata": {
        "id": "FWnMKjMUKOgG"
      },
      "source": [
        "  <p style='text-align:justify;'> The normal value of Ejection Fraction ranges from 55% to 70%. Here, we found that there are <b>261 patients with abnormal Ejection Fraction.</b>   </p>"
      ]
    },
    {
      "cell_type": "markdown",
      "metadata": {
        "id": "0S1iAldLKOgH"
      },
      "source": [
        "#### Number of Patients with Abnormal Platelets Count"
      ]
    },
    {
      "cell_type": "code",
      "execution_count": 33,
      "metadata": {
        "colab": {
          "base_uri": "https://localhost:8080/",
          "height": 36
        },
        "id": "6XtE8VP3KOgH",
        "outputId": "b85b9075-c0d1-4056-a2fc-d1590628706d"
      },
      "outputs": [
        {
          "output_type": "execute_result",
          "data": {
            "text/plain": [
              "'150 - 400 kilo-platelets / mcL'"
            ],
            "application/vnd.google.colaboratory.intrinsic+json": {
              "type": "string"
            }
          },
          "metadata": {},
          "execution_count": 33
        }
      ],
      "source": [
        "#to find the normal value of Platelets Count \n",
        "column_details_df.normal_value['platelets']"
      ]
    },
    {
      "cell_type": "code",
      "execution_count": 34,
      "metadata": {
        "colab": {
          "base_uri": "https://localhost:8080/",
          "height": 1000
        },
        "id": "LexWVq6lKOgI",
        "outputId": "b8421099-ea5a-48c6-ba6f-227e26b11335"
      },
      "outputs": [
        {
          "output_type": "execute_result",
          "data": {
            "text/plain": [
              "     age  anaemia  diabetes  ejection_fraction  high_blood_pressure  \\\n",
              "6     75     True     False                 15                False   \n",
              "7     60     True      True                 60                False   \n",
              "12    45     True     False                 30                False   \n",
              "14    49     True     False                 30                 True   \n",
              "15    83     True     False                 50                False   \n",
              "19    48     True      True                 55                False   \n",
              "25    80    False      True                 38                False   \n",
              "47    60    False      True                 38                 True   \n",
              "48    80     True     False                 20                 True   \n",
              "51    53     True     False                 20                 True   \n",
              "55    95     True     False                 30                False   \n",
              "65    60    False     False                 20                False   \n",
              "69    65    False      True                 25                False   \n",
              "71    58    False      True                 35                False   \n",
              "73    65    False      True                 50                False   \n",
              "85    51    False     False                 50                False   \n",
              "102   80    False     False                 25                False   \n",
              "105   72     True     False                 30                 True   \n",
              "109   45    False      True                 35                False   \n",
              "117   85     True     False                 60                False   \n",
              "123   60     True     False                 30                 True   \n",
              "162   63     True     False                 40                False   \n",
              "163   50     True      True                 35                False   \n",
              "167   59    False      True                 20                False   \n",
              "176   69    False     False                 40                False   \n",
              "177   49     True     False                 50                False   \n",
              "194   45    False     False                 20                 True   \n",
              "200   63     True     False                 45                False   \n",
              "211   50    False     False                 62                 True   \n",
              "212   78    False     False                 50                False   \n",
              "223   47    False     False                 25                False   \n",
              "224   58    False      True                 25                False   \n",
              "227   55     True     False                 35                 True   \n",
              "230   60    False     False                 30                False   \n",
              "235   77     True     False                 50                 True   \n",
              "240   70    False      True                 35                 True   \n",
              "250   50    False     False                 30                 True   \n",
              "264   61    False      True                 38                False   \n",
              "267   56     True      True                 38                False   \n",
              "275   45    False     False                 38                 True   \n",
              "277   70    False      True                 38                False   \n",
              "279   55    False      True                 38                False   \n",
              "281   70    False     False                 40                False   \n",
              "287   45    False      True                 55                False   \n",
              "291   60    False     False                 35                False   \n",
              "296   45    False      True                 60                False   \n",
              "297   45    False     False                 38                False   \n",
              "\n",
              "     platelets  serum_creatinine  serum_sodium     sex  smoking  patient_dead  \n",
              "6          127              1.20           137    Male    False          True  \n",
              "7          454              1.10           131    Male     True          True  \n",
              "12         136              1.10           137    Male    False          True  \n",
              "14         427              1.00           138  Female    False         False  \n",
              "15          47              1.30           136    Male    False          True  \n",
              "19          87              1.90           121  Female    False          True  \n",
              "25         149              1.90           144    Male     True          True  \n",
              "47         451              0.60           138    Male     True          True  \n",
              "48         140              4.40           133    Male    False          True  \n",
              "51         418              1.40           139  Female    False          True  \n",
              "55         461              2.00           132    Male    False          True  \n",
              "65         119              2.90           127    Male     True          True  \n",
              "69         497              1.83           135    Male    False          True  \n",
              "71         122              0.90           139    Male     True         False  \n",
              "73         149              1.30           137    Male     True         False  \n",
              "85         406              0.70           140    Male    False         False  \n",
              "102        149              1.10           144    Male     True         False  \n",
              "105        621              1.70           138  Female     True          True  \n",
              "109        850              1.30           142    Male     True         False  \n",
              "117        507              3.20           138  Female    False         False  \n",
              "123        127              0.90           145  Female    False         False  \n",
              "162        448              0.90           137    Male     True         False  \n",
              "163         75              0.90           142  Female    False          True  \n",
              "167         70              2.40           134    Male    False          True  \n",
              "176        105              1.00           135    Male     True         False  \n",
              "177        132              1.00           140  Female    False         False  \n",
              "194        126              1.60           135    Male    False          True  \n",
              "200         73              0.70           137    Male    False         False  \n",
              "211        147              0.80           140    Male     True         False  \n",
              "212        481              1.40           138    Male     True         False  \n",
              "223        130              0.80           134    Male    False         False  \n",
              "224        504              1.00           138    Male    False         False  \n",
              "227        141              1.00           140    Male    False         False  \n",
              "230         62              1.70           127  Female    False          True  \n",
              "235        406              1.10           137    Male    False         False  \n",
              "240        533              1.30           139  Female    False         False  \n",
              "250        404              0.50           139  Female    False         False  \n",
              "264        147              1.20           141    Male    False         False  \n",
              "267        133              1.70           140    Male    False         False  \n",
              "275        422              0.80           137  Female    False         False  \n",
              "277         25              1.10           140    Male    False         False  \n",
              "279        451              1.30           136  Female    False         False  \n",
              "281         51              2.70           136    Male     True         False  \n",
              "287        543              1.00           132  Female    False         False  \n",
              "291        133              1.40           139    Male    False         False  \n",
              "296        742              0.80           138  Female    False         False  \n",
              "297        140              1.40           140    Male     True         False  "
            ],
            "text/html": [
              "\n",
              "  <div id=\"df-5c3b80fc-7b07-4012-8431-adb6e911afb1\">\n",
              "    <div class=\"colab-df-container\">\n",
              "      <div>\n",
              "<style scoped>\n",
              "    .dataframe tbody tr th:only-of-type {\n",
              "        vertical-align: middle;\n",
              "    }\n",
              "\n",
              "    .dataframe tbody tr th {\n",
              "        vertical-align: top;\n",
              "    }\n",
              "\n",
              "    .dataframe thead th {\n",
              "        text-align: right;\n",
              "    }\n",
              "</style>\n",
              "<table border=\"1\" class=\"dataframe\">\n",
              "  <thead>\n",
              "    <tr style=\"text-align: right;\">\n",
              "      <th></th>\n",
              "      <th>age</th>\n",
              "      <th>anaemia</th>\n",
              "      <th>diabetes</th>\n",
              "      <th>ejection_fraction</th>\n",
              "      <th>high_blood_pressure</th>\n",
              "      <th>platelets</th>\n",
              "      <th>serum_creatinine</th>\n",
              "      <th>serum_sodium</th>\n",
              "      <th>sex</th>\n",
              "      <th>smoking</th>\n",
              "      <th>patient_dead</th>\n",
              "    </tr>\n",
              "  </thead>\n",
              "  <tbody>\n",
              "    <tr>\n",
              "      <th>6</th>\n",
              "      <td>75</td>\n",
              "      <td>True</td>\n",
              "      <td>False</td>\n",
              "      <td>15</td>\n",
              "      <td>False</td>\n",
              "      <td>127</td>\n",
              "      <td>1.20</td>\n",
              "      <td>137</td>\n",
              "      <td>Male</td>\n",
              "      <td>False</td>\n",
              "      <td>True</td>\n",
              "    </tr>\n",
              "    <tr>\n",
              "      <th>7</th>\n",
              "      <td>60</td>\n",
              "      <td>True</td>\n",
              "      <td>True</td>\n",
              "      <td>60</td>\n",
              "      <td>False</td>\n",
              "      <td>454</td>\n",
              "      <td>1.10</td>\n",
              "      <td>131</td>\n",
              "      <td>Male</td>\n",
              "      <td>True</td>\n",
              "      <td>True</td>\n",
              "    </tr>\n",
              "    <tr>\n",
              "      <th>12</th>\n",
              "      <td>45</td>\n",
              "      <td>True</td>\n",
              "      <td>False</td>\n",
              "      <td>30</td>\n",
              "      <td>False</td>\n",
              "      <td>136</td>\n",
              "      <td>1.10</td>\n",
              "      <td>137</td>\n",
              "      <td>Male</td>\n",
              "      <td>False</td>\n",
              "      <td>True</td>\n",
              "    </tr>\n",
              "    <tr>\n",
              "      <th>14</th>\n",
              "      <td>49</td>\n",
              "      <td>True</td>\n",
              "      <td>False</td>\n",
              "      <td>30</td>\n",
              "      <td>True</td>\n",
              "      <td>427</td>\n",
              "      <td>1.00</td>\n",
              "      <td>138</td>\n",
              "      <td>Female</td>\n",
              "      <td>False</td>\n",
              "      <td>False</td>\n",
              "    </tr>\n",
              "    <tr>\n",
              "      <th>15</th>\n",
              "      <td>83</td>\n",
              "      <td>True</td>\n",
              "      <td>False</td>\n",
              "      <td>50</td>\n",
              "      <td>False</td>\n",
              "      <td>47</td>\n",
              "      <td>1.30</td>\n",
              "      <td>136</td>\n",
              "      <td>Male</td>\n",
              "      <td>False</td>\n",
              "      <td>True</td>\n",
              "    </tr>\n",
              "    <tr>\n",
              "      <th>19</th>\n",
              "      <td>48</td>\n",
              "      <td>True</td>\n",
              "      <td>True</td>\n",
              "      <td>55</td>\n",
              "      <td>False</td>\n",
              "      <td>87</td>\n",
              "      <td>1.90</td>\n",
              "      <td>121</td>\n",
              "      <td>Female</td>\n",
              "      <td>False</td>\n",
              "      <td>True</td>\n",
              "    </tr>\n",
              "    <tr>\n",
              "      <th>25</th>\n",
              "      <td>80</td>\n",
              "      <td>False</td>\n",
              "      <td>True</td>\n",
              "      <td>38</td>\n",
              "      <td>False</td>\n",
              "      <td>149</td>\n",
              "      <td>1.90</td>\n",
              "      <td>144</td>\n",
              "      <td>Male</td>\n",
              "      <td>True</td>\n",
              "      <td>True</td>\n",
              "    </tr>\n",
              "    <tr>\n",
              "      <th>47</th>\n",
              "      <td>60</td>\n",
              "      <td>False</td>\n",
              "      <td>True</td>\n",
              "      <td>38</td>\n",
              "      <td>True</td>\n",
              "      <td>451</td>\n",
              "      <td>0.60</td>\n",
              "      <td>138</td>\n",
              "      <td>Male</td>\n",
              "      <td>True</td>\n",
              "      <td>True</td>\n",
              "    </tr>\n",
              "    <tr>\n",
              "      <th>48</th>\n",
              "      <td>80</td>\n",
              "      <td>True</td>\n",
              "      <td>False</td>\n",
              "      <td>20</td>\n",
              "      <td>True</td>\n",
              "      <td>140</td>\n",
              "      <td>4.40</td>\n",
              "      <td>133</td>\n",
              "      <td>Male</td>\n",
              "      <td>False</td>\n",
              "      <td>True</td>\n",
              "    </tr>\n",
              "    <tr>\n",
              "      <th>51</th>\n",
              "      <td>53</td>\n",
              "      <td>True</td>\n",
              "      <td>False</td>\n",
              "      <td>20</td>\n",
              "      <td>True</td>\n",
              "      <td>418</td>\n",
              "      <td>1.40</td>\n",
              "      <td>139</td>\n",
              "      <td>Female</td>\n",
              "      <td>False</td>\n",
              "      <td>True</td>\n",
              "    </tr>\n",
              "    <tr>\n",
              "      <th>55</th>\n",
              "      <td>95</td>\n",
              "      <td>True</td>\n",
              "      <td>False</td>\n",
              "      <td>30</td>\n",
              "      <td>False</td>\n",
              "      <td>461</td>\n",
              "      <td>2.00</td>\n",
              "      <td>132</td>\n",
              "      <td>Male</td>\n",
              "      <td>False</td>\n",
              "      <td>True</td>\n",
              "    </tr>\n",
              "    <tr>\n",
              "      <th>65</th>\n",
              "      <td>60</td>\n",
              "      <td>False</td>\n",
              "      <td>False</td>\n",
              "      <td>20</td>\n",
              "      <td>False</td>\n",
              "      <td>119</td>\n",
              "      <td>2.90</td>\n",
              "      <td>127</td>\n",
              "      <td>Male</td>\n",
              "      <td>True</td>\n",
              "      <td>True</td>\n",
              "    </tr>\n",
              "    <tr>\n",
              "      <th>69</th>\n",
              "      <td>65</td>\n",
              "      <td>False</td>\n",
              "      <td>True</td>\n",
              "      <td>25</td>\n",
              "      <td>False</td>\n",
              "      <td>497</td>\n",
              "      <td>1.83</td>\n",
              "      <td>135</td>\n",
              "      <td>Male</td>\n",
              "      <td>False</td>\n",
              "      <td>True</td>\n",
              "    </tr>\n",
              "    <tr>\n",
              "      <th>71</th>\n",
              "      <td>58</td>\n",
              "      <td>False</td>\n",
              "      <td>True</td>\n",
              "      <td>35</td>\n",
              "      <td>False</td>\n",
              "      <td>122</td>\n",
              "      <td>0.90</td>\n",
              "      <td>139</td>\n",
              "      <td>Male</td>\n",
              "      <td>True</td>\n",
              "      <td>False</td>\n",
              "    </tr>\n",
              "    <tr>\n",
              "      <th>73</th>\n",
              "      <td>65</td>\n",
              "      <td>False</td>\n",
              "      <td>True</td>\n",
              "      <td>50</td>\n",
              "      <td>False</td>\n",
              "      <td>149</td>\n",
              "      <td>1.30</td>\n",
              "      <td>137</td>\n",
              "      <td>Male</td>\n",
              "      <td>True</td>\n",
              "      <td>False</td>\n",
              "    </tr>\n",
              "    <tr>\n",
              "      <th>85</th>\n",
              "      <td>51</td>\n",
              "      <td>False</td>\n",
              "      <td>False</td>\n",
              "      <td>50</td>\n",
              "      <td>False</td>\n",
              "      <td>406</td>\n",
              "      <td>0.70</td>\n",
              "      <td>140</td>\n",
              "      <td>Male</td>\n",
              "      <td>False</td>\n",
              "      <td>False</td>\n",
              "    </tr>\n",
              "    <tr>\n",
              "      <th>102</th>\n",
              "      <td>80</td>\n",
              "      <td>False</td>\n",
              "      <td>False</td>\n",
              "      <td>25</td>\n",
              "      <td>False</td>\n",
              "      <td>149</td>\n",
              "      <td>1.10</td>\n",
              "      <td>144</td>\n",
              "      <td>Male</td>\n",
              "      <td>True</td>\n",
              "      <td>False</td>\n",
              "    </tr>\n",
              "    <tr>\n",
              "      <th>105</th>\n",
              "      <td>72</td>\n",
              "      <td>True</td>\n",
              "      <td>False</td>\n",
              "      <td>30</td>\n",
              "      <td>True</td>\n",
              "      <td>621</td>\n",
              "      <td>1.70</td>\n",
              "      <td>138</td>\n",
              "      <td>Female</td>\n",
              "      <td>True</td>\n",
              "      <td>True</td>\n",
              "    </tr>\n",
              "    <tr>\n",
              "      <th>109</th>\n",
              "      <td>45</td>\n",
              "      <td>False</td>\n",
              "      <td>True</td>\n",
              "      <td>35</td>\n",
              "      <td>False</td>\n",
              "      <td>850</td>\n",
              "      <td>1.30</td>\n",
              "      <td>142</td>\n",
              "      <td>Male</td>\n",
              "      <td>True</td>\n",
              "      <td>False</td>\n",
              "    </tr>\n",
              "    <tr>\n",
              "      <th>117</th>\n",
              "      <td>85</td>\n",
              "      <td>True</td>\n",
              "      <td>False</td>\n",
              "      <td>60</td>\n",
              "      <td>False</td>\n",
              "      <td>507</td>\n",
              "      <td>3.20</td>\n",
              "      <td>138</td>\n",
              "      <td>Female</td>\n",
              "      <td>False</td>\n",
              "      <td>False</td>\n",
              "    </tr>\n",
              "    <tr>\n",
              "      <th>123</th>\n",
              "      <td>60</td>\n",
              "      <td>True</td>\n",
              "      <td>False</td>\n",
              "      <td>30</td>\n",
              "      <td>True</td>\n",
              "      <td>127</td>\n",
              "      <td>0.90</td>\n",
              "      <td>145</td>\n",
              "      <td>Female</td>\n",
              "      <td>False</td>\n",
              "      <td>False</td>\n",
              "    </tr>\n",
              "    <tr>\n",
              "      <th>162</th>\n",
              "      <td>63</td>\n",
              "      <td>True</td>\n",
              "      <td>False</td>\n",
              "      <td>40</td>\n",
              "      <td>False</td>\n",
              "      <td>448</td>\n",
              "      <td>0.90</td>\n",
              "      <td>137</td>\n",
              "      <td>Male</td>\n",
              "      <td>True</td>\n",
              "      <td>False</td>\n",
              "    </tr>\n",
              "    <tr>\n",
              "      <th>163</th>\n",
              "      <td>50</td>\n",
              "      <td>True</td>\n",
              "      <td>True</td>\n",
              "      <td>35</td>\n",
              "      <td>False</td>\n",
              "      <td>75</td>\n",
              "      <td>0.90</td>\n",
              "      <td>142</td>\n",
              "      <td>Female</td>\n",
              "      <td>False</td>\n",
              "      <td>True</td>\n",
              "    </tr>\n",
              "    <tr>\n",
              "      <th>167</th>\n",
              "      <td>59</td>\n",
              "      <td>False</td>\n",
              "      <td>True</td>\n",
              "      <td>20</td>\n",
              "      <td>False</td>\n",
              "      <td>70</td>\n",
              "      <td>2.40</td>\n",
              "      <td>134</td>\n",
              "      <td>Male</td>\n",
              "      <td>False</td>\n",
              "      <td>True</td>\n",
              "    </tr>\n",
              "    <tr>\n",
              "      <th>176</th>\n",
              "      <td>69</td>\n",
              "      <td>False</td>\n",
              "      <td>False</td>\n",
              "      <td>40</td>\n",
              "      <td>False</td>\n",
              "      <td>105</td>\n",
              "      <td>1.00</td>\n",
              "      <td>135</td>\n",
              "      <td>Male</td>\n",
              "      <td>True</td>\n",
              "      <td>False</td>\n",
              "    </tr>\n",
              "    <tr>\n",
              "      <th>177</th>\n",
              "      <td>49</td>\n",
              "      <td>True</td>\n",
              "      <td>False</td>\n",
              "      <td>50</td>\n",
              "      <td>False</td>\n",
              "      <td>132</td>\n",
              "      <td>1.00</td>\n",
              "      <td>140</td>\n",
              "      <td>Female</td>\n",
              "      <td>False</td>\n",
              "      <td>False</td>\n",
              "    </tr>\n",
              "    <tr>\n",
              "      <th>194</th>\n",
              "      <td>45</td>\n",
              "      <td>False</td>\n",
              "      <td>False</td>\n",
              "      <td>20</td>\n",
              "      <td>True</td>\n",
              "      <td>126</td>\n",
              "      <td>1.60</td>\n",
              "      <td>135</td>\n",
              "      <td>Male</td>\n",
              "      <td>False</td>\n",
              "      <td>True</td>\n",
              "    </tr>\n",
              "    <tr>\n",
              "      <th>200</th>\n",
              "      <td>63</td>\n",
              "      <td>True</td>\n",
              "      <td>False</td>\n",
              "      <td>45</td>\n",
              "      <td>False</td>\n",
              "      <td>73</td>\n",
              "      <td>0.70</td>\n",
              "      <td>137</td>\n",
              "      <td>Male</td>\n",
              "      <td>False</td>\n",
              "      <td>False</td>\n",
              "    </tr>\n",
              "    <tr>\n",
              "      <th>211</th>\n",
              "      <td>50</td>\n",
              "      <td>False</td>\n",
              "      <td>False</td>\n",
              "      <td>62</td>\n",
              "      <td>True</td>\n",
              "      <td>147</td>\n",
              "      <td>0.80</td>\n",
              "      <td>140</td>\n",
              "      <td>Male</td>\n",
              "      <td>True</td>\n",
              "      <td>False</td>\n",
              "    </tr>\n",
              "    <tr>\n",
              "      <th>212</th>\n",
              "      <td>78</td>\n",
              "      <td>False</td>\n",
              "      <td>False</td>\n",
              "      <td>50</td>\n",
              "      <td>False</td>\n",
              "      <td>481</td>\n",
              "      <td>1.40</td>\n",
              "      <td>138</td>\n",
              "      <td>Male</td>\n",
              "      <td>True</td>\n",
              "      <td>False</td>\n",
              "    </tr>\n",
              "    <tr>\n",
              "      <th>223</th>\n",
              "      <td>47</td>\n",
              "      <td>False</td>\n",
              "      <td>False</td>\n",
              "      <td>25</td>\n",
              "      <td>False</td>\n",
              "      <td>130</td>\n",
              "      <td>0.80</td>\n",
              "      <td>134</td>\n",
              "      <td>Male</td>\n",
              "      <td>False</td>\n",
              "      <td>False</td>\n",
              "    </tr>\n",
              "    <tr>\n",
              "      <th>224</th>\n",
              "      <td>58</td>\n",
              "      <td>False</td>\n",
              "      <td>True</td>\n",
              "      <td>25</td>\n",
              "      <td>False</td>\n",
              "      <td>504</td>\n",
              "      <td>1.00</td>\n",
              "      <td>138</td>\n",
              "      <td>Male</td>\n",
              "      <td>False</td>\n",
              "      <td>False</td>\n",
              "    </tr>\n",
              "    <tr>\n",
              "      <th>227</th>\n",
              "      <td>55</td>\n",
              "      <td>True</td>\n",
              "      <td>False</td>\n",
              "      <td>35</td>\n",
              "      <td>True</td>\n",
              "      <td>141</td>\n",
              "      <td>1.00</td>\n",
              "      <td>140</td>\n",
              "      <td>Male</td>\n",
              "      <td>False</td>\n",
              "      <td>False</td>\n",
              "    </tr>\n",
              "    <tr>\n",
              "      <th>230</th>\n",
              "      <td>60</td>\n",
              "      <td>False</td>\n",
              "      <td>False</td>\n",
              "      <td>30</td>\n",
              "      <td>False</td>\n",
              "      <td>62</td>\n",
              "      <td>1.70</td>\n",
              "      <td>127</td>\n",
              "      <td>Female</td>\n",
              "      <td>False</td>\n",
              "      <td>True</td>\n",
              "    </tr>\n",
              "    <tr>\n",
              "      <th>235</th>\n",
              "      <td>77</td>\n",
              "      <td>True</td>\n",
              "      <td>False</td>\n",
              "      <td>50</td>\n",
              "      <td>True</td>\n",
              "      <td>406</td>\n",
              "      <td>1.10</td>\n",
              "      <td>137</td>\n",
              "      <td>Male</td>\n",
              "      <td>False</td>\n",
              "      <td>False</td>\n",
              "    </tr>\n",
              "    <tr>\n",
              "      <th>240</th>\n",
              "      <td>70</td>\n",
              "      <td>False</td>\n",
              "      <td>True</td>\n",
              "      <td>35</td>\n",
              "      <td>True</td>\n",
              "      <td>533</td>\n",
              "      <td>1.30</td>\n",
              "      <td>139</td>\n",
              "      <td>Female</td>\n",
              "      <td>False</td>\n",
              "      <td>False</td>\n",
              "    </tr>\n",
              "    <tr>\n",
              "      <th>250</th>\n",
              "      <td>50</td>\n",
              "      <td>False</td>\n",
              "      <td>False</td>\n",
              "      <td>30</td>\n",
              "      <td>True</td>\n",
              "      <td>404</td>\n",
              "      <td>0.50</td>\n",
              "      <td>139</td>\n",
              "      <td>Female</td>\n",
              "      <td>False</td>\n",
              "      <td>False</td>\n",
              "    </tr>\n",
              "    <tr>\n",
              "      <th>264</th>\n",
              "      <td>61</td>\n",
              "      <td>False</td>\n",
              "      <td>True</td>\n",
              "      <td>38</td>\n",
              "      <td>False</td>\n",
              "      <td>147</td>\n",
              "      <td>1.20</td>\n",
              "      <td>141</td>\n",
              "      <td>Male</td>\n",
              "      <td>False</td>\n",
              "      <td>False</td>\n",
              "    </tr>\n",
              "    <tr>\n",
              "      <th>267</th>\n",
              "      <td>56</td>\n",
              "      <td>True</td>\n",
              "      <td>True</td>\n",
              "      <td>38</td>\n",
              "      <td>False</td>\n",
              "      <td>133</td>\n",
              "      <td>1.70</td>\n",
              "      <td>140</td>\n",
              "      <td>Male</td>\n",
              "      <td>False</td>\n",
              "      <td>False</td>\n",
              "    </tr>\n",
              "    <tr>\n",
              "      <th>275</th>\n",
              "      <td>45</td>\n",
              "      <td>False</td>\n",
              "      <td>False</td>\n",
              "      <td>38</td>\n",
              "      <td>True</td>\n",
              "      <td>422</td>\n",
              "      <td>0.80</td>\n",
              "      <td>137</td>\n",
              "      <td>Female</td>\n",
              "      <td>False</td>\n",
              "      <td>False</td>\n",
              "    </tr>\n",
              "    <tr>\n",
              "      <th>277</th>\n",
              "      <td>70</td>\n",
              "      <td>False</td>\n",
              "      <td>True</td>\n",
              "      <td>38</td>\n",
              "      <td>False</td>\n",
              "      <td>25</td>\n",
              "      <td>1.10</td>\n",
              "      <td>140</td>\n",
              "      <td>Male</td>\n",
              "      <td>False</td>\n",
              "      <td>False</td>\n",
              "    </tr>\n",
              "    <tr>\n",
              "      <th>279</th>\n",
              "      <td>55</td>\n",
              "      <td>False</td>\n",
              "      <td>True</td>\n",
              "      <td>38</td>\n",
              "      <td>False</td>\n",
              "      <td>451</td>\n",
              "      <td>1.30</td>\n",
              "      <td>136</td>\n",
              "      <td>Female</td>\n",
              "      <td>False</td>\n",
              "      <td>False</td>\n",
              "    </tr>\n",
              "    <tr>\n",
              "      <th>281</th>\n",
              "      <td>70</td>\n",
              "      <td>False</td>\n",
              "      <td>False</td>\n",
              "      <td>40</td>\n",
              "      <td>False</td>\n",
              "      <td>51</td>\n",
              "      <td>2.70</td>\n",
              "      <td>136</td>\n",
              "      <td>Male</td>\n",
              "      <td>True</td>\n",
              "      <td>False</td>\n",
              "    </tr>\n",
              "    <tr>\n",
              "      <th>287</th>\n",
              "      <td>45</td>\n",
              "      <td>False</td>\n",
              "      <td>True</td>\n",
              "      <td>55</td>\n",
              "      <td>False</td>\n",
              "      <td>543</td>\n",
              "      <td>1.00</td>\n",
              "      <td>132</td>\n",
              "      <td>Female</td>\n",
              "      <td>False</td>\n",
              "      <td>False</td>\n",
              "    </tr>\n",
              "    <tr>\n",
              "      <th>291</th>\n",
              "      <td>60</td>\n",
              "      <td>False</td>\n",
              "      <td>False</td>\n",
              "      <td>35</td>\n",
              "      <td>False</td>\n",
              "      <td>133</td>\n",
              "      <td>1.40</td>\n",
              "      <td>139</td>\n",
              "      <td>Male</td>\n",
              "      <td>False</td>\n",
              "      <td>False</td>\n",
              "    </tr>\n",
              "    <tr>\n",
              "      <th>296</th>\n",
              "      <td>45</td>\n",
              "      <td>False</td>\n",
              "      <td>True</td>\n",
              "      <td>60</td>\n",
              "      <td>False</td>\n",
              "      <td>742</td>\n",
              "      <td>0.80</td>\n",
              "      <td>138</td>\n",
              "      <td>Female</td>\n",
              "      <td>False</td>\n",
              "      <td>False</td>\n",
              "    </tr>\n",
              "    <tr>\n",
              "      <th>297</th>\n",
              "      <td>45</td>\n",
              "      <td>False</td>\n",
              "      <td>False</td>\n",
              "      <td>38</td>\n",
              "      <td>False</td>\n",
              "      <td>140</td>\n",
              "      <td>1.40</td>\n",
              "      <td>140</td>\n",
              "      <td>Male</td>\n",
              "      <td>True</td>\n",
              "      <td>False</td>\n",
              "    </tr>\n",
              "  </tbody>\n",
              "</table>\n",
              "</div>\n",
              "      <button class=\"colab-df-convert\" onclick=\"convertToInteractive('df-5c3b80fc-7b07-4012-8431-adb6e911afb1')\"\n",
              "              title=\"Convert this dataframe to an interactive table.\"\n",
              "              style=\"display:none;\">\n",
              "        \n",
              "  <svg xmlns=\"http://www.w3.org/2000/svg\" height=\"24px\"viewBox=\"0 0 24 24\"\n",
              "       width=\"24px\">\n",
              "    <path d=\"M0 0h24v24H0V0z\" fill=\"none\"/>\n",
              "    <path d=\"M18.56 5.44l.94 2.06.94-2.06 2.06-.94-2.06-.94-.94-2.06-.94 2.06-2.06.94zm-11 1L8.5 8.5l.94-2.06 2.06-.94-2.06-.94L8.5 2.5l-.94 2.06-2.06.94zm10 10l.94 2.06.94-2.06 2.06-.94-2.06-.94-.94-2.06-.94 2.06-2.06.94z\"/><path d=\"M17.41 7.96l-1.37-1.37c-.4-.4-.92-.59-1.43-.59-.52 0-1.04.2-1.43.59L10.3 9.45l-7.72 7.72c-.78.78-.78 2.05 0 2.83L4 21.41c.39.39.9.59 1.41.59.51 0 1.02-.2 1.41-.59l7.78-7.78 2.81-2.81c.8-.78.8-2.07 0-2.86zM5.41 20L4 18.59l7.72-7.72 1.47 1.35L5.41 20z\"/>\n",
              "  </svg>\n",
              "      </button>\n",
              "      \n",
              "  <style>\n",
              "    .colab-df-container {\n",
              "      display:flex;\n",
              "      flex-wrap:wrap;\n",
              "      gap: 12px;\n",
              "    }\n",
              "\n",
              "    .colab-df-convert {\n",
              "      background-color: #E8F0FE;\n",
              "      border: none;\n",
              "      border-radius: 50%;\n",
              "      cursor: pointer;\n",
              "      display: none;\n",
              "      fill: #1967D2;\n",
              "      height: 32px;\n",
              "      padding: 0 0 0 0;\n",
              "      width: 32px;\n",
              "    }\n",
              "\n",
              "    .colab-df-convert:hover {\n",
              "      background-color: #E2EBFA;\n",
              "      box-shadow: 0px 1px 2px rgba(60, 64, 67, 0.3), 0px 1px 3px 1px rgba(60, 64, 67, 0.15);\n",
              "      fill: #174EA6;\n",
              "    }\n",
              "\n",
              "    [theme=dark] .colab-df-convert {\n",
              "      background-color: #3B4455;\n",
              "      fill: #D2E3FC;\n",
              "    }\n",
              "\n",
              "    [theme=dark] .colab-df-convert:hover {\n",
              "      background-color: #434B5C;\n",
              "      box-shadow: 0px 1px 3px 1px rgba(0, 0, 0, 0.15);\n",
              "      filter: drop-shadow(0px 1px 2px rgba(0, 0, 0, 0.3));\n",
              "      fill: #FFFFFF;\n",
              "    }\n",
              "  </style>\n",
              "\n",
              "      <script>\n",
              "        const buttonEl =\n",
              "          document.querySelector('#df-5c3b80fc-7b07-4012-8431-adb6e911afb1 button.colab-df-convert');\n",
              "        buttonEl.style.display =\n",
              "          google.colab.kernel.accessAllowed ? 'block' : 'none';\n",
              "\n",
              "        async function convertToInteractive(key) {\n",
              "          const element = document.querySelector('#df-5c3b80fc-7b07-4012-8431-adb6e911afb1');\n",
              "          const dataTable =\n",
              "            await google.colab.kernel.invokeFunction('convertToInteractive',\n",
              "                                                     [key], {});\n",
              "          if (!dataTable) return;\n",
              "\n",
              "          const docLinkHtml = 'Like what you see? Visit the ' +\n",
              "            '<a target=\"_blank\" href=https://colab.research.google.com/notebooks/data_table.ipynb>data table notebook</a>'\n",
              "            + ' to learn more about interactive tables.';\n",
              "          element.innerHTML = '';\n",
              "          dataTable['output_type'] = 'display_data';\n",
              "          await google.colab.output.renderOutput(dataTable, element);\n",
              "          const docLink = document.createElement('div');\n",
              "          docLink.innerHTML = docLinkHtml;\n",
              "          element.appendChild(docLink);\n",
              "        }\n",
              "      </script>\n",
              "    </div>\n",
              "  </div>\n",
              "  "
            ]
          },
          "metadata": {},
          "execution_count": 34
        }
      ],
      "source": [
        "abn_platelets = heart_failure_df[(heart_failure_df.platelets < 150) | (heart_failure_df.platelets >400)]\n",
        "abn_platelets "
      ]
    },
    {
      "cell_type": "markdown",
      "metadata": {
        "id": "pejoT9oQKOgI"
      },
      "source": [
        "<p> The normal value of Platelets Count ranges from 150 -  400 kilo-platelets / mcL. Here, we found that there are <b>47 patients with abnormal Platelets Count.</b></p>"
      ]
    },
    {
      "cell_type": "markdown",
      "metadata": {
        "id": "5-QQ6KK6KOgJ"
      },
      "source": [
        "#### Number of Patients with Abnormal Creatinine level in the blood "
      ]
    },
    {
      "cell_type": "code",
      "execution_count": 35,
      "metadata": {
        "colab": {
          "base_uri": "https://localhost:8080/",
          "height": 36
        },
        "id": "_i5OyWXdKOgJ",
        "outputId": "79cfa619-f5f9-4d5c-ab27-02d80213143b"
      },
      "outputs": [
        {
          "output_type": "execute_result",
          "data": {
            "text/plain": [
              "'0.6 - 1.2 mg/dL'"
            ],
            "application/vnd.google.colaboratory.intrinsic+json": {
              "type": "string"
            }
          },
          "metadata": {},
          "execution_count": 35
        }
      ],
      "source": [
        "#to find the normal value of Creatinine level in the blood \n",
        "column_details_df.normal_value['serum_creatinine']"
      ]
    },
    {
      "cell_type": "code",
      "execution_count": 36,
      "metadata": {
        "colab": {
          "base_uri": "https://localhost:8080/",
          "height": 467
        },
        "id": "P0yRBlwsKOgJ",
        "outputId": "276dd821-9dc5-4854-c9e5-c9c3464fd99b"
      },
      "outputs": [
        {
          "output_type": "execute_result",
          "data": {
            "text/plain": [
              "     age  anaemia  diabetes  ejection_fraction  high_blood_pressure  \\\n",
              "0     75    False     False                 20                 True   \n",
              "2     65    False     False                 20                False   \n",
              "3     50     True     False                 20                False   \n",
              "4     65     True      True                 20                False   \n",
              "5     90     True     False                 40                 True   \n",
              "..   ...      ...       ...                ...                  ...   \n",
              "282   42    False     False                 30                False   \n",
              "286   60    False     False                 35                False   \n",
              "291   60    False     False                 35                False   \n",
              "297   45    False     False                 38                False   \n",
              "298   50    False     False                 45                False   \n",
              "\n",
              "     platelets  serum_creatinine  serum_sodium     sex  smoking  patient_dead  \n",
              "0          265               1.9           130    Male    False          True  \n",
              "2          162               1.3           129    Male     True          True  \n",
              "3          210               1.9           137    Male    False          True  \n",
              "4          327               2.7           116  Female    False          True  \n",
              "5          204               2.1           132    Male     True          True  \n",
              "..         ...               ...           ...     ...      ...           ...  \n",
              "282        215               3.8           128    Male     True         False  \n",
              "286        279               1.7           140    Male    False         False  \n",
              "291        133               1.4           139    Male    False         False  \n",
              "297        140               1.4           140    Male     True         False  \n",
              "298        395               1.6           136    Male     True         False  \n",
              "\n",
              "[102 rows x 11 columns]"
            ],
            "text/html": [
              "\n",
              "  <div id=\"df-46869c29-52f9-4030-9059-652534740125\">\n",
              "    <div class=\"colab-df-container\">\n",
              "      <div>\n",
              "<style scoped>\n",
              "    .dataframe tbody tr th:only-of-type {\n",
              "        vertical-align: middle;\n",
              "    }\n",
              "\n",
              "    .dataframe tbody tr th {\n",
              "        vertical-align: top;\n",
              "    }\n",
              "\n",
              "    .dataframe thead th {\n",
              "        text-align: right;\n",
              "    }\n",
              "</style>\n",
              "<table border=\"1\" class=\"dataframe\">\n",
              "  <thead>\n",
              "    <tr style=\"text-align: right;\">\n",
              "      <th></th>\n",
              "      <th>age</th>\n",
              "      <th>anaemia</th>\n",
              "      <th>diabetes</th>\n",
              "      <th>ejection_fraction</th>\n",
              "      <th>high_blood_pressure</th>\n",
              "      <th>platelets</th>\n",
              "      <th>serum_creatinine</th>\n",
              "      <th>serum_sodium</th>\n",
              "      <th>sex</th>\n",
              "      <th>smoking</th>\n",
              "      <th>patient_dead</th>\n",
              "    </tr>\n",
              "  </thead>\n",
              "  <tbody>\n",
              "    <tr>\n",
              "      <th>0</th>\n",
              "      <td>75</td>\n",
              "      <td>False</td>\n",
              "      <td>False</td>\n",
              "      <td>20</td>\n",
              "      <td>True</td>\n",
              "      <td>265</td>\n",
              "      <td>1.9</td>\n",
              "      <td>130</td>\n",
              "      <td>Male</td>\n",
              "      <td>False</td>\n",
              "      <td>True</td>\n",
              "    </tr>\n",
              "    <tr>\n",
              "      <th>2</th>\n",
              "      <td>65</td>\n",
              "      <td>False</td>\n",
              "      <td>False</td>\n",
              "      <td>20</td>\n",
              "      <td>False</td>\n",
              "      <td>162</td>\n",
              "      <td>1.3</td>\n",
              "      <td>129</td>\n",
              "      <td>Male</td>\n",
              "      <td>True</td>\n",
              "      <td>True</td>\n",
              "    </tr>\n",
              "    <tr>\n",
              "      <th>3</th>\n",
              "      <td>50</td>\n",
              "      <td>True</td>\n",
              "      <td>False</td>\n",
              "      <td>20</td>\n",
              "      <td>False</td>\n",
              "      <td>210</td>\n",
              "      <td>1.9</td>\n",
              "      <td>137</td>\n",
              "      <td>Male</td>\n",
              "      <td>False</td>\n",
              "      <td>True</td>\n",
              "    </tr>\n",
              "    <tr>\n",
              "      <th>4</th>\n",
              "      <td>65</td>\n",
              "      <td>True</td>\n",
              "      <td>True</td>\n",
              "      <td>20</td>\n",
              "      <td>False</td>\n",
              "      <td>327</td>\n",
              "      <td>2.7</td>\n",
              "      <td>116</td>\n",
              "      <td>Female</td>\n",
              "      <td>False</td>\n",
              "      <td>True</td>\n",
              "    </tr>\n",
              "    <tr>\n",
              "      <th>5</th>\n",
              "      <td>90</td>\n",
              "      <td>True</td>\n",
              "      <td>False</td>\n",
              "      <td>40</td>\n",
              "      <td>True</td>\n",
              "      <td>204</td>\n",
              "      <td>2.1</td>\n",
              "      <td>132</td>\n",
              "      <td>Male</td>\n",
              "      <td>True</td>\n",
              "      <td>True</td>\n",
              "    </tr>\n",
              "    <tr>\n",
              "      <th>...</th>\n",
              "      <td>...</td>\n",
              "      <td>...</td>\n",
              "      <td>...</td>\n",
              "      <td>...</td>\n",
              "      <td>...</td>\n",
              "      <td>...</td>\n",
              "      <td>...</td>\n",
              "      <td>...</td>\n",
              "      <td>...</td>\n",
              "      <td>...</td>\n",
              "      <td>...</td>\n",
              "    </tr>\n",
              "    <tr>\n",
              "      <th>282</th>\n",
              "      <td>42</td>\n",
              "      <td>False</td>\n",
              "      <td>False</td>\n",
              "      <td>30</td>\n",
              "      <td>False</td>\n",
              "      <td>215</td>\n",
              "      <td>3.8</td>\n",
              "      <td>128</td>\n",
              "      <td>Male</td>\n",
              "      <td>True</td>\n",
              "      <td>False</td>\n",
              "    </tr>\n",
              "    <tr>\n",
              "      <th>286</th>\n",
              "      <td>60</td>\n",
              "      <td>False</td>\n",
              "      <td>False</td>\n",
              "      <td>35</td>\n",
              "      <td>False</td>\n",
              "      <td>279</td>\n",
              "      <td>1.7</td>\n",
              "      <td>140</td>\n",
              "      <td>Male</td>\n",
              "      <td>False</td>\n",
              "      <td>False</td>\n",
              "    </tr>\n",
              "    <tr>\n",
              "      <th>291</th>\n",
              "      <td>60</td>\n",
              "      <td>False</td>\n",
              "      <td>False</td>\n",
              "      <td>35</td>\n",
              "      <td>False</td>\n",
              "      <td>133</td>\n",
              "      <td>1.4</td>\n",
              "      <td>139</td>\n",
              "      <td>Male</td>\n",
              "      <td>False</td>\n",
              "      <td>False</td>\n",
              "    </tr>\n",
              "    <tr>\n",
              "      <th>297</th>\n",
              "      <td>45</td>\n",
              "      <td>False</td>\n",
              "      <td>False</td>\n",
              "      <td>38</td>\n",
              "      <td>False</td>\n",
              "      <td>140</td>\n",
              "      <td>1.4</td>\n",
              "      <td>140</td>\n",
              "      <td>Male</td>\n",
              "      <td>True</td>\n",
              "      <td>False</td>\n",
              "    </tr>\n",
              "    <tr>\n",
              "      <th>298</th>\n",
              "      <td>50</td>\n",
              "      <td>False</td>\n",
              "      <td>False</td>\n",
              "      <td>45</td>\n",
              "      <td>False</td>\n",
              "      <td>395</td>\n",
              "      <td>1.6</td>\n",
              "      <td>136</td>\n",
              "      <td>Male</td>\n",
              "      <td>True</td>\n",
              "      <td>False</td>\n",
              "    </tr>\n",
              "  </tbody>\n",
              "</table>\n",
              "<p>102 rows × 11 columns</p>\n",
              "</div>\n",
              "      <button class=\"colab-df-convert\" onclick=\"convertToInteractive('df-46869c29-52f9-4030-9059-652534740125')\"\n",
              "              title=\"Convert this dataframe to an interactive table.\"\n",
              "              style=\"display:none;\">\n",
              "        \n",
              "  <svg xmlns=\"http://www.w3.org/2000/svg\" height=\"24px\"viewBox=\"0 0 24 24\"\n",
              "       width=\"24px\">\n",
              "    <path d=\"M0 0h24v24H0V0z\" fill=\"none\"/>\n",
              "    <path d=\"M18.56 5.44l.94 2.06.94-2.06 2.06-.94-2.06-.94-.94-2.06-.94 2.06-2.06.94zm-11 1L8.5 8.5l.94-2.06 2.06-.94-2.06-.94L8.5 2.5l-.94 2.06-2.06.94zm10 10l.94 2.06.94-2.06 2.06-.94-2.06-.94-.94-2.06-.94 2.06-2.06.94z\"/><path d=\"M17.41 7.96l-1.37-1.37c-.4-.4-.92-.59-1.43-.59-.52 0-1.04.2-1.43.59L10.3 9.45l-7.72 7.72c-.78.78-.78 2.05 0 2.83L4 21.41c.39.39.9.59 1.41.59.51 0 1.02-.2 1.41-.59l7.78-7.78 2.81-2.81c.8-.78.8-2.07 0-2.86zM5.41 20L4 18.59l7.72-7.72 1.47 1.35L5.41 20z\"/>\n",
              "  </svg>\n",
              "      </button>\n",
              "      \n",
              "  <style>\n",
              "    .colab-df-container {\n",
              "      display:flex;\n",
              "      flex-wrap:wrap;\n",
              "      gap: 12px;\n",
              "    }\n",
              "\n",
              "    .colab-df-convert {\n",
              "      background-color: #E8F0FE;\n",
              "      border: none;\n",
              "      border-radius: 50%;\n",
              "      cursor: pointer;\n",
              "      display: none;\n",
              "      fill: #1967D2;\n",
              "      height: 32px;\n",
              "      padding: 0 0 0 0;\n",
              "      width: 32px;\n",
              "    }\n",
              "\n",
              "    .colab-df-convert:hover {\n",
              "      background-color: #E2EBFA;\n",
              "      box-shadow: 0px 1px 2px rgba(60, 64, 67, 0.3), 0px 1px 3px 1px rgba(60, 64, 67, 0.15);\n",
              "      fill: #174EA6;\n",
              "    }\n",
              "\n",
              "    [theme=dark] .colab-df-convert {\n",
              "      background-color: #3B4455;\n",
              "      fill: #D2E3FC;\n",
              "    }\n",
              "\n",
              "    [theme=dark] .colab-df-convert:hover {\n",
              "      background-color: #434B5C;\n",
              "      box-shadow: 0px 1px 3px 1px rgba(0, 0, 0, 0.15);\n",
              "      filter: drop-shadow(0px 1px 2px rgba(0, 0, 0, 0.3));\n",
              "      fill: #FFFFFF;\n",
              "    }\n",
              "  </style>\n",
              "\n",
              "      <script>\n",
              "        const buttonEl =\n",
              "          document.querySelector('#df-46869c29-52f9-4030-9059-652534740125 button.colab-df-convert');\n",
              "        buttonEl.style.display =\n",
              "          google.colab.kernel.accessAllowed ? 'block' : 'none';\n",
              "\n",
              "        async function convertToInteractive(key) {\n",
              "          const element = document.querySelector('#df-46869c29-52f9-4030-9059-652534740125');\n",
              "          const dataTable =\n",
              "            await google.colab.kernel.invokeFunction('convertToInteractive',\n",
              "                                                     [key], {});\n",
              "          if (!dataTable) return;\n",
              "\n",
              "          const docLinkHtml = 'Like what you see? Visit the ' +\n",
              "            '<a target=\"_blank\" href=https://colab.research.google.com/notebooks/data_table.ipynb>data table notebook</a>'\n",
              "            + ' to learn more about interactive tables.';\n",
              "          element.innerHTML = '';\n",
              "          dataTable['output_type'] = 'display_data';\n",
              "          await google.colab.output.renderOutput(dataTable, element);\n",
              "          const docLink = document.createElement('div');\n",
              "          docLink.innerHTML = docLinkHtml;\n",
              "          element.appendChild(docLink);\n",
              "        }\n",
              "      </script>\n",
              "    </div>\n",
              "  </div>\n",
              "  "
            ]
          },
          "metadata": {},
          "execution_count": 36
        }
      ],
      "source": [
        "abn_creatinine = heart_failure_df[(heart_failure_df.serum_creatinine < 0.6) | (heart_failure_df.serum_creatinine >1.2)]\n",
        "abn_creatinine "
      ]
    },
    {
      "cell_type": "markdown",
      "metadata": {
        "id": "REjj4j1vKOgK"
      },
      "source": [
        "  <p style='text-align:justify;'> The normal value of Platelets Count ranges from 0.6 - 1.2 mg/dL. Here, we found that there are <b>102 patients with abnormal Creatinine level in the blood.</b></p>"
      ]
    },
    {
      "cell_type": "markdown",
      "metadata": {
        "id": "mh-TAh6WKOgK"
      },
      "source": [
        "#### Number of Patients with Abnormal Sodium level in the blood"
      ]
    },
    {
      "cell_type": "code",
      "execution_count": 37,
      "metadata": {
        "colab": {
          "base_uri": "https://localhost:8080/",
          "height": 36
        },
        "id": "8w3xINBuKOgL",
        "outputId": "fe384ba2-4d86-4ed4-fb8a-12f7cacd0e4b"
      },
      "outputs": [
        {
          "output_type": "execute_result",
          "data": {
            "text/plain": [
              "'135 - 145 mEq /L'"
            ],
            "application/vnd.google.colaboratory.intrinsic+json": {
              "type": "string"
            }
          },
          "metadata": {},
          "execution_count": 37
        }
      ],
      "source": [
        "#to find the normal value of Sodium level in the blood \n",
        "column_details_df.normal_value['serum_sodium']"
      ]
    },
    {
      "cell_type": "code",
      "execution_count": 38,
      "metadata": {
        "colab": {
          "base_uri": "https://localhost:8080/",
          "height": 467
        },
        "id": "gFs6nsZEKOgL",
        "outputId": "20afa52c-798d-4aa7-974d-d53b534c97be"
      },
      "outputs": [
        {
          "output_type": "execute_result",
          "data": {
            "text/plain": [
              "     age  anaemia  diabetes  ejection_fraction  high_blood_pressure  \\\n",
              "0     75    False     False                 20                 True   \n",
              "2     65    False     False                 20                False   \n",
              "4     65     True      True                 20                False   \n",
              "5     90     True     False                 40                 True   \n",
              "7     60     True      True                 60                False   \n",
              "..   ...      ...       ...                ...                  ...   \n",
              "270   44    False      True                 30                 True   \n",
              "271   51    False      True                 40                False   \n",
              "272   67    False     False                 38                False   \n",
              "282   42    False     False                 30                False   \n",
              "287   45    False      True                 55                False   \n",
              "\n",
              "     platelets  serum_creatinine  serum_sodium     sex  smoking  patient_dead  \n",
              "0          265               1.9           130    Male    False          True  \n",
              "2          162               1.3           129    Male     True          True  \n",
              "4          327               2.7           116  Female    False          True  \n",
              "5          204               2.1           132    Male     True          True  \n",
              "7          454               1.1           131    Male     True          True  \n",
              "..         ...               ...           ...     ...      ...           ...  \n",
              "270        263               1.6           130    Male     True         False  \n",
              "271        221               0.9           134  Female    False         False  \n",
              "272        215               1.2           133  Female    False         False  \n",
              "282        215               3.8           128    Male     True         False  \n",
              "287        543               1.0           132  Female    False         False  \n",
              "\n",
              "[85 rows x 11 columns]"
            ],
            "text/html": [
              "\n",
              "  <div id=\"df-30ebdb63-d3c7-49fa-b68d-0375e5d1a02d\">\n",
              "    <div class=\"colab-df-container\">\n",
              "      <div>\n",
              "<style scoped>\n",
              "    .dataframe tbody tr th:only-of-type {\n",
              "        vertical-align: middle;\n",
              "    }\n",
              "\n",
              "    .dataframe tbody tr th {\n",
              "        vertical-align: top;\n",
              "    }\n",
              "\n",
              "    .dataframe thead th {\n",
              "        text-align: right;\n",
              "    }\n",
              "</style>\n",
              "<table border=\"1\" class=\"dataframe\">\n",
              "  <thead>\n",
              "    <tr style=\"text-align: right;\">\n",
              "      <th></th>\n",
              "      <th>age</th>\n",
              "      <th>anaemia</th>\n",
              "      <th>diabetes</th>\n",
              "      <th>ejection_fraction</th>\n",
              "      <th>high_blood_pressure</th>\n",
              "      <th>platelets</th>\n",
              "      <th>serum_creatinine</th>\n",
              "      <th>serum_sodium</th>\n",
              "      <th>sex</th>\n",
              "      <th>smoking</th>\n",
              "      <th>patient_dead</th>\n",
              "    </tr>\n",
              "  </thead>\n",
              "  <tbody>\n",
              "    <tr>\n",
              "      <th>0</th>\n",
              "      <td>75</td>\n",
              "      <td>False</td>\n",
              "      <td>False</td>\n",
              "      <td>20</td>\n",
              "      <td>True</td>\n",
              "      <td>265</td>\n",
              "      <td>1.9</td>\n",
              "      <td>130</td>\n",
              "      <td>Male</td>\n",
              "      <td>False</td>\n",
              "      <td>True</td>\n",
              "    </tr>\n",
              "    <tr>\n",
              "      <th>2</th>\n",
              "      <td>65</td>\n",
              "      <td>False</td>\n",
              "      <td>False</td>\n",
              "      <td>20</td>\n",
              "      <td>False</td>\n",
              "      <td>162</td>\n",
              "      <td>1.3</td>\n",
              "      <td>129</td>\n",
              "      <td>Male</td>\n",
              "      <td>True</td>\n",
              "      <td>True</td>\n",
              "    </tr>\n",
              "    <tr>\n",
              "      <th>4</th>\n",
              "      <td>65</td>\n",
              "      <td>True</td>\n",
              "      <td>True</td>\n",
              "      <td>20</td>\n",
              "      <td>False</td>\n",
              "      <td>327</td>\n",
              "      <td>2.7</td>\n",
              "      <td>116</td>\n",
              "      <td>Female</td>\n",
              "      <td>False</td>\n",
              "      <td>True</td>\n",
              "    </tr>\n",
              "    <tr>\n",
              "      <th>5</th>\n",
              "      <td>90</td>\n",
              "      <td>True</td>\n",
              "      <td>False</td>\n",
              "      <td>40</td>\n",
              "      <td>True</td>\n",
              "      <td>204</td>\n",
              "      <td>2.1</td>\n",
              "      <td>132</td>\n",
              "      <td>Male</td>\n",
              "      <td>True</td>\n",
              "      <td>True</td>\n",
              "    </tr>\n",
              "    <tr>\n",
              "      <th>7</th>\n",
              "      <td>60</td>\n",
              "      <td>True</td>\n",
              "      <td>True</td>\n",
              "      <td>60</td>\n",
              "      <td>False</td>\n",
              "      <td>454</td>\n",
              "      <td>1.1</td>\n",
              "      <td>131</td>\n",
              "      <td>Male</td>\n",
              "      <td>True</td>\n",
              "      <td>True</td>\n",
              "    </tr>\n",
              "    <tr>\n",
              "      <th>...</th>\n",
              "      <td>...</td>\n",
              "      <td>...</td>\n",
              "      <td>...</td>\n",
              "      <td>...</td>\n",
              "      <td>...</td>\n",
              "      <td>...</td>\n",
              "      <td>...</td>\n",
              "      <td>...</td>\n",
              "      <td>...</td>\n",
              "      <td>...</td>\n",
              "      <td>...</td>\n",
              "    </tr>\n",
              "    <tr>\n",
              "      <th>270</th>\n",
              "      <td>44</td>\n",
              "      <td>False</td>\n",
              "      <td>True</td>\n",
              "      <td>30</td>\n",
              "      <td>True</td>\n",
              "      <td>263</td>\n",
              "      <td>1.6</td>\n",
              "      <td>130</td>\n",
              "      <td>Male</td>\n",
              "      <td>True</td>\n",
              "      <td>False</td>\n",
              "    </tr>\n",
              "    <tr>\n",
              "      <th>271</th>\n",
              "      <td>51</td>\n",
              "      <td>False</td>\n",
              "      <td>True</td>\n",
              "      <td>40</td>\n",
              "      <td>False</td>\n",
              "      <td>221</td>\n",
              "      <td>0.9</td>\n",
              "      <td>134</td>\n",
              "      <td>Female</td>\n",
              "      <td>False</td>\n",
              "      <td>False</td>\n",
              "    </tr>\n",
              "    <tr>\n",
              "      <th>272</th>\n",
              "      <td>67</td>\n",
              "      <td>False</td>\n",
              "      <td>False</td>\n",
              "      <td>38</td>\n",
              "      <td>False</td>\n",
              "      <td>215</td>\n",
              "      <td>1.2</td>\n",
              "      <td>133</td>\n",
              "      <td>Female</td>\n",
              "      <td>False</td>\n",
              "      <td>False</td>\n",
              "    </tr>\n",
              "    <tr>\n",
              "      <th>282</th>\n",
              "      <td>42</td>\n",
              "      <td>False</td>\n",
              "      <td>False</td>\n",
              "      <td>30</td>\n",
              "      <td>False</td>\n",
              "      <td>215</td>\n",
              "      <td>3.8</td>\n",
              "      <td>128</td>\n",
              "      <td>Male</td>\n",
              "      <td>True</td>\n",
              "      <td>False</td>\n",
              "    </tr>\n",
              "    <tr>\n",
              "      <th>287</th>\n",
              "      <td>45</td>\n",
              "      <td>False</td>\n",
              "      <td>True</td>\n",
              "      <td>55</td>\n",
              "      <td>False</td>\n",
              "      <td>543</td>\n",
              "      <td>1.0</td>\n",
              "      <td>132</td>\n",
              "      <td>Female</td>\n",
              "      <td>False</td>\n",
              "      <td>False</td>\n",
              "    </tr>\n",
              "  </tbody>\n",
              "</table>\n",
              "<p>85 rows × 11 columns</p>\n",
              "</div>\n",
              "      <button class=\"colab-df-convert\" onclick=\"convertToInteractive('df-30ebdb63-d3c7-49fa-b68d-0375e5d1a02d')\"\n",
              "              title=\"Convert this dataframe to an interactive table.\"\n",
              "              style=\"display:none;\">\n",
              "        \n",
              "  <svg xmlns=\"http://www.w3.org/2000/svg\" height=\"24px\"viewBox=\"0 0 24 24\"\n",
              "       width=\"24px\">\n",
              "    <path d=\"M0 0h24v24H0V0z\" fill=\"none\"/>\n",
              "    <path d=\"M18.56 5.44l.94 2.06.94-2.06 2.06-.94-2.06-.94-.94-2.06-.94 2.06-2.06.94zm-11 1L8.5 8.5l.94-2.06 2.06-.94-2.06-.94L8.5 2.5l-.94 2.06-2.06.94zm10 10l.94 2.06.94-2.06 2.06-.94-2.06-.94-.94-2.06-.94 2.06-2.06.94z\"/><path d=\"M17.41 7.96l-1.37-1.37c-.4-.4-.92-.59-1.43-.59-.52 0-1.04.2-1.43.59L10.3 9.45l-7.72 7.72c-.78.78-.78 2.05 0 2.83L4 21.41c.39.39.9.59 1.41.59.51 0 1.02-.2 1.41-.59l7.78-7.78 2.81-2.81c.8-.78.8-2.07 0-2.86zM5.41 20L4 18.59l7.72-7.72 1.47 1.35L5.41 20z\"/>\n",
              "  </svg>\n",
              "      </button>\n",
              "      \n",
              "  <style>\n",
              "    .colab-df-container {\n",
              "      display:flex;\n",
              "      flex-wrap:wrap;\n",
              "      gap: 12px;\n",
              "    }\n",
              "\n",
              "    .colab-df-convert {\n",
              "      background-color: #E8F0FE;\n",
              "      border: none;\n",
              "      border-radius: 50%;\n",
              "      cursor: pointer;\n",
              "      display: none;\n",
              "      fill: #1967D2;\n",
              "      height: 32px;\n",
              "      padding: 0 0 0 0;\n",
              "      width: 32px;\n",
              "    }\n",
              "\n",
              "    .colab-df-convert:hover {\n",
              "      background-color: #E2EBFA;\n",
              "      box-shadow: 0px 1px 2px rgba(60, 64, 67, 0.3), 0px 1px 3px 1px rgba(60, 64, 67, 0.15);\n",
              "      fill: #174EA6;\n",
              "    }\n",
              "\n",
              "    [theme=dark] .colab-df-convert {\n",
              "      background-color: #3B4455;\n",
              "      fill: #D2E3FC;\n",
              "    }\n",
              "\n",
              "    [theme=dark] .colab-df-convert:hover {\n",
              "      background-color: #434B5C;\n",
              "      box-shadow: 0px 1px 3px 1px rgba(0, 0, 0, 0.15);\n",
              "      filter: drop-shadow(0px 1px 2px rgba(0, 0, 0, 0.3));\n",
              "      fill: #FFFFFF;\n",
              "    }\n",
              "  </style>\n",
              "\n",
              "      <script>\n",
              "        const buttonEl =\n",
              "          document.querySelector('#df-30ebdb63-d3c7-49fa-b68d-0375e5d1a02d button.colab-df-convert');\n",
              "        buttonEl.style.display =\n",
              "          google.colab.kernel.accessAllowed ? 'block' : 'none';\n",
              "\n",
              "        async function convertToInteractive(key) {\n",
              "          const element = document.querySelector('#df-30ebdb63-d3c7-49fa-b68d-0375e5d1a02d');\n",
              "          const dataTable =\n",
              "            await google.colab.kernel.invokeFunction('convertToInteractive',\n",
              "                                                     [key], {});\n",
              "          if (!dataTable) return;\n",
              "\n",
              "          const docLinkHtml = 'Like what you see? Visit the ' +\n",
              "            '<a target=\"_blank\" href=https://colab.research.google.com/notebooks/data_table.ipynb>data table notebook</a>'\n",
              "            + ' to learn more about interactive tables.';\n",
              "          element.innerHTML = '';\n",
              "          dataTable['output_type'] = 'display_data';\n",
              "          await google.colab.output.renderOutput(dataTable, element);\n",
              "          const docLink = document.createElement('div');\n",
              "          docLink.innerHTML = docLinkHtml;\n",
              "          element.appendChild(docLink);\n",
              "        }\n",
              "      </script>\n",
              "    </div>\n",
              "  </div>\n",
              "  "
            ]
          },
          "metadata": {},
          "execution_count": 38
        }
      ],
      "source": [
        "abn_sodium = heart_failure_df[(heart_failure_df.serum_sodium < 135) | (heart_failure_df.serum_sodium >145)]\n",
        "abn_sodium "
      ]
    },
    {
      "cell_type": "markdown",
      "metadata": {
        "id": "GLMmmtQUKOgM"
      },
      "source": [
        "  <p style='text-align:justify;'> The normal value of Sodium level in the blood ranges from 135 - 145 mEq/L. Here, we found that there are <b>85 patients with abnormal Sodium level in the blood.</b></p>    "
      ]
    },
    {
      "cell_type": "markdown",
      "metadata": {
        "id": "HqvZIbilKOgM"
      },
      "source": [
        "### Sample Data\n",
        "  <p style='text-align:justify;'> \n",
        "We've now cleaned up and prepared the dataset for our analysis. Let's take a look at a sample of rows from the data frame.</p>"
      ]
    },
    {
      "cell_type": "code",
      "execution_count": 39,
      "metadata": {
        "colab": {
          "base_uri": "https://localhost:8080/",
          "height": 250
        },
        "id": "K5Qaa7nEKOgM",
        "outputId": "2785cc43-581d-4f68-9797-b7b58484210d"
      },
      "outputs": [
        {
          "output_type": "execute_result",
          "data": {
            "text/plain": [
              "     age  anaemia  diabetes  ejection_fraction  high_blood_pressure  \\\n",
              "193   73     True      True                 30                False   \n",
              "164   45    False      True                 30                False   \n",
              "0     75    False     False                 20                 True   \n",
              "228   65    False     False                 25                False   \n",
              "239   55     True     False                 45                False   \n",
              "\n",
              "     platelets  serum_creatinine  serum_sodium     sex  smoking  patient_dead  \n",
              "193        160              1.18           142    Male     True         False  \n",
              "164        334              1.10           139    Male    False          True  \n",
              "0          265              1.90           130    Male    False          True  \n",
              "228        237              5.00           130  Female    False         False  \n",
              "239        263              1.18           137    Male     True         False  "
            ],
            "text/html": [
              "\n",
              "  <div id=\"df-4dee5e8b-046c-4f85-a58e-793ed71c44cf\">\n",
              "    <div class=\"colab-df-container\">\n",
              "      <div>\n",
              "<style scoped>\n",
              "    .dataframe tbody tr th:only-of-type {\n",
              "        vertical-align: middle;\n",
              "    }\n",
              "\n",
              "    .dataframe tbody tr th {\n",
              "        vertical-align: top;\n",
              "    }\n",
              "\n",
              "    .dataframe thead th {\n",
              "        text-align: right;\n",
              "    }\n",
              "</style>\n",
              "<table border=\"1\" class=\"dataframe\">\n",
              "  <thead>\n",
              "    <tr style=\"text-align: right;\">\n",
              "      <th></th>\n",
              "      <th>age</th>\n",
              "      <th>anaemia</th>\n",
              "      <th>diabetes</th>\n",
              "      <th>ejection_fraction</th>\n",
              "      <th>high_blood_pressure</th>\n",
              "      <th>platelets</th>\n",
              "      <th>serum_creatinine</th>\n",
              "      <th>serum_sodium</th>\n",
              "      <th>sex</th>\n",
              "      <th>smoking</th>\n",
              "      <th>patient_dead</th>\n",
              "    </tr>\n",
              "  </thead>\n",
              "  <tbody>\n",
              "    <tr>\n",
              "      <th>193</th>\n",
              "      <td>73</td>\n",
              "      <td>True</td>\n",
              "      <td>True</td>\n",
              "      <td>30</td>\n",
              "      <td>False</td>\n",
              "      <td>160</td>\n",
              "      <td>1.18</td>\n",
              "      <td>142</td>\n",
              "      <td>Male</td>\n",
              "      <td>True</td>\n",
              "      <td>False</td>\n",
              "    </tr>\n",
              "    <tr>\n",
              "      <th>164</th>\n",
              "      <td>45</td>\n",
              "      <td>False</td>\n",
              "      <td>True</td>\n",
              "      <td>30</td>\n",
              "      <td>False</td>\n",
              "      <td>334</td>\n",
              "      <td>1.10</td>\n",
              "      <td>139</td>\n",
              "      <td>Male</td>\n",
              "      <td>False</td>\n",
              "      <td>True</td>\n",
              "    </tr>\n",
              "    <tr>\n",
              "      <th>0</th>\n",
              "      <td>75</td>\n",
              "      <td>False</td>\n",
              "      <td>False</td>\n",
              "      <td>20</td>\n",
              "      <td>True</td>\n",
              "      <td>265</td>\n",
              "      <td>1.90</td>\n",
              "      <td>130</td>\n",
              "      <td>Male</td>\n",
              "      <td>False</td>\n",
              "      <td>True</td>\n",
              "    </tr>\n",
              "    <tr>\n",
              "      <th>228</th>\n",
              "      <td>65</td>\n",
              "      <td>False</td>\n",
              "      <td>False</td>\n",
              "      <td>25</td>\n",
              "      <td>False</td>\n",
              "      <td>237</td>\n",
              "      <td>5.00</td>\n",
              "      <td>130</td>\n",
              "      <td>Female</td>\n",
              "      <td>False</td>\n",
              "      <td>False</td>\n",
              "    </tr>\n",
              "    <tr>\n",
              "      <th>239</th>\n",
              "      <td>55</td>\n",
              "      <td>True</td>\n",
              "      <td>False</td>\n",
              "      <td>45</td>\n",
              "      <td>False</td>\n",
              "      <td>263</td>\n",
              "      <td>1.18</td>\n",
              "      <td>137</td>\n",
              "      <td>Male</td>\n",
              "      <td>True</td>\n",
              "      <td>False</td>\n",
              "    </tr>\n",
              "  </tbody>\n",
              "</table>\n",
              "</div>\n",
              "      <button class=\"colab-df-convert\" onclick=\"convertToInteractive('df-4dee5e8b-046c-4f85-a58e-793ed71c44cf')\"\n",
              "              title=\"Convert this dataframe to an interactive table.\"\n",
              "              style=\"display:none;\">\n",
              "        \n",
              "  <svg xmlns=\"http://www.w3.org/2000/svg\" height=\"24px\"viewBox=\"0 0 24 24\"\n",
              "       width=\"24px\">\n",
              "    <path d=\"M0 0h24v24H0V0z\" fill=\"none\"/>\n",
              "    <path d=\"M18.56 5.44l.94 2.06.94-2.06 2.06-.94-2.06-.94-.94-2.06-.94 2.06-2.06.94zm-11 1L8.5 8.5l.94-2.06 2.06-.94-2.06-.94L8.5 2.5l-.94 2.06-2.06.94zm10 10l.94 2.06.94-2.06 2.06-.94-2.06-.94-.94-2.06-.94 2.06-2.06.94z\"/><path d=\"M17.41 7.96l-1.37-1.37c-.4-.4-.92-.59-1.43-.59-.52 0-1.04.2-1.43.59L10.3 9.45l-7.72 7.72c-.78.78-.78 2.05 0 2.83L4 21.41c.39.39.9.59 1.41.59.51 0 1.02-.2 1.41-.59l7.78-7.78 2.81-2.81c.8-.78.8-2.07 0-2.86zM5.41 20L4 18.59l7.72-7.72 1.47 1.35L5.41 20z\"/>\n",
              "  </svg>\n",
              "      </button>\n",
              "      \n",
              "  <style>\n",
              "    .colab-df-container {\n",
              "      display:flex;\n",
              "      flex-wrap:wrap;\n",
              "      gap: 12px;\n",
              "    }\n",
              "\n",
              "    .colab-df-convert {\n",
              "      background-color: #E8F0FE;\n",
              "      border: none;\n",
              "      border-radius: 50%;\n",
              "      cursor: pointer;\n",
              "      display: none;\n",
              "      fill: #1967D2;\n",
              "      height: 32px;\n",
              "      padding: 0 0 0 0;\n",
              "      width: 32px;\n",
              "    }\n",
              "\n",
              "    .colab-df-convert:hover {\n",
              "      background-color: #E2EBFA;\n",
              "      box-shadow: 0px 1px 2px rgba(60, 64, 67, 0.3), 0px 1px 3px 1px rgba(60, 64, 67, 0.15);\n",
              "      fill: #174EA6;\n",
              "    }\n",
              "\n",
              "    [theme=dark] .colab-df-convert {\n",
              "      background-color: #3B4455;\n",
              "      fill: #D2E3FC;\n",
              "    }\n",
              "\n",
              "    [theme=dark] .colab-df-convert:hover {\n",
              "      background-color: #434B5C;\n",
              "      box-shadow: 0px 1px 3px 1px rgba(0, 0, 0, 0.15);\n",
              "      filter: drop-shadow(0px 1px 2px rgba(0, 0, 0, 0.3));\n",
              "      fill: #FFFFFF;\n",
              "    }\n",
              "  </style>\n",
              "\n",
              "      <script>\n",
              "        const buttonEl =\n",
              "          document.querySelector('#df-4dee5e8b-046c-4f85-a58e-793ed71c44cf button.colab-df-convert');\n",
              "        buttonEl.style.display =\n",
              "          google.colab.kernel.accessAllowed ? 'block' : 'none';\n",
              "\n",
              "        async function convertToInteractive(key) {\n",
              "          const element = document.querySelector('#df-4dee5e8b-046c-4f85-a58e-793ed71c44cf');\n",
              "          const dataTable =\n",
              "            await google.colab.kernel.invokeFunction('convertToInteractive',\n",
              "                                                     [key], {});\n",
              "          if (!dataTable) return;\n",
              "\n",
              "          const docLinkHtml = 'Like what you see? Visit the ' +\n",
              "            '<a target=\"_blank\" href=https://colab.research.google.com/notebooks/data_table.ipynb>data table notebook</a>'\n",
              "            + ' to learn more about interactive tables.';\n",
              "          element.innerHTML = '';\n",
              "          dataTable['output_type'] = 'display_data';\n",
              "          await google.colab.output.renderOutput(dataTable, element);\n",
              "          const docLink = document.createElement('div');\n",
              "          docLink.innerHTML = docLinkHtml;\n",
              "          element.appendChild(docLink);\n",
              "        }\n",
              "      </script>\n",
              "    </div>\n",
              "  </div>\n",
              "  "
            ]
          },
          "metadata": {},
          "execution_count": 39
        }
      ],
      "source": [
        "heart_failure_df.sample(5)"
      ]
    },
    {
      "cell_type": "markdown",
      "metadata": {
        "id": "Q8oHiA6BKOgN"
      },
      "source": [
        "# Exploratory Data Analysis &  Visualization"
      ]
    },
    {
      "cell_type": "markdown",
      "metadata": {
        "id": "0AZEilxcKOgN"
      },
      "source": [
        "  <p style='text-align:justify;'> Data visualization is the representation of data through use of common graphics, such as charts, plots, infographics, and even animations. These visual displays of information communicate complex data relationships and data-driven insights in a way that is easy to understand.</p>\n",
        "  <p style='text-align:justify;'> \n",
        "Let's install and import \"seaborn\" library as \"sns\" and \"matplotlib.pyplot\" module as \"plt\" to perform some visualization operations on our data frame to understand the distribution and relationships of attributes.</p>"
      ]
    },
    {
      "cell_type": "code",
      "execution_count": 40,
      "metadata": {
        "colab": {
          "base_uri": "https://localhost:8080/"
        },
        "id": "cbua4R8lKOgO",
        "outputId": "bfed6838-59c9-4d3c-9b2c-2e044ac8fe4e"
      },
      "outputs": [
        {
          "output_type": "stream",
          "name": "stdout",
          "text": [
            "\u001b[2K     \u001b[90m━━━━━━━━━━━━━━━━━━━━━━━━━━━━━━━━━━━━━━━━\u001b[0m \u001b[32m9.2/9.2 MB\u001b[0m \u001b[31m76.7 MB/s\u001b[0m eta \u001b[36m0:00:00\u001b[0m\n",
            "\u001b[2K     \u001b[90m━━━━━━━━━━━━━━━━━━━━━━━━━━━━━━━━━━━━━━\u001b[0m \u001b[32m293.3/293.3 KB\u001b[0m \u001b[31m26.9 MB/s\u001b[0m eta \u001b[36m0:00:00\u001b[0m\n",
            "\u001b[2K     \u001b[90m━━━━━━━━━━━━━━━━━━━━━━━━━━━━━━━━━━━━━━\u001b[0m \u001b[32m300.0/300.0 KB\u001b[0m \u001b[31m28.5 MB/s\u001b[0m eta \u001b[36m0:00:00\u001b[0m\n",
            "\u001b[?25h"
          ]
        }
      ],
      "source": [
        "#install matplotlib and seaborn \n",
        "!pip install matplotlib seaborn --upgrade --quiet "
      ]
    },
    {
      "cell_type": "code",
      "execution_count": 41,
      "metadata": {
        "id": "SDOmLyp4KOgO"
      },
      "outputs": [],
      "source": [
        "#import seaborn and matplotlib.pyplot \n",
        "import seaborn as sns\n",
        "import matplotlib\n",
        "import matplotlib.pyplot as plt\n",
        "import matplotlib.patches as mpatches\n",
        "%matplotlib inline \n",
        "#set some default style for our graphs\n",
        "sns.set_style('darkgrid')\n",
        "matplotlib.rcParams['font.size'] = 14\n",
        "matplotlib.rcParams['figure.figsize'] = (9, 5)\n",
        "matplotlib.rcParams['figure.facecolor'] = 'white'"
      ]
    },
    {
      "cell_type": "markdown",
      "metadata": {
        "id": "gEVreU96KOgP"
      },
      "source": [
        "`%matplotlib inline` is used to display our plots embedded within the Jupyter notebook itself. Without this command, sometimes plots may be displayed as pop-ups. "
      ]
    },
    {
      "cell_type": "markdown",
      "metadata": {
        "id": "d5VIoO1JKOgP"
      },
      "source": [
        "### Age"
      ]
    },
    {
      "cell_type": "markdown",
      "metadata": {
        "id": "kW-3EqCaKOgP"
      },
      "source": [
        "  <p style='text-align:justify;'> Let's have a look at the distribution of age of the heart failure patients recorded in our dataset by using \"hist\" function from \"matplotlib.pyplot\" which is used to create histograms.</p>\n",
        "\n",
        "  <p style='text-align:justify;'><b> \"A histogram represents the distribution of a variable by creating bins (interval) along the range of values and showing vertical bars to indicate the number of observations in each bin\".</b></p>\n",
        "\n"
      ]
    },
    {
      "cell_type": "code",
      "execution_count": 42,
      "metadata": {
        "colab": {
          "base_uri": "https://localhost:8080/",
          "height": 362
        },
        "id": "Yw8OIJaeKOgQ",
        "outputId": "517b1233-384b-481c-aa14-b4cc4495eb5c"
      },
      "outputs": [
        {
          "output_type": "display_data",
          "data": {
            "text/plain": [
              "<Figure size 648x360 with 1 Axes>"
            ],
            "image/png": "[encoded data removed]"
          },
          "metadata": {}
        }
      ],
      "source": [
        "plt.hist(heart_failure_df.age, bins=np.arange(40,100, 5), color ='mediumpurple')\n",
        "plt.xlabel(\"Age of Patients (Years)\")\n",
        "plt.ylabel(\"Number of Patients\")\n",
        "plt.title(\"Distribution of Age\");"
      ]
    },
    {
      "cell_type": "markdown",
      "metadata": {
        "id": "AwELCHgtKOgQ"
      },
      "source": [
        "  <p style='text-align:justify;'> From the above histogram, it's clear that most of the patients falls under 60-65 age group and the next place goes to 50-55 age group.</p>\n",
        "  <p style='text-align:justify;'> \n",
        "The life expectancy of a person in Pakistan in 2015 was approximately 67 years. It's obvious that the number of patients recorded starts declining from 65-70 age group. You can see the complete list of life expectancy of people in Pakistan (1950 - 2021) using the link given in the reference section.</p>"
      ]
    },
    {
      "cell_type": "markdown",
      "metadata": {
        "id": "lvDID0GPKOgQ"
      },
      "source": [
        "### Gender\n",
        "\n",
        "  <p style='text-align:justify;'> The distribution of gender of the Heart Failure patients is another crucial factor to look at. Let's visualize the gender distribution using pie chart. </p>"
      ]
    },
    {
      "cell_type": "code",
      "execution_count": 43,
      "metadata": {
        "id": "fa6h0ANQKOgR"
      },
      "outputs": [],
      "source": [
        "#to store the gender counts into a variable\n",
        "gender_counts = heart_failure_df.sex.value_counts()"
      ]
    },
    {
      "cell_type": "code",
      "execution_count": 44,
      "metadata": {
        "colab": {
          "base_uri": "https://localhost:8080/",
          "height": 377
        },
        "id": "j7xPKREBKOgR",
        "outputId": "511eb718-beeb-4d8c-d0a0-2d445fa1662f"
      },
      "outputs": [
        {
          "output_type": "display_data",
          "data": {
            "text/plain": [
              "<Figure size 864x432 with 1 Axes>"
            ],
            "image/png": "[encoded data removed]"
          },
          "metadata": {}
        }
      ],
      "source": [
        "plt.figure(figsize=(12, 6))\n",
        "plt.pie(gender_counts, labels = gender_counts.index, autopct ='%.1f%%', startangle = 90, explode = [0.1, 0], colors = ['lightskyblue', 'plum'])\n",
        "plt.title(\"Gender Distribution (Male or Female)\");"
      ]
    },
    {
      "cell_type": "markdown",
      "metadata": {
        "id": "klio81naKOgS"
      },
      "source": [
        "  <p style='text-align:justify;'> As we can clearly see, only 35.1% of the heart failure patients were female in our observation. This means that we have more number of male patients when compared to females in the dataset. So, we can easily say that this dataset is slightly imbalanced. </p>"
      ]
    },
    {
      "cell_type": "markdown",
      "metadata": {
        "id": "FjJ8JnFUKOgS"
      },
      "source": [
        "### Death\n",
        "\n",
        "  <p style='text-align:justify;'> Let's check the relationship between death of the patients and their age group and gender. </p>"
      ]
    },
    {
      "cell_type": "markdown",
      "metadata": {
        "id": "jjwmSTkLKOgS"
      },
      "source": [
        "#### Death Rate\n",
        "  <p style='text-align:justify;'> \n",
        "An important factor to look at is the percentage of patients died during the follow-up period. Let's use pie chart to visualize. </p>"
      ]
    },
    {
      "cell_type": "code",
      "execution_count": 45,
      "metadata": {
        "colab": {
          "base_uri": "https://localhost:8080/"
        },
        "id": "jlPgRKH3KOgT",
        "outputId": "9058a293-8fa2-444a-9921-146196e45b80"
      },
      "outputs": [
        {
          "output_type": "execute_result",
          "data": {
            "text/plain": [
              "False    203\n",
              "True      96\n",
              "Name: patient_dead, dtype: int64"
            ]
          },
          "metadata": {},
          "execution_count": 45
        }
      ],
      "source": [
        "#count number of patients dead\n",
        "dead_counts = heart_failure_df.patient_dead.value_counts()\n",
        "dead_counts "
      ]
    },
    {
      "cell_type": "code",
      "execution_count": 46,
      "metadata": {
        "colab": {
          "base_uri": "https://localhost:8080/",
          "height": 377
        },
        "id": "mpp0zp7AKOgT",
        "outputId": "7b64181c-00d5-438c-b3fe-cb4955c08495"
      },
      "outputs": [
        {
          "output_type": "display_data",
          "data": {
            "text/plain": [
              "<Figure size 864x432 with 1 Axes>"
            ],
            "image/png": "[encoded data removed]"
          },
          "metadata": {}
        }
      ],
      "source": [
        "plt.figure(figsize=(12, 6))\n",
        "plt.pie(dead_counts, labels = ['Alive', 'Dead'] , autopct ='%.1f%%', startangle = 90, explode=[0.1, 0], colors =['aquamarine', 'lightcoral'])\n",
        "plt.title(\"% of Patients Dead & Alive\");"
      ]
    },
    {
      "cell_type": "markdown",
      "metadata": {
        "id": "NG0ju73uKOgU"
      },
      "source": [
        "  <p style='text-align:justify;'> As we can clearly see that, the percentage of patients died during the follow-up period is 32.1%. This might be because the data mentioned in our data frame corresponds to only the certain period of time (April'15 - December'15) and more number of patients might have died after this period which isn't recorded. </p>"
      ]
    },
    {
      "cell_type": "markdown",
      "metadata": {
        "id": "7_MHLJQGKOgU"
      },
      "source": [
        "#### Death and Age Group "
      ]
    },
    {
      "cell_type": "markdown",
      "metadata": {
        "id": "hNhrdJuZKOgU"
      },
      "source": [
        "  <p style='text-align:justify;'> Let's define a helper function to create another column in our actual data frame which describes the age group of the heart failure patients. Since, the age of patients ranges from 40 to 95 years. Let's group them into a category like '40-45', '45-50', '50-55', '55-60' and so on. Age groups of the patient helps us to easily understand and visualize relationship of various attributes with age. </p>"
      ]
    },
    {
      "cell_type": "code",
      "execution_count": 47,
      "metadata": {
        "id": "IgnBtsV6KOgV"
      },
      "outputs": [],
      "source": [
        "def create_range_series(number_series):\n",
        "    \"\"\"Creates a series with range(group) for the numeric values \n",
        "    provided in another series which is passed as an argument.\n",
        "    This function takes only one argument which is (Pandas) series object, \n",
        "    returns another (Pandas) series object. \n",
        "    \n",
        "    Argument:\n",
        "        number_series - A column in pandas data frame with numeric values. \n",
        "    \"\"\"\n",
        "    condition = [\n",
        "    (number_series >= 0) & (number_series < 5), \n",
        "    (number_series >= 5) & (number_series < 10), \n",
        "    (number_series >= 10) & (number_series < 15), \n",
        "    (number_series >= 15) & (number_series < 20), \n",
        "    (number_series >= 20) & (number_series < 25), \n",
        "    (number_series >= 25) & (number_series < 30), \n",
        "    (number_series >= 30) & (number_series < 35), \n",
        "    (number_series >= 35) & (number_series < 40), \n",
        "    (number_series >= 40) & (number_series < 45), \n",
        "    (number_series >= 45) & (number_series < 50), \n",
        "    (number_series >= 50) & (number_series < 55), \n",
        "    (number_series >= 55) & (number_series < 60), \n",
        "    (number_series >= 60) & (number_series < 65), \n",
        "    (number_series >= 65) & (number_series < 70), \n",
        "    (number_series >= 70) & (number_series < 75), \n",
        "    (number_series >= 75) & (number_series < 80), \n",
        "    (number_series >= 80) & (number_series < 85), \n",
        "    (number_series >= 85) & (number_series < 90), \n",
        "    (number_series >= 90) & (number_series < 95), \n",
        "    (number_series >= 95) & (number_series < 100)\n",
        "    ]\n",
        "    \n",
        "    output = ['0-5', \n",
        "              '5-10', \n",
        "              '10-15', \n",
        "              '15-20', \n",
        "              '20-25', \n",
        "              '25-30', \n",
        "              '30-35', \n",
        "              '35-40', \n",
        "              '40-45', \n",
        "              '45-50', \n",
        "              '50-55', \n",
        "              '55-60', \n",
        "              '60-65', \n",
        "              '65-70', \n",
        "              '70-75', \n",
        "              '75-80', \n",
        "              '80-85', \n",
        "              '85-90', \n",
        "              '90-95', \n",
        "              '95-100'\n",
        "              ] \n",
        "    result = np.select(condition, output, '>100')\n",
        "    return pd.Series(result)"
      ]
    },
    {
      "cell_type": "code",
      "execution_count": 48,
      "metadata": {
        "colab": {
          "base_uri": "https://localhost:8080/",
          "height": 487
        },
        "id": "OdbIjRSQKOgV",
        "outputId": "3f7ef2dc-5ec6-4f18-c02b-be7c921898ad"
      },
      "outputs": [
        {
          "output_type": "execute_result",
          "data": {
            "text/plain": [
              "     age  anaemia  diabetes  ejection_fraction  high_blood_pressure  \\\n",
              "0     75    False     False                 20                 True   \n",
              "1     55    False     False                 38                False   \n",
              "2     65    False     False                 20                False   \n",
              "3     50     True     False                 20                False   \n",
              "4     65     True      True                 20                False   \n",
              "..   ...      ...       ...                ...                  ...   \n",
              "294   62    False      True                 38                 True   \n",
              "295   55    False     False                 38                False   \n",
              "296   45    False      True                 60                False   \n",
              "297   45    False     False                 38                False   \n",
              "298   50    False     False                 45                False   \n",
              "\n",
              "     platelets  serum_creatinine  serum_sodium     sex  smoking  patient_dead  \\\n",
              "0          265               1.9           130    Male    False          True   \n",
              "1          263               1.1           136    Male    False          True   \n",
              "2          162               1.3           129    Male     True          True   \n",
              "3          210               1.9           137    Male    False          True   \n",
              "4          327               2.7           116  Female    False          True   \n",
              "..         ...               ...           ...     ...      ...           ...   \n",
              "294        155               1.1           143    Male     True         False   \n",
              "295        270               1.2           139  Female    False         False   \n",
              "296        742               0.8           138  Female    False         False   \n",
              "297        140               1.4           140    Male     True         False   \n",
              "298        395               1.6           136    Male     True         False   \n",
              "\n",
              "    age_group  \n",
              "0       75-80  \n",
              "1       55-60  \n",
              "2       65-70  \n",
              "3       50-55  \n",
              "4       65-70  \n",
              "..        ...  \n",
              "294     60-65  \n",
              "295     55-60  \n",
              "296     45-50  \n",
              "297     45-50  \n",
              "298     50-55  \n",
              "\n",
              "[299 rows x 12 columns]"
            ],
            "text/html": [
              "\n",
              "  <div id=\"df-0efdf282-eb2d-41ec-becd-79116ad5b8c8\">\n",
              "    <div class=\"colab-df-container\">\n",
              "      <div>\n",
              "<style scoped>\n",
              "    .dataframe tbody tr th:only-of-type {\n",
              "        vertical-align: middle;\n",
              "    }\n",
              "\n",
              "    .dataframe tbody tr th {\n",
              "        vertical-align: top;\n",
              "    }\n",
              "\n",
              "    .dataframe thead th {\n",
              "        text-align: right;\n",
              "    }\n",
              "</style>\n",
              "<table border=\"1\" class=\"dataframe\">\n",
              "  <thead>\n",
              "    <tr style=\"text-align: right;\">\n",
              "      <th></th>\n",
              "      <th>age</th>\n",
              "      <th>anaemia</th>\n",
              "      <th>diabetes</th>\n",
              "      <th>ejection_fraction</th>\n",
              "      <th>high_blood_pressure</th>\n",
              "      <th>platelets</th>\n",
              "      <th>serum_creatinine</th>\n",
              "      <th>serum_sodium</th>\n",
              "      <th>sex</th>\n",
              "      <th>smoking</th>\n",
              "      <th>patient_dead</th>\n",
              "      <th>age_group</th>\n",
              "    </tr>\n",
              "  </thead>\n",
              "  <tbody>\n",
              "    <tr>\n",
              "      <th>0</th>\n",
              "      <td>75</td>\n",
              "      <td>False</td>\n",
              "      <td>False</td>\n",
              "      <td>20</td>\n",
              "      <td>True</td>\n",
              "      <td>265</td>\n",
              "      <td>1.9</td>\n",
              "      <td>130</td>\n",
              "      <td>Male</td>\n",
              "      <td>False</td>\n",
              "      <td>True</td>\n",
              "      <td>75-80</td>\n",
              "    </tr>\n",
              "    <tr>\n",
              "      <th>1</th>\n",
              "      <td>55</td>\n",
              "      <td>False</td>\n",
              "      <td>False</td>\n",
              "      <td>38</td>\n",
              "      <td>False</td>\n",
              "      <td>263</td>\n",
              "      <td>1.1</td>\n",
              "      <td>136</td>\n",
              "      <td>Male</td>\n",
              "      <td>False</td>\n",
              "      <td>True</td>\n",
              "      <td>55-60</td>\n",
              "    </tr>\n",
              "    <tr>\n",
              "      <th>2</th>\n",
              "      <td>65</td>\n",
              "      <td>False</td>\n",
              "      <td>False</td>\n",
              "      <td>20</td>\n",
              "      <td>False</td>\n",
              "      <td>162</td>\n",
              "      <td>1.3</td>\n",
              "      <td>129</td>\n",
              "      <td>Male</td>\n",
              "      <td>True</td>\n",
              "      <td>True</td>\n",
              "      <td>65-70</td>\n",
              "    </tr>\n",
              "    <tr>\n",
              "      <th>3</th>\n",
              "      <td>50</td>\n",
              "      <td>True</td>\n",
              "      <td>False</td>\n",
              "      <td>20</td>\n",
              "      <td>False</td>\n",
              "      <td>210</td>\n",
              "      <td>1.9</td>\n",
              "      <td>137</td>\n",
              "      <td>Male</td>\n",
              "      <td>False</td>\n",
              "      <td>True</td>\n",
              "      <td>50-55</td>\n",
              "    </tr>\n",
              "    <tr>\n",
              "      <th>4</th>\n",
              "      <td>65</td>\n",
              "      <td>True</td>\n",
              "      <td>True</td>\n",
              "      <td>20</td>\n",
              "      <td>False</td>\n",
              "      <td>327</td>\n",
              "      <td>2.7</td>\n",
              "      <td>116</td>\n",
              "      <td>Female</td>\n",
              "      <td>False</td>\n",
              "      <td>True</td>\n",
              "      <td>65-70</td>\n",
              "    </tr>\n",
              "    <tr>\n",
              "      <th>...</th>\n",
              "      <td>...</td>\n",
              "      <td>...</td>\n",
              "      <td>...</td>\n",
              "      <td>...</td>\n",
              "      <td>...</td>\n",
              "      <td>...</td>\n",
              "      <td>...</td>\n",
              "      <td>...</td>\n",
              "      <td>...</td>\n",
              "      <td>...</td>\n",
              "      <td>...</td>\n",
              "      <td>...</td>\n",
              "    </tr>\n",
              "    <tr>\n",
              "      <th>294</th>\n",
              "      <td>62</td>\n",
              "      <td>False</td>\n",
              "      <td>True</td>\n",
              "      <td>38</td>\n",
              "      <td>True</td>\n",
              "      <td>155</td>\n",
              "      <td>1.1</td>\n",
              "      <td>143</td>\n",
              "      <td>Male</td>\n",
              "      <td>True</td>\n",
              "      <td>False</td>\n",
              "      <td>60-65</td>\n",
              "    </tr>\n",
              "    <tr>\n",
              "      <th>295</th>\n",
              "      <td>55</td>\n",
              "      <td>False</td>\n",
              "      <td>False</td>\n",
              "      <td>38</td>\n",
              "      <td>False</td>\n",
              "      <td>270</td>\n",
              "      <td>1.2</td>\n",
              "      <td>139</td>\n",
              "      <td>Female</td>\n",
              "      <td>False</td>\n",
              "      <td>False</td>\n",
              "      <td>55-60</td>\n",
              "    </tr>\n",
              "    <tr>\n",
              "      <th>296</th>\n",
              "      <td>45</td>\n",
              "      <td>False</td>\n",
              "      <td>True</td>\n",
              "      <td>60</td>\n",
              "      <td>False</td>\n",
              "      <td>742</td>\n",
              "      <td>0.8</td>\n",
              "      <td>138</td>\n",
              "      <td>Female</td>\n",
              "      <td>False</td>\n",
              "      <td>False</td>\n",
              "      <td>45-50</td>\n",
              "    </tr>\n",
              "    <tr>\n",
              "      <th>297</th>\n",
              "      <td>45</td>\n",
              "      <td>False</td>\n",
              "      <td>False</td>\n",
              "      <td>38</td>\n",
              "      <td>False</td>\n",
              "      <td>140</td>\n",
              "      <td>1.4</td>\n",
              "      <td>140</td>\n",
              "      <td>Male</td>\n",
              "      <td>True</td>\n",
              "      <td>False</td>\n",
              "      <td>45-50</td>\n",
              "    </tr>\n",
              "    <tr>\n",
              "      <th>298</th>\n",
              "      <td>50</td>\n",
              "      <td>False</td>\n",
              "      <td>False</td>\n",
              "      <td>45</td>\n",
              "      <td>False</td>\n",
              "      <td>395</td>\n",
              "      <td>1.6</td>\n",
              "      <td>136</td>\n",
              "      <td>Male</td>\n",
              "      <td>True</td>\n",
              "      <td>False</td>\n",
              "      <td>50-55</td>\n",
              "    </tr>\n",
              "  </tbody>\n",
              "</table>\n",
              "<p>299 rows × 12 columns</p>\n",
              "</div>\n",
              "      <button class=\"colab-df-convert\" onclick=\"convertToInteractive('df-0efdf282-eb2d-41ec-becd-79116ad5b8c8')\"\n",
              "              title=\"Convert this dataframe to an interactive table.\"\n",
              "              style=\"display:none;\">\n",
              "        \n",
              "  <svg xmlns=\"http://www.w3.org/2000/svg\" height=\"24px\"viewBox=\"0 0 24 24\"\n",
              "       width=\"24px\">\n",
              "    <path d=\"M0 0h24v24H0V0z\" fill=\"none\"/>\n",
              "    <path d=\"M18.56 5.44l.94 2.06.94-2.06 2.06-.94-2.06-.94-.94-2.06-.94 2.06-2.06.94zm-11 1L8.5 8.5l.94-2.06 2.06-.94-2.06-.94L8.5 2.5l-.94 2.06-2.06.94zm10 10l.94 2.06.94-2.06 2.06-.94-2.06-.94-.94-2.06-.94 2.06-2.06.94z\"/><path d=\"M17.41 7.96l-1.37-1.37c-.4-.4-.92-.59-1.43-.59-.52 0-1.04.2-1.43.59L10.3 9.45l-7.72 7.72c-.78.78-.78 2.05 0 2.83L4 21.41c.39.39.9.59 1.41.59.51 0 1.02-.2 1.41-.59l7.78-7.78 2.81-2.81c.8-.78.8-2.07 0-2.86zM5.41 20L4 18.59l7.72-7.72 1.47 1.35L5.41 20z\"/>\n",
              "  </svg>\n",
              "      </button>\n",
              "      \n",
              "  <style>\n",
              "    .colab-df-container {\n",
              "      display:flex;\n",
              "      flex-wrap:wrap;\n",
              "      gap: 12px;\n",
              "    }\n",
              "\n",
              "    .colab-df-convert {\n",
              "      background-color: #E8F0FE;\n",
              "      border: none;\n",
              "      border-radius: 50%;\n",
              "      cursor: pointer;\n",
              "      display: none;\n",
              "      fill: #1967D2;\n",
              "      height: 32px;\n",
              "      padding: 0 0 0 0;\n",
              "      width: 32px;\n",
              "    }\n",
              "\n",
              "    .colab-df-convert:hover {\n",
              "      background-color: #E2EBFA;\n",
              "      box-shadow: 0px 1px 2px rgba(60, 64, 67, 0.3), 0px 1px 3px 1px rgba(60, 64, 67, 0.15);\n",
              "      fill: #174EA6;\n",
              "    }\n",
              "\n",
              "    [theme=dark] .colab-df-convert {\n",
              "      background-color: #3B4455;\n",
              "      fill: #D2E3FC;\n",
              "    }\n",
              "\n",
              "    [theme=dark] .colab-df-convert:hover {\n",
              "      background-color: #434B5C;\n",
              "      box-shadow: 0px 1px 3px 1px rgba(0, 0, 0, 0.15);\n",
              "      filter: drop-shadow(0px 1px 2px rgba(0, 0, 0, 0.3));\n",
              "      fill: #FFFFFF;\n",
              "    }\n",
              "  </style>\n",
              "\n",
              "      <script>\n",
              "        const buttonEl =\n",
              "          document.querySelector('#df-0efdf282-eb2d-41ec-becd-79116ad5b8c8 button.colab-df-convert');\n",
              "        buttonEl.style.display =\n",
              "          google.colab.kernel.accessAllowed ? 'block' : 'none';\n",
              "\n",
              "        async function convertToInteractive(key) {\n",
              "          const element = document.querySelector('#df-0efdf282-eb2d-41ec-becd-79116ad5b8c8');\n",
              "          const dataTable =\n",
              "            await google.colab.kernel.invokeFunction('convertToInteractive',\n",
              "                                                     [key], {});\n",
              "          if (!dataTable) return;\n",
              "\n",
              "          const docLinkHtml = 'Like what you see? Visit the ' +\n",
              "            '<a target=\"_blank\" href=https://colab.research.google.com/notebooks/data_table.ipynb>data table notebook</a>'\n",
              "            + ' to learn more about interactive tables.';\n",
              "          element.innerHTML = '';\n",
              "          dataTable['output_type'] = 'display_data';\n",
              "          await google.colab.output.renderOutput(dataTable, element);\n",
              "          const docLink = document.createElement('div');\n",
              "          docLink.innerHTML = docLinkHtml;\n",
              "          element.appendChild(docLink);\n",
              "        }\n",
              "      </script>\n",
              "    </div>\n",
              "  </div>\n",
              "  "
            ]
          },
          "metadata": {},
          "execution_count": 48
        }
      ],
      "source": [
        "#to create a column with age group \n",
        "heart_failure_df['age_group'] = create_range_series(heart_failure_df.age)\n",
        "heart_failure_df"
      ]
    },
    {
      "cell_type": "markdown",
      "metadata": {
        "id": "n2taWQNkKOgW"
      },
      "source": [
        "  <p style='text-align:justify;'> Now that we have created another column in our 'heart_failure_df' data frame for the age groups using our helper function 'create_range_series', let's find the number of patients dead corresponding to the particular age group. </p>"
      ]
    },
    {
      "cell_type": "code",
      "execution_count": 49,
      "metadata": {
        "id": "IE-IuuKvKOgW"
      },
      "outputs": [],
      "source": [
        "dead_patients = heart_failure_df[heart_failure_df.patient_dead == True].groupby('age_group').count()\n",
        "alive_patients = heart_failure_df[heart_failure_df.patient_dead == False].groupby('age_group').count()"
      ]
    },
    {
      "cell_type": "code",
      "execution_count": 50,
      "metadata": {
        "colab": {
          "base_uri": "https://localhost:8080/",
          "height": 721
        },
        "id": "tE10mRLbKOgX",
        "outputId": "052df0aa-d368-40b6-d17f-d696afc620d5"
      },
      "outputs": [
        {
          "output_type": "stream",
          "name": "stderr",
          "text": [
            "<ipython-input-50-7c371805c47d>:3: FutureWarning: \n",
            "\n",
            "The `ci` parameter is deprecated. Use `errorbar=None` for the same effect.\n",
            "\n",
            "  sns.barplot(x = alive_patients.index, y = alive_patients.patient_dead, alpha = 0.5, palette = ['aquamarine'], estimator=sum, ci=None, )\n"
          ]
        },
        {
          "output_type": "display_data",
          "data": {
            "text/plain": [
              "<Figure size 864x720 with 1 Axes>"
            ],
            "image/png": "[encoded data removed]"
          },
          "metadata": {}
        }
      ],
      "source": [
        "plt.figure(figsize=(12,10))\n",
        "sns.barplot(x = dead_patients.index , y = dead_patients.patient_dead, alpha=1, palette =['red'])\n",
        "sns.barplot(x = alive_patients.index, y = alive_patients.patient_dead, alpha = 0.5, palette = ['aquamarine'], estimator=sum, ci=None, )\n",
        "plt.title('Dead or Alive')\n",
        "plt.xlabel('Age group of Patients')\n",
        "dead = mpatches.Patch(color= 'red', label='Dead')\n",
        "alive = mpatches.Patch(color='aquamarine', label='Alive')\n",
        "plt.legend(handles=[dead, alive])\n",
        "plt.ylabel('Number of Patients');"
      ]
    },
    {
      "cell_type": "markdown",
      "metadata": {
        "id": "0ILPqruJKOgX"
      },
      "source": [
        "  <p style='text-align:justify;'> As we can clearly see, that there are more number of patients died (during the follow-up period is) in 60-65 age group (i.e 15 Patients). It's obvious, since we have more number of patients in 60-65 age group. And the proportion of patients died starts increasing from 65-70 age group and the number of patients died is more than alive patients in the age group of '80-85', '85-90' and '90-95'. This is because over the time, the body’s immune system naturally becomes less capable of handling new threats, such as viruses including novel corona virus. This increases the risk of having issues with various illnesses which ultimately leads to their end. </p>"
      ]
    },
    {
      "cell_type": "markdown",
      "metadata": {
        "id": "ENK_SjZfKOgY"
      },
      "source": [
        "#### Death and Gender\n",
        "\n",
        "  <p style='text-align:justify;'> We already have a look at the relationship between the different age groups and death rate. Now let's have a look at how the death rate varies with respect to patients gender. Let's use 'countplot' function from seaborn library to visualize. </p>"
      ]
    },
    {
      "cell_type": "code",
      "execution_count": 51,
      "metadata": {
        "colab": {
          "base_uri": "https://localhost:8080/",
          "height": 362
        },
        "id": "TqKzTyR5KOgY",
        "outputId": "81dd829d-84bb-4429-e3d0-9b6208212b80"
      },
      "outputs": [
        {
          "output_type": "display_data",
          "data": {
            "text/plain": [
              "<Figure size 648x360 with 1 Axes>"
            ],
            "image/png": "[encoded data removed]"
          },
          "metadata": {}
        }
      ],
      "source": [
        "sns.countplot(x = heart_failure_df.patient_dead, hue = heart_failure_df.sex, palette =['lightskyblue', 'plum'])\n",
        "plt.title('Dead or Alive')\n",
        "plt.xlabel('Patient Dead')\n",
        "plt.ylabel('Number of Patients');"
      ]
    },
    {
      "cell_type": "markdown",
      "metadata": {
        "id": "s-_fXllkKOgZ"
      },
      "source": [
        "  <p style='text-align:justify;'> We can conclude from the above output, though we have more number of male patients, the proportion of male and female patients died during the follow-up period is almost equal. </p>"
      ]
    },
    {
      "cell_type": "markdown",
      "metadata": {
        "id": "FFQxGdGdKOgZ"
      },
      "source": [
        "### Diseases \n",
        "\n",
        "  <p style='text-align:justify;'> We have to analyze the number of patients having anaemia, diabetes, high blood pressure, smoking habit, abnormal ejection fraction, abnormal creatinine and sodium level.</p>\n",
        "  <p style='text-align:justify;'> \n",
        "So, let's create another column in our data frame to indicate the abnormalities of the various records.</p>\n",
        "  <p style='text-align:justify;'> \n",
        "Let's use 'subplot' function from 'matplotlib.pyplot' to display 8 plots in a single output. </p>"
      ]
    },
    {
      "cell_type": "code",
      "execution_count": 52,
      "metadata": {
        "id": "pi1Ahx4MKOga"
      },
      "outputs": [],
      "source": [
        "#create columns to indicate abnormalities \n",
        "heart_failure_df['abnormal_ef'] = np.where(((heart_failure_df.ejection_fraction >= 55) & (heart_failure_df.ejection_fraction <=70)) , 'Normal', 'Abormal')\n",
        "heart_failure_df['abnormal_platelets'] = np.where(((heart_failure_df.platelets >= 150) & (heart_failure_df.platelets <= 400)) , 'Normal', 'Abnormal')\n",
        "heart_failure_df['abnormal_creatinine'] = np.where(((heart_failure_df.serum_creatinine >= 0.6) & (heart_failure_df.serum_creatinine <= 1.2)), 'Normal','Abnormal')\n",
        "heart_failure_df['abnormal_sodium'] = np.where(((heart_failure_df.serum_sodium >= 135) & (heart_failure_df.serum_sodium <= 145)) , 'Normal', 'Abnormal') "
      ]
    },
    {
      "cell_type": "code",
      "execution_count": 53,
      "metadata": {
        "colab": {
          "base_uri": "https://localhost:8080/",
          "height": 560
        },
        "id": "ASEDm8crKOga",
        "outputId": "8a2006ad-921b-4d1f-be9e-dde8823dcbee"
      },
      "outputs": [
        {
          "output_type": "display_data",
          "data": {
            "text/plain": [
              "<Figure size 1728x864 with 8 Axes>"
            ],
            "image/png": "[encoded data removed]"
          },
          "metadata": {}
        }
      ],
      "source": [
        "fig, axis = plt.subplots(2,4, figsize =(24, 12)) \n",
        "#axis(0,0) use this axis for Anaemia \n",
        "axis[0,0].set_title(\" Patients with Anaemia\")\n",
        "sns.countplot(x = heart_failure_df.anaemia, ax=axis[0,0], palette=['aquamarine', 'lightcoral'] )\n",
        "axis[0,0].set_xlabel(\"\")\n",
        "axis[0,0].set_ylabel(\"Number of Patients\")\n",
        "axis[0,0].set_ylim([0, 220])\n",
        "\n",
        "#axis(0,1) use this axis for Diabetes \n",
        "axis[0,1].set_title(\" Patients with Diabetes\")\n",
        "sns.countplot(x = heart_failure_df.diabetes, ax=axis[0,1], palette=['aquamarine', 'lightcoral'])\n",
        "axis[0,1].set_xlabel(\"\")\n",
        "axis[0,1].set_ylabel(\"Number of Patients\")\n",
        "axis[0,1].set_ylim([0, 220])\n",
        "\n",
        "\n",
        "#axis(0,2) use this axis for High blood pressure \n",
        "axis[0,2].set_title(\" Patients with High Blood Pressure\")\n",
        "sns.countplot(x = heart_failure_df.high_blood_pressure, ax=axis[0,2], palette=['aquamarine', 'lightcoral'])\n",
        "axis[0,2].set_xlabel(\"\")\n",
        "axis[0,2].set_ylabel(\"Number of Patients\")\n",
        "axis[0,2].set_ylim([0, 220])\n",
        "\n",
        "#axis(0,3) use this axis for smoking habit \n",
        "axis[0,3].set_title(\" Patients with Smoking Habit\")\n",
        "sns.countplot(x = heart_failure_df.smoking, ax=axis[0,3], palette=['aquamarine', 'lightcoral'])\n",
        "axis[0,3].set_xlabel(\"\")\n",
        "axis[0,3].set_ylabel(\"Number of Patients\")\n",
        "axis[0,3].set_ylim([0, 220])\n",
        "\n",
        "\n",
        "#axis(1,0) use this axis for Ejection Fraction \n",
        "axis[1,0].set_title(\" Patients with Abnormal EF\")\n",
        "sns.countplot(x = heart_failure_df.abnormal_ef.sort_values(ascending =False) , ax=axis[1,0], palette=['aquamarine', 'lightcoral'])\n",
        "axis[1,0].set_xlabel(\"\")\n",
        "axis[1,0].set_ylabel(\"Number of Patients\")\n",
        "axis[1,0].set_ylim([0, 270])\n",
        "\n",
        "#axis(1,1) use this axis for Platelets count \n",
        "axis[1,1].set_title(\" Patients with Abnormal Platelets Count\")\n",
        "sns.countplot(x = heart_failure_df.abnormal_platelets.sort_values(ascending =False) , ax=axis[1,1], palette=['aquamarine', 'lightcoral'])\n",
        "axis[1,1].set_xlabel(\"\")\n",
        "axis[1,1].set_ylabel(\"Number of Patients\")\n",
        "axis[1,1].set_ylim([0, 270])\n",
        "\n",
        "#axis(1,2) use this axis for Creatinine level \n",
        "axis[1,2].set_title(\" Patients with Abnormal Creatinine level\")\n",
        "sns.countplot(x = heart_failure_df.abnormal_creatinine.sort_values(ascending =False), ax=axis[1,2], palette=['aquamarine', 'lightcoral'])\n",
        "axis[1,2].set_xlabel(\"\")\n",
        "axis[1,2].set_ylabel(\"Number of Patients\")\n",
        "axis[1,2].set_ylim([0, 270])\n",
        "\n",
        "#axis(1,3) use this axis for sodium level\n",
        "axis[1,3].set_title(\" Patients with Abnormal Sodium level\")\n",
        "sns.countplot(x = heart_failure_df.abnormal_sodium.sort_values(ascending =False), ax=axis[1,3], palette=['aquamarine', 'lightcoral'])\n",
        "axis[1,3].set_xlabel(\"\")\n",
        "axis[1,3].set_ylabel(\"Number of Patients\")\n",
        "axis[1,3].set_ylim([0, 270])\n",
        "\n",
        "#to provide spacing between adjacent plots\n",
        "plt.tight_layout(pad=2);"
      ]
    },
    {
      "cell_type": "markdown",
      "metadata": {
        "id": "BHwuh_67KOgb"
      },
      "source": [
        "  <p style='text-align:justify;'> As we can clearly identify, that abnormality in Ejection Fraction(EF) is the most common factor among the heart failure patients.</p>\n",
        "\n",
        "  <p style='text-align:justify;'><b>\"EF refers to the amount of blood being pumped out of the left ventricle each time it contracts. The left ventricle is the heart's main pumping chamber. Heart failure (HF) occurs when the heart cannot pump enough blood to meet the needs of the body\".</b></p>\n",
        "  <p style='text-align:justify;'> \n",
        "Low EF is one of the primary reasons which causes heart failure, that's the reason we have more number of patients with abnormal Ejection Fraction.</p>\n",
        "  <p style='text-align:justify;'> \n",
        "Abnormal Ejection Fraction is followed by the abnormal creatinine and sodium level respectively, the factor which is least common among the heart failure patients is abnormal Platelets Count (i.e only 47 Patients). </p>\n",
        "  <p style='text-align:justify;'> \n",
        "Number of Patients with Anaemia, Diabetes and High Blood Pressure are almost equal and ranges from 100 -  120 Patients. </p>"
      ]
    },
    {
      "cell_type": "markdown",
      "metadata": {
        "id": "HWJ88D7FKOgc"
      },
      "source": [
        "#### Pair wise relationship\n",
        "  <p style='text-align:justify;'> \n",
        "A pair plot gives pairwise relationships in a dataset. Let’s say that we have 5 variables in a dataset. When we implement pair plot with this data, it will create plots between those 5 variables. Say for example, the first variable will be taken as the x-axis value and other variables will be taken as y-axis value individually. As a result, you will have 5 plots for 1st variable alone. This will be repeated for the other variables as well.</p>\n",
        "  <p style='text-align:justify;'> \n",
        "The idea behind pair plot is to understand the relationship between the variables present in the data.</p>\n",
        "  <p style='text-align:justify;'> \n",
        "Let's separate numeric columns from the dataset to apply 'pairplot' function to understand the relationship between the different attributes. </p>"
      ]
    },
    {
      "cell_type": "code",
      "execution_count": 54,
      "metadata": {
        "id": "7H3guh_-KOgc"
      },
      "outputs": [],
      "source": [
        "#filter columns with numeric value\n",
        "numeric_column = heart_failure_df[['age', 'ejection_fraction', 'platelets', 'serum_creatinine', 'serum_sodium']]"
      ]
    },
    {
      "cell_type": "code",
      "execution_count": 55,
      "metadata": {
        "scrolled": true,
        "colab": {
          "base_uri": "https://localhost:8080/",
          "height": 899
        },
        "id": "orUWyQcxKOgd",
        "outputId": "b635ebe0-e856-4809-ccbc-3c4a67ab7939"
      },
      "outputs": [
        {
          "output_type": "display_data",
          "data": {
            "text/plain": [
              "<Figure size 900x900 with 30 Axes>"
            ],
            "image/png": "[encoded data removed]"
          },
          "metadata": {}
        }
      ],
      "source": [
        "sns.pairplot(numeric_column);"
      ]
    },
    {
      "cell_type": "markdown",
      "metadata": {
        "id": "m7MylHJ8KOgd"
      },
      "source": [
        "  <p style='text-align:justify;'> By using 'pairplot' function, we can easily understand and visualize the relationship between the different variables. For example, from the above output we found that only a few patients has normal creatinine and sodium level. </p>"
      ]
    },
    {
      "cell_type": "markdown",
      "metadata": {
        "id": "S6hxJgMtKOgd"
      },
      "source": [
        "#### Attributes - Distribution \n",
        "\n",
        "  <p style='text-align:justify;'> Let's build distribution plot for all  columns with numeric values.</p>\n",
        "\n",
        "  <p style='text-align:justify;'><b> Distribution plot helps us to find whether the variables are normally distributed or skewed. </b></p>"
      ]
    },
    {
      "cell_type": "code",
      "execution_count": 56,
      "metadata": {
        "colab": {
          "base_uri": "https://localhost:8080/",
          "height": 362
        },
        "id": "Cz8kqXG-KOge",
        "outputId": "68eed618-77b4-45b8-f225-1b6cff7c2f73"
      },
      "outputs": [
        {
          "output_type": "display_data",
          "data": {
            "text/plain": [
              "<Figure size 648x360 with 1 Axes>"
            ],
            "image/png": "[encoded data removed]"
          },
          "metadata": {}
        }
      ],
      "source": [
        "plt.title(\"Distribution of Ejection Fraction\")\n",
        "sns.histplot(heart_failure_df.ejection_fraction, kde = True, color ='purple');"
      ]
    },
    {
      "cell_type": "code",
      "execution_count": 57,
      "metadata": {
        "colab": {
          "base_uri": "https://localhost:8080/",
          "height": 362
        },
        "id": "ZdcJEacfKOge",
        "outputId": "82046c7c-3380-4732-941f-2b2252fd2e29"
      },
      "outputs": [
        {
          "output_type": "display_data",
          "data": {
            "text/plain": [
              "<Figure size 648x360 with 1 Axes>"
            ],
            "image/png": "[encoded data removed]"
          },
          "metadata": {}
        }
      ],
      "source": [
        "plt.title(\"Distribution of Platelets Count\") \n",
        "sns.histplot(heart_failure_df.platelets, kde = True, color ='purple');"
      ]
    },
    {
      "cell_type": "code",
      "execution_count": 58,
      "metadata": {
        "colab": {
          "base_uri": "https://localhost:8080/",
          "height": 362
        },
        "id": "NJOdIFBJKOgf",
        "outputId": "968c4fa5-d013-45d5-f740-569c2c7b91f6"
      },
      "outputs": [
        {
          "output_type": "display_data",
          "data": {
            "text/plain": [
              "<Figure size 648x360 with 1 Axes>"
            ],
            "image/png": "[encoded data removed]"
          },
          "metadata": {}
        }
      ],
      "source": [
        "plt.title(\"Distribution of Creatinine Level in the blood\") \n",
        "sns.histplot(heart_failure_df.serum_creatinine, kde = True, bins = 30, color ='purple');"
      ]
    },
    {
      "cell_type": "code",
      "execution_count": 59,
      "metadata": {
        "colab": {
          "base_uri": "https://localhost:8080/",
          "height": 362
        },
        "id": "UXw0YZmJKOgf",
        "outputId": "38a02ee0-500c-4d4e-a494-3526ad081073"
      },
      "outputs": [
        {
          "output_type": "display_data",
          "data": {
            "text/plain": [
              "<Figure size 648x360 with 1 Axes>"
            ],
            "image/png": "[encoded data removed]"
          },
          "metadata": {}
        }
      ],
      "source": [
        "plt.title(\"Distribution of Sodium Level in the blood\") \n",
        "sns.histplot(heart_failure_df.serum_sodium, kde = True, color ='purple');"
      ]
    },
    {
      "cell_type": "markdown",
      "metadata": {
        "id": "aSPaC3m0KOgg"
      },
      "source": [
        "  <p style='text-align:justify;'> Now that we have plotted distribution plot for platelets count, creatinine level, sodium level and ejection fraction and it's obvious that no values are normally distributed. Platelets count, Ejection Fraction and Creatinine Level are right skewed and Sodium Level is left skewed. If the skewness in the data is more, we may have to perform some modifications, in order to get better results from the Machine Learning models once we train them.</p>"
      ]
    },
    {
      "cell_type": "markdown",
      "metadata": {
        "id": "gsb8UgW_KOgg"
      },
      "source": [
        "# Exploration\n",
        "\n",
        "  <p style='text-align:justify;'> We've already gained several insights about the heart failure patients and their clinical records by exploring individual columns of the dataset. Let's ask some specific questions and we'll try to answer them using data frame operations and visualization. </p>"
      ]
    },
    {
      "cell_type": "markdown",
      "metadata": {
        "id": "_CkWnR7aKOgg"
      },
      "source": [
        "#### Q: How many number of patients are there in our observation? out of them how many male and  female patients are there? "
      ]
    },
    {
      "cell_type": "code",
      "execution_count": 60,
      "metadata": {
        "colab": {
          "base_uri": "https://localhost:8080/"
        },
        "id": "mSMETOyrKOgh",
        "outputId": "89d373f6-5021-4d8c-c1be-567894a49e6f"
      },
      "outputs": [
        {
          "output_type": "execute_result",
          "data": {
            "text/plain": [
              "(299, 16)"
            ]
          },
          "metadata": {},
          "execution_count": 60
        }
      ],
      "source": [
        "heart_failure_df.shape"
      ]
    },
    {
      "cell_type": "code",
      "execution_count": 61,
      "metadata": {
        "colab": {
          "base_uri": "https://localhost:8080/"
        },
        "id": "p7Nw62zTKOgh",
        "outputId": "8349a68b-3511-48fa-84fe-374ac6dca7e2"
      },
      "outputs": [
        {
          "output_type": "stream",
          "name": "stdout",
          "text": [
            "Total number of patients in our observation is 299.\n"
          ]
        }
      ],
      "source": [
        "print(\"Total number of patients in our observation is {}.\".format(heart_failure_df.shape[0]))"
      ]
    },
    {
      "cell_type": "code",
      "execution_count": 62,
      "metadata": {
        "colab": {
          "base_uri": "https://localhost:8080/"
        },
        "id": "xI-qO6fqKOgi",
        "outputId": "db96c81a-9840-434f-d003-9ef886aff4a1"
      },
      "outputs": [
        {
          "output_type": "execute_result",
          "data": {
            "text/plain": [
              "Male      194\n",
              "Female    105\n",
              "Name: sex, dtype: int64"
            ]
          },
          "metadata": {},
          "execution_count": 62
        }
      ],
      "source": [
        "heart_failure_df.sex.value_counts()"
      ]
    },
    {
      "cell_type": "code",
      "execution_count": 63,
      "metadata": {
        "colab": {
          "base_uri": "https://localhost:8080/"
        },
        "id": "E26iuvrrKOgi",
        "outputId": "bf0696d9-dacb-4724-9a4f-7ec85e1d0091"
      },
      "outputs": [
        {
          "output_type": "stream",
          "name": "stdout",
          "text": [
            "Number of Male patients in our observation is 194.\n",
            "Number of Female patients in our observation is 105.\n"
          ]
        }
      ],
      "source": [
        "print(\"Number of Male patients in our observation is {}.\".format(heart_failure_df.sex.value_counts()[0]))\n",
        "print(\"Number of Female patients in our observation is {}.\".format(heart_failure_df.sex.value_counts()[1]))"
      ]
    },
    {
      "cell_type": "markdown",
      "metadata": {
        "id": "hCvs5jW-KOgi"
      },
      "source": [
        "#### Q: What is the normal level of Ejection Fraction? How many patients had abnormal Ejection Fraction? "
      ]
    },
    {
      "cell_type": "code",
      "execution_count": 64,
      "metadata": {
        "colab": {
          "base_uri": "https://localhost:8080/",
          "height": 36
        },
        "id": "KzIbLVzsKOgj",
        "outputId": "425e995f-b53b-4b8d-a346-10ac19b0a39f"
      },
      "outputs": [
        {
          "output_type": "execute_result",
          "data": {
            "text/plain": [
              "'55% - 70%'"
            ],
            "application/vnd.google.colaboratory.intrinsic+json": {
              "type": "string"
            }
          },
          "metadata": {},
          "execution_count": 64
        }
      ],
      "source": [
        "column_details_df.normal_value['ejection_fraction']"
      ]
    },
    {
      "cell_type": "code",
      "execution_count": 65,
      "metadata": {
        "colab": {
          "base_uri": "https://localhost:8080/"
        },
        "id": "2js1IvPfKOgj",
        "outputId": "23d9e149-2d5c-4108-ca81-be75629ac0c7"
      },
      "outputs": [
        {
          "output_type": "stream",
          "name": "stdout",
          "text": [
            "The normal level of Ejection Fraction is 55% - 70%.\n"
          ]
        }
      ],
      "source": [
        "print(\"The normal level of Ejection Fraction is {}.\".format(column_details_df.normal_value['ejection_fraction']))"
      ]
    },
    {
      "cell_type": "code",
      "execution_count": 66,
      "metadata": {
        "colab": {
          "base_uri": "https://localhost:8080/"
        },
        "id": "PkmDd1MZKOgk",
        "outputId": "b035e8d1-a96d-4173-b74b-6b40f42ccab5"
      },
      "outputs": [
        {
          "output_type": "execute_result",
          "data": {
            "text/plain": [
              "(38, 16)"
            ]
          },
          "metadata": {},
          "execution_count": 66
        }
      ],
      "source": [
        "heart_failure_df[(heart_failure_df.ejection_fraction >= 55) & (heart_failure_df.ejection_fraction <= 70)].shape"
      ]
    },
    {
      "cell_type": "code",
      "execution_count": 67,
      "metadata": {
        "colab": {
          "base_uri": "https://localhost:8080/"
        },
        "id": "RrwAJAkQKOgk",
        "outputId": "cd412447-353c-4c6f-d8fd-3771f36820ab"
      },
      "outputs": [
        {
          "output_type": "stream",
          "name": "stdout",
          "text": [
            "Number of Patients with Normal Ejection Fraction rate is 38.\n"
          ]
        }
      ],
      "source": [
        "print(\"Number of Patients with Normal Ejection Fraction rate is {}.\".format(heart_failure_df[(heart_failure_df.ejection_fraction >= 55) & (heart_failure_df.ejection_fraction <= 70)].shape[0]))"
      ]
    },
    {
      "cell_type": "markdown",
      "metadata": {
        "id": "Dv1avLzFKOgl"
      },
      "source": [
        "#### Q: What is the normal level of Platelets Count? How many patients had abnormal Platelets Count? "
      ]
    },
    {
      "cell_type": "code",
      "execution_count": 68,
      "metadata": {
        "colab": {
          "base_uri": "https://localhost:8080/",
          "height": 36
        },
        "id": "zN2NOIAYKOgl",
        "outputId": "629aca48-1c1a-48ea-99e9-97f54bcaca2c"
      },
      "outputs": [
        {
          "output_type": "execute_result",
          "data": {
            "text/plain": [
              "'150 - 400 kilo-platelets / mcL'"
            ],
            "application/vnd.google.colaboratory.intrinsic+json": {
              "type": "string"
            }
          },
          "metadata": {},
          "execution_count": 68
        }
      ],
      "source": [
        "column_details_df.normal_value['platelets']"
      ]
    },
    {
      "cell_type": "code",
      "execution_count": 69,
      "metadata": {
        "colab": {
          "base_uri": "https://localhost:8080/"
        },
        "id": "jQ7s3zqlKOgl",
        "outputId": "235409ef-1098-41c6-bec0-adce71d95418"
      },
      "outputs": [
        {
          "output_type": "stream",
          "name": "stdout",
          "text": [
            "The normal level of Platelets Count in human body is 150 - 400 kilo-platelets / mcL.\n"
          ]
        }
      ],
      "source": [
        "print(\"The normal level of Platelets Count in human body is {}.\".format(column_details_df.normal_value['platelets']))"
      ]
    },
    {
      "cell_type": "code",
      "execution_count": 70,
      "metadata": {
        "scrolled": true,
        "colab": {
          "base_uri": "https://localhost:8080/"
        },
        "id": "4kDAQ9GOKOgm",
        "outputId": "8a25a72f-e983-4f33-9726-2eafdf6e6380"
      },
      "outputs": [
        {
          "output_type": "execute_result",
          "data": {
            "text/plain": [
              "(252, 16)"
            ]
          },
          "metadata": {},
          "execution_count": 70
        }
      ],
      "source": [
        "heart_failure_df[(heart_failure_df.platelets >= 150) & (heart_failure_df.platelets <= 400)].shape"
      ]
    },
    {
      "cell_type": "code",
      "execution_count": 71,
      "metadata": {
        "colab": {
          "base_uri": "https://localhost:8080/"
        },
        "id": "HKsL9sWBKOgm",
        "outputId": "985ba393-bc24-4047-dbb0-059a8e242e23"
      },
      "outputs": [
        {
          "output_type": "stream",
          "name": "stdout",
          "text": [
            "Number of Patients with Normal Platelets Count is 252.\n"
          ]
        }
      ],
      "source": [
        "print(\"Number of Patients with Normal Platelets Count is {}.\".format(heart_failure_df[(heart_failure_df.platelets >= 150) & (heart_failure_df.platelets <= 400)].shape[0]))"
      ]
    },
    {
      "cell_type": "markdown",
      "metadata": {
        "id": "c2viLBt9KOgn"
      },
      "source": [
        "#### Q: What is the normal level of Creatinine in the blood? How many patients had abnormal Creatinine level? "
      ]
    },
    {
      "cell_type": "code",
      "execution_count": 72,
      "metadata": {
        "colab": {
          "base_uri": "https://localhost:8080/",
          "height": 36
        },
        "id": "9GrRUOKiKOgn",
        "outputId": "ae599680-ec1c-49b0-fba4-5614551546d7"
      },
      "outputs": [
        {
          "output_type": "execute_result",
          "data": {
            "text/plain": [
              "'0.6 - 1.2 mg/dL'"
            ],
            "application/vnd.google.colaboratory.intrinsic+json": {
              "type": "string"
            }
          },
          "metadata": {},
          "execution_count": 72
        }
      ],
      "source": [
        "column_details_df.normal_value['serum_creatinine']"
      ]
    },
    {
      "cell_type": "code",
      "execution_count": 73,
      "metadata": {
        "colab": {
          "base_uri": "https://localhost:8080/"
        },
        "id": "KBiK20BRKOgo",
        "outputId": "961accda-24da-4b7e-c6e1-332e6533ae52"
      },
      "outputs": [
        {
          "output_type": "stream",
          "name": "stdout",
          "text": [
            "The normal level of Creatinine in the blood is 0.6 - 1.2 mg/dL.\n"
          ]
        }
      ],
      "source": [
        "print(\"The normal level of Creatinine in the blood is {}.\".format(column_details_df.normal_value['serum_creatinine']))"
      ]
    },
    {
      "cell_type": "code",
      "execution_count": 74,
      "metadata": {
        "colab": {
          "base_uri": "https://localhost:8080/"
        },
        "id": "6VKYCJ-1KOgo",
        "outputId": "533b9e49-fe2b-42d7-fe6b-aeab9db983ce"
      },
      "outputs": [
        {
          "output_type": "execute_result",
          "data": {
            "text/plain": [
              "(197, 16)"
            ]
          },
          "metadata": {},
          "execution_count": 74
        }
      ],
      "source": [
        "heart_failure_df[(heart_failure_df.serum_creatinine >= 0.6) & (heart_failure_df.serum_creatinine <= 1.2)].shape"
      ]
    },
    {
      "cell_type": "code",
      "execution_count": 75,
      "metadata": {
        "colab": {
          "base_uri": "https://localhost:8080/"
        },
        "id": "yOtobndiKOgp",
        "outputId": "8b552d18-603c-482d-c523-19fca03dd949"
      },
      "outputs": [
        {
          "output_type": "stream",
          "name": "stdout",
          "text": [
            "Number of Patients with Normal Creatinine level in the blood is 197.\n"
          ]
        }
      ],
      "source": [
        "print(\"Number of Patients with Normal Creatinine level in the blood is {}.\".format(heart_failure_df[(heart_failure_df.serum_creatinine >= 0.6) & (heart_failure_df.serum_creatinine <= 1.2)].shape[0])) "
      ]
    },
    {
      "cell_type": "markdown",
      "metadata": {
        "id": "RJIN6r3AKOgp"
      },
      "source": [
        "#### Q: What is the normal level of Sodium in the blood? How many patients had abnormal Sodium level? "
      ]
    },
    {
      "cell_type": "code",
      "execution_count": 76,
      "metadata": {
        "colab": {
          "base_uri": "https://localhost:8080/",
          "height": 36
        },
        "id": "pK6M7myTKOgp",
        "outputId": "e319b27c-56e8-4bd0-9315-9cdf98111115"
      },
      "outputs": [
        {
          "output_type": "execute_result",
          "data": {
            "text/plain": [
              "'135 - 145 mEq /L'"
            ],
            "application/vnd.google.colaboratory.intrinsic+json": {
              "type": "string"
            }
          },
          "metadata": {},
          "execution_count": 76
        }
      ],
      "source": [
        "column_details_df.normal_value['serum_sodium']"
      ]
    },
    {
      "cell_type": "code",
      "execution_count": 77,
      "metadata": {
        "colab": {
          "base_uri": "https://localhost:8080/"
        },
        "id": "CdSdB1McKOgq",
        "outputId": "783209a7-78f3-4aa7-d5cf-2788ad7ad0b8"
      },
      "outputs": [
        {
          "output_type": "stream",
          "name": "stdout",
          "text": [
            "The normal level of Sodium in the blood is 135 - 145 mEq /L.\n"
          ]
        }
      ],
      "source": [
        "print(\"The normal level of Sodium in the blood is {}.\".format(column_details_df.normal_value['serum_sodium']))"
      ]
    },
    {
      "cell_type": "code",
      "execution_count": 78,
      "metadata": {
        "scrolled": true,
        "colab": {
          "base_uri": "https://localhost:8080/"
        },
        "id": "EIZf5hTrKOgq",
        "outputId": "a80a7917-f4ef-44ce-d16c-139affdf9a20"
      },
      "outputs": [
        {
          "output_type": "execute_result",
          "data": {
            "text/plain": [
              "(214, 16)"
            ]
          },
          "metadata": {},
          "execution_count": 78
        }
      ],
      "source": [
        "heart_failure_df[(heart_failure_df.serum_sodium >= 135) & (heart_failure_df.serum_sodium <= 145)].shape"
      ]
    },
    {
      "cell_type": "code",
      "execution_count": 79,
      "metadata": {
        "colab": {
          "base_uri": "https://localhost:8080/"
        },
        "id": "lz2wULIvKOgs",
        "outputId": "f7369574-d3fa-4d45-b3fb-75846731e2f5"
      },
      "outputs": [
        {
          "output_type": "stream",
          "name": "stdout",
          "text": [
            "Number of Patients with Normal Sodium level in the blood is 214.\n"
          ]
        }
      ],
      "source": [
        "print(\"Number of Patients with Normal Sodium level in the blood is {}.\".format(heart_failure_df[(heart_failure_df.serum_sodium >= 135) & (heart_failure_df.serum_sodium <= 145)].shape[0])) "
      ]
    },
    {
      "cell_type": "markdown",
      "metadata": {
        "id": "REeLP1G8KOgs"
      },
      "source": [
        "#### Q: How many patients had smoking habit? out of them how many male and female patients are there? "
      ]
    },
    {
      "cell_type": "code",
      "execution_count": 80,
      "metadata": {
        "colab": {
          "base_uri": "https://localhost:8080/",
          "height": 487
        },
        "id": "GOvU8yThKOgt",
        "outputId": "0b18ff34-5443-46cb-88f1-8e97cf310eb6"
      },
      "outputs": [
        {
          "output_type": "execute_result",
          "data": {
            "text/plain": [
              "     age  anaemia  diabetes  ejection_fraction  high_blood_pressure  \\\n",
              "2     65    False     False                 20                False   \n",
              "5     90     True     False                 40                 True   \n",
              "7     60     True      True                 60                False   \n",
              "9     80     True     False                 35                 True   \n",
              "10    75     True     False                 38                 True   \n",
              "..   ...      ...       ...                ...                  ...   \n",
              "292   52    False      True                 38                False   \n",
              "293   63     True      True                 35                False   \n",
              "294   62    False      True                 38                 True   \n",
              "297   45    False     False                 38                False   \n",
              "298   50    False     False                 45                False   \n",
              "\n",
              "     platelets  serum_creatinine  serum_sodium   sex  smoking  patient_dead  \\\n",
              "2          162               1.3           129  Male     True          True   \n",
              "5          204               2.1           132  Male     True          True   \n",
              "7          454               1.1           131  Male     True          True   \n",
              "9          388               9.4           133  Male     True          True   \n",
              "10         368               4.0           131  Male     True          True   \n",
              "..         ...               ...           ...   ...      ...           ...   \n",
              "292        382               1.0           140  Male     True         False   \n",
              "293        179               0.9           136  Male     True         False   \n",
              "294        155               1.1           143  Male     True         False   \n",
              "297        140               1.4           140  Male     True         False   \n",
              "298        395               1.6           136  Male     True         False   \n",
              "\n",
              "    age_group abnormal_ef abnormal_platelets abnormal_creatinine  \\\n",
              "2       65-70     Abormal             Normal            Abnormal   \n",
              "5       90-95     Abormal             Normal            Abnormal   \n",
              "7       60-65      Normal           Abnormal              Normal   \n",
              "9       80-85     Abormal             Normal            Abnormal   \n",
              "10      75-80     Abormal             Normal            Abnormal   \n",
              "..        ...         ...                ...                 ...   \n",
              "292     50-55     Abormal             Normal              Normal   \n",
              "293     60-65     Abormal             Normal              Normal   \n",
              "294     60-65     Abormal             Normal              Normal   \n",
              "297     45-50     Abormal           Abnormal            Abnormal   \n",
              "298     50-55     Abormal             Normal            Abnormal   \n",
              "\n",
              "    abnormal_sodium  \n",
              "2          Abnormal  \n",
              "5          Abnormal  \n",
              "7          Abnormal  \n",
              "9          Abnormal  \n",
              "10         Abnormal  \n",
              "..              ...  \n",
              "292          Normal  \n",
              "293          Normal  \n",
              "294          Normal  \n",
              "297          Normal  \n",
              "298          Normal  \n",
              "\n",
              "[96 rows x 16 columns]"
            ],
            "text/html": [
              "\n",
              "  <div id=\"df-47dc210b-d22d-4510-986c-00d0b406ff95\">\n",
              "    <div class=\"colab-df-container\">\n",
              "      <div>\n",
              "<style scoped>\n",
              "    .dataframe tbody tr th:only-of-type {\n",
              "        vertical-align: middle;\n",
              "    }\n",
              "\n",
              "    .dataframe tbody tr th {\n",
              "        vertical-align: top;\n",
              "    }\n",
              "\n",
              "    .dataframe thead th {\n",
              "        text-align: right;\n",
              "    }\n",
              "</style>\n",
              "<table border=\"1\" class=\"dataframe\">\n",
              "  <thead>\n",
              "    <tr style=\"text-align: right;\">\n",
              "      <th></th>\n",
              "      <th>age</th>\n",
              "      <th>anaemia</th>\n",
              "      <th>diabetes</th>\n",
              "      <th>ejection_fraction</th>\n",
              "      <th>high_blood_pressure</th>\n",
              "      <th>platelets</th>\n",
              "      <th>serum_creatinine</th>\n",
              "      <th>serum_sodium</th>\n",
              "      <th>sex</th>\n",
              "      <th>smoking</th>\n",
              "      <th>patient_dead</th>\n",
              "      <th>age_group</th>\n",
              "      <th>abnormal_ef</th>\n",
              "      <th>abnormal_platelets</th>\n",
              "      <th>abnormal_creatinine</th>\n",
              "      <th>abnormal_sodium</th>\n",
              "    </tr>\n",
              "  </thead>\n",
              "  <tbody>\n",
              "    <tr>\n",
              "      <th>2</th>\n",
              "      <td>65</td>\n",
              "      <td>False</td>\n",
              "      <td>False</td>\n",
              "      <td>20</td>\n",
              "      <td>False</td>\n",
              "      <td>162</td>\n",
              "      <td>1.3</td>\n",
              "      <td>129</td>\n",
              "      <td>Male</td>\n",
              "      <td>True</td>\n",
              "      <td>True</td>\n",
              "      <td>65-70</td>\n",
              "      <td>Abormal</td>\n",
              "      <td>Normal</td>\n",
              "      <td>Abnormal</td>\n",
              "      <td>Abnormal</td>\n",
              "    </tr>\n",
              "    <tr>\n",
              "      <th>5</th>\n",
              "      <td>90</td>\n",
              "      <td>True</td>\n",
              "      <td>False</td>\n",
              "      <td>40</td>\n",
              "      <td>True</td>\n",
              "      <td>204</td>\n",
              "      <td>2.1</td>\n",
              "      <td>132</td>\n",
              "      <td>Male</td>\n",
              "      <td>True</td>\n",
              "      <td>True</td>\n",
              "      <td>90-95</td>\n",
              "      <td>Abormal</td>\n",
              "      <td>Normal</td>\n",
              "      <td>Abnormal</td>\n",
              "      <td>Abnormal</td>\n",
              "    </tr>\n",
              "    <tr>\n",
              "      <th>7</th>\n",
              "      <td>60</td>\n",
              "      <td>True</td>\n",
              "      <td>True</td>\n",
              "      <td>60</td>\n",
              "      <td>False</td>\n",
              "      <td>454</td>\n",
              "      <td>1.1</td>\n",
              "      <td>131</td>\n",
              "      <td>Male</td>\n",
              "      <td>True</td>\n",
              "      <td>True</td>\n",
              "      <td>60-65</td>\n",
              "      <td>Normal</td>\n",
              "      <td>Abnormal</td>\n",
              "      <td>Normal</td>\n",
              "      <td>Abnormal</td>\n",
              "    </tr>\n",
              "    <tr>\n",
              "      <th>9</th>\n",
              "      <td>80</td>\n",
              "      <td>True</td>\n",
              "      <td>False</td>\n",
              "      <td>35</td>\n",
              "      <td>True</td>\n",
              "      <td>388</td>\n",
              "      <td>9.4</td>\n",
              "      <td>133</td>\n",
              "      <td>Male</td>\n",
              "      <td>True</td>\n",
              "      <td>True</td>\n",
              "      <td>80-85</td>\n",
              "      <td>Abormal</td>\n",
              "      <td>Normal</td>\n",
              "      <td>Abnormal</td>\n",
              "      <td>Abnormal</td>\n",
              "    </tr>\n",
              "    <tr>\n",
              "      <th>10</th>\n",
              "      <td>75</td>\n",
              "      <td>True</td>\n",
              "      <td>False</td>\n",
              "      <td>38</td>\n",
              "      <td>True</td>\n",
              "      <td>368</td>\n",
              "      <td>4.0</td>\n",
              "      <td>131</td>\n",
              "      <td>Male</td>\n",
              "      <td>True</td>\n",
              "      <td>True</td>\n",
              "      <td>75-80</td>\n",
              "      <td>Abormal</td>\n",
              "      <td>Normal</td>\n",
              "      <td>Abnormal</td>\n",
              "      <td>Abnormal</td>\n",
              "    </tr>\n",
              "    <tr>\n",
              "      <th>...</th>\n",
              "      <td>...</td>\n",
              "      <td>...</td>\n",
              "      <td>...</td>\n",
              "      <td>...</td>\n",
              "      <td>...</td>\n",
              "      <td>...</td>\n",
              "      <td>...</td>\n",
              "      <td>...</td>\n",
              "      <td>...</td>\n",
              "      <td>...</td>\n",
              "      <td>...</td>\n",
              "      <td>...</td>\n",
              "      <td>...</td>\n",
              "      <td>...</td>\n",
              "      <td>...</td>\n",
              "      <td>...</td>\n",
              "    </tr>\n",
              "    <tr>\n",
              "      <th>292</th>\n",
              "      <td>52</td>\n",
              "      <td>False</td>\n",
              "      <td>True</td>\n",
              "      <td>38</td>\n",
              "      <td>False</td>\n",
              "      <td>382</td>\n",
              "      <td>1.0</td>\n",
              "      <td>140</td>\n",
              "      <td>Male</td>\n",
              "      <td>True</td>\n",
              "      <td>False</td>\n",
              "      <td>50-55</td>\n",
              "      <td>Abormal</td>\n",
              "      <td>Normal</td>\n",
              "      <td>Normal</td>\n",
              "      <td>Normal</td>\n",
              "    </tr>\n",
              "    <tr>\n",
              "      <th>293</th>\n",
              "      <td>63</td>\n",
              "      <td>True</td>\n",
              "      <td>True</td>\n",
              "      <td>35</td>\n",
              "      <td>False</td>\n",
              "      <td>179</td>\n",
              "      <td>0.9</td>\n",
              "      <td>136</td>\n",
              "      <td>Male</td>\n",
              "      <td>True</td>\n",
              "      <td>False</td>\n",
              "      <td>60-65</td>\n",
              "      <td>Abormal</td>\n",
              "      <td>Normal</td>\n",
              "      <td>Normal</td>\n",
              "      <td>Normal</td>\n",
              "    </tr>\n",
              "    <tr>\n",
              "      <th>294</th>\n",
              "      <td>62</td>\n",
              "      <td>False</td>\n",
              "      <td>True</td>\n",
              "      <td>38</td>\n",
              "      <td>True</td>\n",
              "      <td>155</td>\n",
              "      <td>1.1</td>\n",
              "      <td>143</td>\n",
              "      <td>Male</td>\n",
              "      <td>True</td>\n",
              "      <td>False</td>\n",
              "      <td>60-65</td>\n",
              "      <td>Abormal</td>\n",
              "      <td>Normal</td>\n",
              "      <td>Normal</td>\n",
              "      <td>Normal</td>\n",
              "    </tr>\n",
              "    <tr>\n",
              "      <th>297</th>\n",
              "      <td>45</td>\n",
              "      <td>False</td>\n",
              "      <td>False</td>\n",
              "      <td>38</td>\n",
              "      <td>False</td>\n",
              "      <td>140</td>\n",
              "      <td>1.4</td>\n",
              "      <td>140</td>\n",
              "      <td>Male</td>\n",
              "      <td>True</td>\n",
              "      <td>False</td>\n",
              "      <td>45-50</td>\n",
              "      <td>Abormal</td>\n",
              "      <td>Abnormal</td>\n",
              "      <td>Abnormal</td>\n",
              "      <td>Normal</td>\n",
              "    </tr>\n",
              "    <tr>\n",
              "      <th>298</th>\n",
              "      <td>50</td>\n",
              "      <td>False</td>\n",
              "      <td>False</td>\n",
              "      <td>45</td>\n",
              "      <td>False</td>\n",
              "      <td>395</td>\n",
              "      <td>1.6</td>\n",
              "      <td>136</td>\n",
              "      <td>Male</td>\n",
              "      <td>True</td>\n",
              "      <td>False</td>\n",
              "      <td>50-55</td>\n",
              "      <td>Abormal</td>\n",
              "      <td>Normal</td>\n",
              "      <td>Abnormal</td>\n",
              "      <td>Normal</td>\n",
              "    </tr>\n",
              "  </tbody>\n",
              "</table>\n",
              "<p>96 rows × 16 columns</p>\n",
              "</div>\n",
              "      <button class=\"colab-df-convert\" onclick=\"convertToInteractive('df-47dc210b-d22d-4510-986c-00d0b406ff95')\"\n",
              "              title=\"Convert this dataframe to an interactive table.\"\n",
              "              style=\"display:none;\">\n",
              "        \n",
              "  <svg xmlns=\"http://www.w3.org/2000/svg\" height=\"24px\"viewBox=\"0 0 24 24\"\n",
              "       width=\"24px\">\n",
              "    <path d=\"M0 0h24v24H0V0z\" fill=\"none\"/>\n",
              "    <path d=\"M18.56 5.44l.94 2.06.94-2.06 2.06-.94-2.06-.94-.94-2.06-.94 2.06-2.06.94zm-11 1L8.5 8.5l.94-2.06 2.06-.94-2.06-.94L8.5 2.5l-.94 2.06-2.06.94zm10 10l.94 2.06.94-2.06 2.06-.94-2.06-.94-.94-2.06-.94 2.06-2.06.94z\"/><path d=\"M17.41 7.96l-1.37-1.37c-.4-.4-.92-.59-1.43-.59-.52 0-1.04.2-1.43.59L10.3 9.45l-7.72 7.72c-.78.78-.78 2.05 0 2.83L4 21.41c.39.39.9.59 1.41.59.51 0 1.02-.2 1.41-.59l7.78-7.78 2.81-2.81c.8-.78.8-2.07 0-2.86zM5.41 20L4 18.59l7.72-7.72 1.47 1.35L5.41 20z\"/>\n",
              "  </svg>\n",
              "      </button>\n",
              "      \n",
              "  <style>\n",
              "    .colab-df-container {\n",
              "      display:flex;\n",
              "      flex-wrap:wrap;\n",
              "      gap: 12px;\n",
              "    }\n",
              "\n",
              "    .colab-df-convert {\n",
              "      background-color: #E8F0FE;\n",
              "      border: none;\n",
              "      border-radius: 50%;\n",
              "      cursor: pointer;\n",
              "      display: none;\n",
              "      fill: #1967D2;\n",
              "      height: 32px;\n",
              "      padding: 0 0 0 0;\n",
              "      width: 32px;\n",
              "    }\n",
              "\n",
              "    .colab-df-convert:hover {\n",
              "      background-color: #E2EBFA;\n",
              "      box-shadow: 0px 1px 2px rgba(60, 64, 67, 0.3), 0px 1px 3px 1px rgba(60, 64, 67, 0.15);\n",
              "      fill: #174EA6;\n",
              "    }\n",
              "\n",
              "    [theme=dark] .colab-df-convert {\n",
              "      background-color: #3B4455;\n",
              "      fill: #D2E3FC;\n",
              "    }\n",
              "\n",
              "    [theme=dark] .colab-df-convert:hover {\n",
              "      background-color: #434B5C;\n",
              "      box-shadow: 0px 1px 3px 1px rgba(0, 0, 0, 0.15);\n",
              "      filter: drop-shadow(0px 1px 2px rgba(0, 0, 0, 0.3));\n",
              "      fill: #FFFFFF;\n",
              "    }\n",
              "  </style>\n",
              "\n",
              "      <script>\n",
              "        const buttonEl =\n",
              "          document.querySelector('#df-47dc210b-d22d-4510-986c-00d0b406ff95 button.colab-df-convert');\n",
              "        buttonEl.style.display =\n",
              "          google.colab.kernel.accessAllowed ? 'block' : 'none';\n",
              "\n",
              "        async function convertToInteractive(key) {\n",
              "          const element = document.querySelector('#df-47dc210b-d22d-4510-986c-00d0b406ff95');\n",
              "          const dataTable =\n",
              "            await google.colab.kernel.invokeFunction('convertToInteractive',\n",
              "                                                     [key], {});\n",
              "          if (!dataTable) return;\n",
              "\n",
              "          const docLinkHtml = 'Like what you see? Visit the ' +\n",
              "            '<a target=\"_blank\" href=https://colab.research.google.com/notebooks/data_table.ipynb>data table notebook</a>'\n",
              "            + ' to learn more about interactive tables.';\n",
              "          element.innerHTML = '';\n",
              "          dataTable['output_type'] = 'display_data';\n",
              "          await google.colab.output.renderOutput(dataTable, element);\n",
              "          const docLink = document.createElement('div');\n",
              "          docLink.innerHTML = docLinkHtml;\n",
              "          element.appendChild(docLink);\n",
              "        }\n",
              "      </script>\n",
              "    </div>\n",
              "  </div>\n",
              "  "
            ]
          },
          "metadata": {},
          "execution_count": 80
        }
      ],
      "source": [
        "heart_failure_df[heart_failure_df.smoking == True]"
      ]
    },
    {
      "cell_type": "code",
      "execution_count": 81,
      "metadata": {
        "colab": {
          "base_uri": "https://localhost:8080/"
        },
        "id": "20YwlN89KOgt",
        "outputId": "1695679e-e450-4bf7-fc41-49fb20d7203a"
      },
      "outputs": [
        {
          "output_type": "stream",
          "name": "stdout",
          "text": [
            "Number of Patients with Smoking Habit is 96.\n"
          ]
        }
      ],
      "source": [
        "print(\"Number of Patients with Smoking Habit is {}.\".format(heart_failure_df[heart_failure_df.smoking == True].shape[0]))"
      ]
    },
    {
      "cell_type": "code",
      "execution_count": 82,
      "metadata": {
        "colab": {
          "base_uri": "https://localhost:8080/"
        },
        "id": "8mZRZE4bKOgu",
        "outputId": "acc10216-3086-4fd9-9e54-ff7ff31e4c1a"
      },
      "outputs": [
        {
          "output_type": "execute_result",
          "data": {
            "text/plain": [
              "sex\n",
              "Female     4\n",
              "Male      92\n",
              "Name: smoking, dtype: int64"
            ]
          },
          "metadata": {},
          "execution_count": 82
        }
      ],
      "source": [
        "smokers = heart_failure_df[heart_failure_df.smoking == True].groupby('sex').count()\n",
        "smokers = smokers['smoking']\n",
        "smokers"
      ]
    },
    {
      "cell_type": "code",
      "execution_count": 83,
      "metadata": {
        "colab": {
          "base_uri": "https://localhost:8080/"
        },
        "id": "kZa0MzA8KOgu",
        "outputId": "ac036c54-f6f5-418c-df7b-a92409ca61d5"
      },
      "outputs": [
        {
          "output_type": "stream",
          "name": "stdout",
          "text": [
            "Number of Male Patients with Smoking Habit is 92.\n"
          ]
        }
      ],
      "source": [
        "print(\"Number of Male Patients with Smoking Habit is {}.\".format(smokers[1]))"
      ]
    },
    {
      "cell_type": "code",
      "execution_count": 84,
      "metadata": {
        "colab": {
          "base_uri": "https://localhost:8080/"
        },
        "id": "ppKnQFqLKOgv",
        "outputId": "a1a9586f-4bf1-463f-bf6e-c4a697eaad78"
      },
      "outputs": [
        {
          "output_type": "stream",
          "name": "stdout",
          "text": [
            "Number of Female Patients with Smoking Habit is 4.\n"
          ]
        }
      ],
      "source": [
        "print(\"Number of Female Patients with Smoking Habit is {}.\".format(smokers[0]))"
      ]
    },
    {
      "cell_type": "markdown",
      "metadata": {
        "id": "nYnc5e1ZKOgv"
      },
      "source": [
        "#### Q: How many patients had anaemia or diabetes or high blood pressure? "
      ]
    },
    {
      "cell_type": "code",
      "execution_count": 85,
      "metadata": {
        "id": "zwvX5xLdKOgw"
      },
      "outputs": [],
      "source": [
        "anaemia_patients = heart_failure_df[heart_failure_df.anaemia == True].shape[0]\n",
        "diabetes_patients = heart_failure_df[heart_failure_df.diabetes == True].shape[0]\n",
        "high_bp_patients = heart_failure_df[heart_failure_df.high_blood_pressure == True].shape[0]"
      ]
    },
    {
      "cell_type": "code",
      "execution_count": 86,
      "metadata": {
        "colab": {
          "base_uri": "https://localhost:8080/"
        },
        "id": "8hKlCFPdKOgw",
        "outputId": "62020464-165a-4eb7-851e-365f783add9c"
      },
      "outputs": [
        {
          "output_type": "stream",
          "name": "stdout",
          "text": [
            "Number of Patients with Anaemia is 129.\n",
            "Number of Patients with Diabetes is 125.\n",
            "Number of Patients with High Blood Pressure is 105.\n"
          ]
        }
      ],
      "source": [
        "print(\"Number of Patients with Anaemia is {}.\".format(anaemia_patients))\n",
        "print(\"Number of Patients with Diabetes is {}.\".format(diabetes_patients))\n",
        "print(\"Number of Patients with High Blood Pressure is {}.\".format(high_bp_patients))"
      ]
    },
    {
      "cell_type": "markdown",
      "metadata": {
        "id": "6W3fstucKOgw"
      },
      "source": [
        "#### Q: How many patients had  both (anaemia &  diabetes) or (anaemia & high blood pressure) or (diabetes & high blood pressure)? And how many patients had all three? "
      ]
    },
    {
      "cell_type": "code",
      "execution_count": 87,
      "metadata": {
        "id": "phF2f5cAKOgx"
      },
      "outputs": [],
      "source": [
        "anaemia_diabetes = heart_failure_df[(heart_failure_df.anaemia == True) & (heart_failure_df.diabetes == True)].shape[0]\n",
        "anaemia_high_bp = heart_failure_df[(heart_failure_df.anaemia == True) & (heart_failure_df.high_blood_pressure == True)].shape[0]\n",
        "diabetes_high_bp = heart_failure_df[(heart_failure_df.high_blood_pressure == True) & (heart_failure_df.diabetes == True)].shape[0]   "
      ]
    },
    {
      "cell_type": "code",
      "execution_count": 88,
      "metadata": {
        "colab": {
          "base_uri": "https://localhost:8080/"
        },
        "id": "7t3HLOqjKOgx",
        "outputId": "1617fb32-d4bc-47e9-ee70-2bce3fb99d8c"
      },
      "outputs": [
        {
          "output_type": "stream",
          "name": "stdout",
          "text": [
            "Number of Patients with Anaemia and Diabetes is 53.\n",
            "Number of Patients with Anaemia and High Blood Pressure is 48.\n",
            "Number of Patients with Diabetes and High Blood Pressure is 43.\n"
          ]
        }
      ],
      "source": [
        "print(\"Number of Patients with Anaemia and Diabetes is {}.\".format(anaemia_diabetes))\n",
        "print(\"Number of Patients with Anaemia and High Blood Pressure is {}.\".format(anaemia_high_bp))\n",
        "print(\"Number of Patients with Diabetes and High Blood Pressure is {}.\".format(diabetes_high_bp))"
      ]
    },
    {
      "cell_type": "code",
      "execution_count": 89,
      "metadata": {
        "colab": {
          "base_uri": "https://localhost:8080/"
        },
        "id": "HcoFvQcjKOgy",
        "outputId": "b0388733-173b-47f8-dc7a-b50473807ec4"
      },
      "outputs": [
        {
          "output_type": "execute_result",
          "data": {
            "text/plain": [
              "17"
            ]
          },
          "metadata": {},
          "execution_count": 89
        }
      ],
      "source": [
        "all_three = heart_failure_df[(heart_failure_df.anaemia == True) & (heart_failure_df.diabetes == True) & (heart_failure_df.high_blood_pressure == True)].shape[0]\n",
        "all_three"
      ]
    },
    {
      "cell_type": "code",
      "execution_count": 90,
      "metadata": {
        "colab": {
          "base_uri": "https://localhost:8080/"
        },
        "id": "iJen1XaOKOgy",
        "outputId": "2261173b-d800-49d1-9650-22b35ab538c9"
      },
      "outputs": [
        {
          "output_type": "stream",
          "name": "stdout",
          "text": [
            "Number of Patients with Anaemia, Diabetes and High Blood Pressure is 17.\n"
          ]
        }
      ],
      "source": [
        "print(\"Number of Patients with Anaemia, Diabetes and High Blood Pressure is {}.\".format(all_three))\n"
      ]
    },
    {
      "cell_type": "markdown",
      "metadata": {
        "id": "_lOIwk7FKOg0"
      },
      "source": [
        "#### Q: How many patients died during the follow-up period? out of them how many male and female patients are there"
      ]
    },
    {
      "cell_type": "code",
      "execution_count": 91,
      "metadata": {
        "colab": {
          "base_uri": "https://localhost:8080/"
        },
        "id": "yYFYcLKYKOg0",
        "outputId": "da32b196-8dc9-419d-a559-e3a177795371"
      },
      "outputs": [
        {
          "output_type": "execute_result",
          "data": {
            "text/plain": [
              "96"
            ]
          },
          "metadata": {},
          "execution_count": 91
        }
      ],
      "source": [
        "heart_failure_df[heart_failure_df.patient_dead == True].shape[0]"
      ]
    },
    {
      "cell_type": "code",
      "execution_count": 92,
      "metadata": {
        "colab": {
          "base_uri": "https://localhost:8080/"
        },
        "id": "wLd3YDbQKOg1",
        "outputId": "00c5391b-5ad3-4540-9635-1557860fbb79"
      },
      "outputs": [
        {
          "output_type": "stream",
          "name": "stdout",
          "text": [
            "Number of Patients died during follow-up period is 96.\n"
          ]
        }
      ],
      "source": [
        "print(\"Number of Patients died during follow-up period is {}.\".format(heart_failure_df[heart_failure_df.patient_dead == True].shape[0]))"
      ]
    },
    {
      "cell_type": "code",
      "execution_count": 93,
      "metadata": {
        "id": "C8C1zeJUKOg1"
      },
      "outputs": [],
      "source": [
        "male_dead = heart_failure_df[(heart_failure_df.patient_dead == True) & (heart_failure_df.sex == 'Male')].shape[0]\n",
        "female_dead = heart_failure_df[(heart_failure_df.patient_dead == True) & (heart_failure_df.sex == 'Female')].shape[0]"
      ]
    },
    {
      "cell_type": "code",
      "execution_count": 94,
      "metadata": {
        "colab": {
          "base_uri": "https://localhost:8080/"
        },
        "id": "E5mm6NR9KOg2",
        "outputId": "91c6aa44-10d0-4bba-c6af-d3f3e662a599"
      },
      "outputs": [
        {
          "output_type": "stream",
          "name": "stdout",
          "text": [
            "Number of Male Patients died during follow-up period is 62.\n",
            "Number of Female Patients died during follow-up period is 34.\n"
          ]
        }
      ],
      "source": [
        "print(\"Number of Male Patients died during follow-up period is {}.\".format(male_dead))\n",
        "print(\"Number of Female Patients died during follow-up period is {}.\".format(female_dead))"
      ]
    },
    {
      "cell_type": "markdown",
      "metadata": {
        "id": "DIt1DaVGKOg2"
      },
      "source": [
        "#### Q: Which disease / abnormality is most common and least common among the heart failure patients? "
      ]
    },
    {
      "cell_type": "code",
      "execution_count": 95,
      "metadata": {
        "colab": {
          "base_uri": "https://localhost:8080/"
        },
        "id": "hvq_wJTQKOg2",
        "outputId": "dd5089f6-3262-4ac9-ba9e-092d953dfddc"
      },
      "outputs": [
        {
          "output_type": "execute_result",
          "data": {
            "text/plain": [
              "Index(['age', 'anaemia', 'diabetes', 'ejection_fraction',\n",
              "       'high_blood_pressure', 'platelets', 'serum_creatinine', 'serum_sodium',\n",
              "       'sex', 'smoking', 'patient_dead', 'age_group', 'abnormal_ef',\n",
              "       'abnormal_platelets', 'abnormal_creatinine', 'abnormal_sodium'],\n",
              "      dtype='object')"
            ]
          },
          "metadata": {},
          "execution_count": 95
        }
      ],
      "source": [
        "heart_failure_df.columns"
      ]
    },
    {
      "cell_type": "code",
      "execution_count": 96,
      "metadata": {
        "colab": {
          "base_uri": "https://localhost:8080/"
        },
        "id": "UlIDbWIZKOg3",
        "outputId": "7069a56c-3bb6-4d3c-faf0-98c92960ef69"
      },
      "outputs": [
        {
          "output_type": "stream",
          "name": "stdout",
          "text": [
            "({'ejection_fraction': 261}, {'platelets': 47}, {'serum_creatinine': 102}, {'serum_sodium': 85}, {'anaemia': 129}, {'diabetes': 125}, {'high_blood_pressure': 105})\n",
            "261\n",
            "47\n"
          ]
        }
      ],
      "source": [
        "dict = ({heart_failure_df.columns[3]:abn_ef.shape[0]} , {heart_failure_df.columns[5]:abn_platelets.shape[0]} , {heart_failure_df.columns[6]:abn_creatinine.shape[0]}, {heart_failure_df.columns[7]: abn_sodium.shape[0]} , {heart_failure_df.columns[1]:anaemia_patients} , {heart_failure_df.columns[2]:diabetes_patients} , {heart_failure_df.columns[4]:high_bp_patients})\n",
        "print (dict)\n",
        "print (max(abn_ef.shape[0], abn_platelets.shape[0], abn_creatinine.shape[0], abn_sodium.shape[0], anaemia_patients , diabetes_patients , high_bp_patients )) \n",
        "print (min(abn_ef.shape[0], abn_platelets.shape[0], abn_creatinine.shape[0], abn_sodium.shape[0], anaemia_patients , diabetes_patients , high_bp_patients )) "
      ]
    },
    {
      "cell_type": "code",
      "execution_count": 97,
      "metadata": {
        "colab": {
          "base_uri": "https://localhost:8080/"
        },
        "id": "bcwGl7ecKOg3",
        "outputId": "6a79fab3-2e33-4d5c-d611-f60d7d47c62e"
      },
      "outputs": [
        {
          "output_type": "stream",
          "name": "stdout",
          "text": [
            "The most common abnormality or disease among the heart failure patients is Ejection Fraction and 261 Patients had abnormal Ejection Fraction.\n"
          ]
        }
      ],
      "source": [
        "print(\"The most common abnormality or disease among the heart failure patients is Ejection Fraction and 261 Patients had abnormal Ejection Fraction.\")"
      ]
    },
    {
      "cell_type": "code",
      "execution_count": 98,
      "metadata": {
        "colab": {
          "base_uri": "https://localhost:8080/"
        },
        "id": "jEjF6CkpKOg4",
        "outputId": "9b248277-f1d1-40a9-91fa-12f715d2afc9"
      },
      "outputs": [
        {
          "output_type": "execute_result",
          "data": {
            "text/plain": [
              "47"
            ]
          },
          "metadata": {},
          "execution_count": 98
        }
      ],
      "source": [
        "heart_failure_df[(heart_failure_df.platelets < 150) | (heart_failure_df.platelets >400)].shape [0]"
      ]
    },
    {
      "cell_type": "code",
      "execution_count": 99,
      "metadata": {
        "colab": {
          "base_uri": "https://localhost:8080/"
        },
        "id": "u9n51c7XKOg4",
        "outputId": "af81d436-dd07-46b1-9a6f-4ddec2c030c2"
      },
      "outputs": [
        {
          "output_type": "stream",
          "name": "stdout",
          "text": [
            "The least common abnormality or disease among the heart failure patients is Abnormal Platelets Count and 47 Patients had abnormal Platelets Count.\n"
          ]
        }
      ],
      "source": [
        "print(\"The least common abnormality or disease among the heart failure patients is Abnormal Platelets Count and 47 Patients had abnormal Platelets Count.\")"
      ]
    },
    {
      "cell_type": "markdown",
      "metadata": {
        "id": "Gt94_WFdKOg4"
      },
      "source": [
        "#### Q: Does smoking habit affects the life of a heart failure patient? "
      ]
    },
    {
      "cell_type": "code",
      "execution_count": 100,
      "metadata": {
        "colab": {
          "base_uri": "https://localhost:8080/"
        },
        "id": "kKEgiFCAKOg5",
        "outputId": "fb13c02a-176f-4386-c256-4528f1cf8ea1"
      },
      "outputs": [
        {
          "output_type": "execute_result",
          "data": {
            "text/plain": [
              "sex\n",
              "Female     4\n",
              "Male      92\n",
              "Name: smoking, dtype: int64"
            ]
          },
          "metadata": {},
          "execution_count": 100
        }
      ],
      "source": [
        "smokers"
      ]
    },
    {
      "cell_type": "code",
      "execution_count": 101,
      "metadata": {
        "colab": {
          "base_uri": "https://localhost:8080/",
          "height": 362
        },
        "id": "EeplrtvKKOg5",
        "outputId": "8174e28c-1f94-4f94-bd82-3caae2c7bc7d"
      },
      "outputs": [
        {
          "output_type": "display_data",
          "data": {
            "text/plain": [
              "<Figure size 648x360 with 1 Axes>"
            ],
            "image/png": "[encoded data removed]"
          },
          "metadata": {}
        }
      ],
      "source": [
        "plt.title('Dead & Alive Patients with Smoking Habit')\n",
        "plt.xlabel('Age of Patients(Years)')\n",
        "plt.ylabel('Alive or Dead')\n",
        "sns.scatterplot(x = 'age', y = 'patient_dead', hue = 'smoking', data = heart_failure_df);"
      ]
    },
    {
      "cell_type": "markdown",
      "metadata": {
        "id": "F7BEcyfWKOg5"
      },
      "source": [
        "  <p style='text-align:justify;'> From the above result, we can conclude that the number of patients with smoking habit died during follow-up period is less when compared to alive patients with smoking habit. It indicates that smoking habit has very less impact on the life of a heart failure patient.</p> \n",
        "  <p style='text-align:justify;'> \n",
        "Totally 30 smokers died during the follow-up period, let's check the records of individual patients to analyze.</p> "
      ]
    },
    {
      "cell_type": "code",
      "execution_count": 102,
      "metadata": {
        "scrolled": true,
        "colab": {
          "base_uri": "https://localhost:8080/",
          "height": 1000
        },
        "id": "tyKkdFz8KOg6",
        "outputId": "8275baeb-eadc-4ab8-b818-ee7662a30fd6"
      },
      "outputs": [
        {
          "output_type": "execute_result",
          "data": {
            "text/plain": [
              "     age  anaemia  diabetes  ejection_fraction  high_blood_pressure  \\\n",
              "2     65    False     False                 20                False   \n",
              "5     90     True     False                 40                 True   \n",
              "7     60     True      True                 60                False   \n",
              "9     80     True     False                 35                 True   \n",
              "10    75     True     False                 38                 True   \n",
              "11    62    False     False                 25                 True   \n",
              "22    68     True     False                 35                 True   \n",
              "25    80    False      True                 38                False   \n",
              "27    70    False      True                 45                 True   \n",
              "29    82    False      True                 30                False   \n",
              "40    70    False     False                 20                 True   \n",
              "41    50    False      True                 30                 True   \n",
              "42    70    False      True                 45                 True   \n",
              "45    50    False      True                 38                False   \n",
              "47    60    False      True                 38                 True   \n",
              "54    60     True      True                 38                False   \n",
              "58    49    False     False                 20                 True   \n",
              "59    72    False      True                 20                 True   \n",
              "65    60    False     False                 20                False   \n",
              "67    72     True     False                 25                False   \n",
              "72    85    False     False                 35                False   \n",
              "74    69    False     False                 20                False   \n",
              "75    60     True     False                 20                False   \n",
              "105   72     True     False                 30                 True   \n",
              "110   85    False     False                 60                False   \n",
              "144   72     True     False                 25                 True   \n",
              "181   59     True      True                 25                False   \n",
              "182   65    False      True                 25                False   \n",
              "184   58     True     False                 25                False   \n",
              "266   55    False     False                 20                False   \n",
              "\n",
              "     platelets  serum_creatinine  serum_sodium     sex  smoking  patient_dead  \\\n",
              "2          162              1.30           129    Male     True          True   \n",
              "5          204              2.10           132    Male     True          True   \n",
              "7          454              1.10           131    Male     True          True   \n",
              "9          388              9.40           133    Male     True          True   \n",
              "10         368              4.00           131    Male     True          True   \n",
              "11         253              0.90           140    Male     True          True   \n",
              "22         289              0.90           140    Male     True          True   \n",
              "25         149              1.90           144    Male     True          True   \n",
              "27         284              1.30           136    Male     True          True   \n",
              "29         200              1.20           132    Male     True          True   \n",
              "40         263              1.83           134    Male     True          True   \n",
              "41         153              1.20           136  Female     True          True   \n",
              "42         185              1.20           139    Male     True          True   \n",
              "45         310              1.90           135    Male     True          True   \n",
              "47         451              0.60           138    Male     True          True   \n",
              "54         255              2.20           132  Female     True          True   \n",
              "58         319              1.10           136    Male     True          True   \n",
              "59         254              1.30           136    Male     True          True   \n",
              "65         119              2.90           127    Male     True          True   \n",
              "67         274              1.00           140    Male     True          True   \n",
              "72         243              1.00           132    Male     True          True   \n",
              "74         266              1.20           134    Male     True          True   \n",
              "75         204              0.70           139    Male     True          True   \n",
              "105        621              1.70           138  Female     True          True   \n",
              "110        306              1.20           132    Male     True          True   \n",
              "144        338              1.70           139    Male     True          True   \n",
              "181        221              1.00           136    Male     True          True   \n",
              "182        265              1.20           136    Male     True          True   \n",
              "184        219              1.20           137    Male     True          True   \n",
              "266        263              1.83           134    Male     True          True   \n",
              "\n",
              "    age_group abnormal_ef abnormal_platelets abnormal_creatinine  \\\n",
              "2       65-70     Abormal             Normal            Abnormal   \n",
              "5       90-95     Abormal             Normal            Abnormal   \n",
              "7       60-65      Normal           Abnormal              Normal   \n",
              "9       80-85     Abormal             Normal            Abnormal   \n",
              "10      75-80     Abormal             Normal            Abnormal   \n",
              "11      60-65     Abormal             Normal              Normal   \n",
              "22      65-70     Abormal             Normal              Normal   \n",
              "25      80-85     Abormal           Abnormal            Abnormal   \n",
              "27      70-75     Abormal             Normal            Abnormal   \n",
              "29      80-85     Abormal             Normal              Normal   \n",
              "40      70-75     Abormal             Normal            Abnormal   \n",
              "41      50-55     Abormal             Normal              Normal   \n",
              "42      70-75     Abormal             Normal              Normal   \n",
              "45      50-55     Abormal             Normal            Abnormal   \n",
              "47      60-65     Abormal           Abnormal              Normal   \n",
              "54      60-65     Abormal             Normal            Abnormal   \n",
              "58      45-50     Abormal             Normal              Normal   \n",
              "59      70-75     Abormal             Normal            Abnormal   \n",
              "65      60-65     Abormal           Abnormal            Abnormal   \n",
              "67      70-75     Abormal             Normal              Normal   \n",
              "72      85-90     Abormal             Normal              Normal   \n",
              "74      65-70     Abormal             Normal              Normal   \n",
              "75      60-65     Abormal             Normal              Normal   \n",
              "105     70-75     Abormal           Abnormal            Abnormal   \n",
              "110     85-90      Normal             Normal              Normal   \n",
              "144     70-75     Abormal             Normal            Abnormal   \n",
              "181     55-60     Abormal             Normal              Normal   \n",
              "182     65-70     Abormal             Normal              Normal   \n",
              "184     55-60     Abormal             Normal              Normal   \n",
              "266     55-60     Abormal             Normal            Abnormal   \n",
              "\n",
              "    abnormal_sodium  \n",
              "2          Abnormal  \n",
              "5          Abnormal  \n",
              "7          Abnormal  \n",
              "9          Abnormal  \n",
              "10         Abnormal  \n",
              "11           Normal  \n",
              "22           Normal  \n",
              "25           Normal  \n",
              "27           Normal  \n",
              "29         Abnormal  \n",
              "40         Abnormal  \n",
              "41           Normal  \n",
              "42           Normal  \n",
              "45           Normal  \n",
              "47           Normal  \n",
              "54         Abnormal  \n",
              "58           Normal  \n",
              "59           Normal  \n",
              "65         Abnormal  \n",
              "67           Normal  \n",
              "72         Abnormal  \n",
              "74         Abnormal  \n",
              "75           Normal  \n",
              "105          Normal  \n",
              "110        Abnormal  \n",
              "144          Normal  \n",
              "181          Normal  \n",
              "182          Normal  \n",
              "184          Normal  \n",
              "266        Abnormal  "
            ],
            "text/html": [
              "\n",
              "  <div id=\"df-e0fd63c1-bb92-4c85-8ef6-998886ca150c\">\n",
              "    <div class=\"colab-df-container\">\n",
              "      <div>\n",
              "<style scoped>\n",
              "    .dataframe tbody tr th:only-of-type {\n",
              "        vertical-align: middle;\n",
              "    }\n",
              "\n",
              "    .dataframe tbody tr th {\n",
              "        vertical-align: top;\n",
              "    }\n",
              "\n",
              "    .dataframe thead th {\n",
              "        text-align: right;\n",
              "    }\n",
              "</style>\n",
              "<table border=\"1\" class=\"dataframe\">\n",
              "  <thead>\n",
              "    <tr style=\"text-align: right;\">\n",
              "      <th></th>\n",
              "      <th>age</th>\n",
              "      <th>anaemia</th>\n",
              "      <th>diabetes</th>\n",
              "      <th>ejection_fraction</th>\n",
              "      <th>high_blood_pressure</th>\n",
              "      <th>platelets</th>\n",
              "      <th>serum_creatinine</th>\n",
              "      <th>serum_sodium</th>\n",
              "      <th>sex</th>\n",
              "      <th>smoking</th>\n",
              "      <th>patient_dead</th>\n",
              "      <th>age_group</th>\n",
              "      <th>abnormal_ef</th>\n",
              "      <th>abnormal_platelets</th>\n",
              "      <th>abnormal_creatinine</th>\n",
              "      <th>abnormal_sodium</th>\n",
              "    </tr>\n",
              "  </thead>\n",
              "  <tbody>\n",
              "    <tr>\n",
              "      <th>2</th>\n",
              "      <td>65</td>\n",
              "      <td>False</td>\n",
              "      <td>False</td>\n",
              "      <td>20</td>\n",
              "      <td>False</td>\n",
              "      <td>162</td>\n",
              "      <td>1.30</td>\n",
              "      <td>129</td>\n",
              "      <td>Male</td>\n",
              "      <td>True</td>\n",
              "      <td>True</td>\n",
              "      <td>65-70</td>\n",
              "      <td>Abormal</td>\n",
              "      <td>Normal</td>\n",
              "      <td>Abnormal</td>\n",
              "      <td>Abnormal</td>\n",
              "    </tr>\n",
              "    <tr>\n",
              "      <th>5</th>\n",
              "      <td>90</td>\n",
              "      <td>True</td>\n",
              "      <td>False</td>\n",
              "      <td>40</td>\n",
              "      <td>True</td>\n",
              "      <td>204</td>\n",
              "      <td>2.10</td>\n",
              "      <td>132</td>\n",
              "      <td>Male</td>\n",
              "      <td>True</td>\n",
              "      <td>True</td>\n",
              "      <td>90-95</td>\n",
              "      <td>Abormal</td>\n",
              "      <td>Normal</td>\n",
              "      <td>Abnormal</td>\n",
              "      <td>Abnormal</td>\n",
              "    </tr>\n",
              "    <tr>\n",
              "      <th>7</th>\n",
              "      <td>60</td>\n",
              "      <td>True</td>\n",
              "      <td>True</td>\n",
              "      <td>60</td>\n",
              "      <td>False</td>\n",
              "      <td>454</td>\n",
              "      <td>1.10</td>\n",
              "      <td>131</td>\n",
              "      <td>Male</td>\n",
              "      <td>True</td>\n",
              "      <td>True</td>\n",
              "      <td>60-65</td>\n",
              "      <td>Normal</td>\n",
              "      <td>Abnormal</td>\n",
              "      <td>Normal</td>\n",
              "      <td>Abnormal</td>\n",
              "    </tr>\n",
              "    <tr>\n",
              "      <th>9</th>\n",
              "      <td>80</td>\n",
              "      <td>True</td>\n",
              "      <td>False</td>\n",
              "      <td>35</td>\n",
              "      <td>True</td>\n",
              "      <td>388</td>\n",
              "      <td>9.40</td>\n",
              "      <td>133</td>\n",
              "      <td>Male</td>\n",
              "      <td>True</td>\n",
              "      <td>True</td>\n",
              "      <td>80-85</td>\n",
              "      <td>Abormal</td>\n",
              "      <td>Normal</td>\n",
              "      <td>Abnormal</td>\n",
              "      <td>Abnormal</td>\n",
              "    </tr>\n",
              "    <tr>\n",
              "      <th>10</th>\n",
              "      <td>75</td>\n",
              "      <td>True</td>\n",
              "      <td>False</td>\n",
              "      <td>38</td>\n",
              "      <td>True</td>\n",
              "      <td>368</td>\n",
              "      <td>4.00</td>\n",
              "      <td>131</td>\n",
              "      <td>Male</td>\n",
              "      <td>True</td>\n",
              "      <td>True</td>\n",
              "      <td>75-80</td>\n",
              "      <td>Abormal</td>\n",
              "      <td>Normal</td>\n",
              "      <td>Abnormal</td>\n",
              "      <td>Abnormal</td>\n",
              "    </tr>\n",
              "    <tr>\n",
              "      <th>11</th>\n",
              "      <td>62</td>\n",
              "      <td>False</td>\n",
              "      <td>False</td>\n",
              "      <td>25</td>\n",
              "      <td>True</td>\n",
              "      <td>253</td>\n",
              "      <td>0.90</td>\n",
              "      <td>140</td>\n",
              "      <td>Male</td>\n",
              "      <td>True</td>\n",
              "      <td>True</td>\n",
              "      <td>60-65</td>\n",
              "      <td>Abormal</td>\n",
              "      <td>Normal</td>\n",
              "      <td>Normal</td>\n",
              "      <td>Normal</td>\n",
              "    </tr>\n",
              "    <tr>\n",
              "      <th>22</th>\n",
              "      <td>68</td>\n",
              "      <td>True</td>\n",
              "      <td>False</td>\n",
              "      <td>35</td>\n",
              "      <td>True</td>\n",
              "      <td>289</td>\n",
              "      <td>0.90</td>\n",
              "      <td>140</td>\n",
              "      <td>Male</td>\n",
              "      <td>True</td>\n",
              "      <td>True</td>\n",
              "      <td>65-70</td>\n",
              "      <td>Abormal</td>\n",
              "      <td>Normal</td>\n",
              "      <td>Normal</td>\n",
              "      <td>Normal</td>\n",
              "    </tr>\n",
              "    <tr>\n",
              "      <th>25</th>\n",
              "      <td>80</td>\n",
              "      <td>False</td>\n",
              "      <td>True</td>\n",
              "      <td>38</td>\n",
              "      <td>False</td>\n",
              "      <td>149</td>\n",
              "      <td>1.90</td>\n",
              "      <td>144</td>\n",
              "      <td>Male</td>\n",
              "      <td>True</td>\n",
              "      <td>True</td>\n",
              "      <td>80-85</td>\n",
              "      <td>Abormal</td>\n",
              "      <td>Abnormal</td>\n",
              "      <td>Abnormal</td>\n",
              "      <td>Normal</td>\n",
              "    </tr>\n",
              "    <tr>\n",
              "      <th>27</th>\n",
              "      <td>70</td>\n",
              "      <td>False</td>\n",
              "      <td>True</td>\n",
              "      <td>45</td>\n",
              "      <td>True</td>\n",
              "      <td>284</td>\n",
              "      <td>1.30</td>\n",
              "      <td>136</td>\n",
              "      <td>Male</td>\n",
              "      <td>True</td>\n",
              "      <td>True</td>\n",
              "      <td>70-75</td>\n",
              "      <td>Abormal</td>\n",
              "      <td>Normal</td>\n",
              "      <td>Abnormal</td>\n",
              "      <td>Normal</td>\n",
              "    </tr>\n",
              "    <tr>\n",
              "      <th>29</th>\n",
              "      <td>82</td>\n",
              "      <td>False</td>\n",
              "      <td>True</td>\n",
              "      <td>30</td>\n",
              "      <td>False</td>\n",
              "      <td>200</td>\n",
              "      <td>1.20</td>\n",
              "      <td>132</td>\n",
              "      <td>Male</td>\n",
              "      <td>True</td>\n",
              "      <td>True</td>\n",
              "      <td>80-85</td>\n",
              "      <td>Abormal</td>\n",
              "      <td>Normal</td>\n",
              "      <td>Normal</td>\n",
              "      <td>Abnormal</td>\n",
              "    </tr>\n",
              "    <tr>\n",
              "      <th>40</th>\n",
              "      <td>70</td>\n",
              "      <td>False</td>\n",
              "      <td>False</td>\n",
              "      <td>20</td>\n",
              "      <td>True</td>\n",
              "      <td>263</td>\n",
              "      <td>1.83</td>\n",
              "      <td>134</td>\n",
              "      <td>Male</td>\n",
              "      <td>True</td>\n",
              "      <td>True</td>\n",
              "      <td>70-75</td>\n",
              "      <td>Abormal</td>\n",
              "      <td>Normal</td>\n",
              "      <td>Abnormal</td>\n",
              "      <td>Abnormal</td>\n",
              "    </tr>\n",
              "    <tr>\n",
              "      <th>41</th>\n",
              "      <td>50</td>\n",
              "      <td>False</td>\n",
              "      <td>True</td>\n",
              "      <td>30</td>\n",
              "      <td>True</td>\n",
              "      <td>153</td>\n",
              "      <td>1.20</td>\n",
              "      <td>136</td>\n",
              "      <td>Female</td>\n",
              "      <td>True</td>\n",
              "      <td>True</td>\n",
              "      <td>50-55</td>\n",
              "      <td>Abormal</td>\n",
              "      <td>Normal</td>\n",
              "      <td>Normal</td>\n",
              "      <td>Normal</td>\n",
              "    </tr>\n",
              "    <tr>\n",
              "      <th>42</th>\n",
              "      <td>70</td>\n",
              "      <td>False</td>\n",
              "      <td>True</td>\n",
              "      <td>45</td>\n",
              "      <td>True</td>\n",
              "      <td>185</td>\n",
              "      <td>1.20</td>\n",
              "      <td>139</td>\n",
              "      <td>Male</td>\n",
              "      <td>True</td>\n",
              "      <td>True</td>\n",
              "      <td>70-75</td>\n",
              "      <td>Abormal</td>\n",
              "      <td>Normal</td>\n",
              "      <td>Normal</td>\n",
              "      <td>Normal</td>\n",
              "    </tr>\n",
              "    <tr>\n",
              "      <th>45</th>\n",
              "      <td>50</td>\n",
              "      <td>False</td>\n",
              "      <td>True</td>\n",
              "      <td>38</td>\n",
              "      <td>False</td>\n",
              "      <td>310</td>\n",
              "      <td>1.90</td>\n",
              "      <td>135</td>\n",
              "      <td>Male</td>\n",
              "      <td>True</td>\n",
              "      <td>True</td>\n",
              "      <td>50-55</td>\n",
              "      <td>Abormal</td>\n",
              "      <td>Normal</td>\n",
              "      <td>Abnormal</td>\n",
              "      <td>Normal</td>\n",
              "    </tr>\n",
              "    <tr>\n",
              "      <th>47</th>\n",
              "      <td>60</td>\n",
              "      <td>False</td>\n",
              "      <td>True</td>\n",
              "      <td>38</td>\n",
              "      <td>True</td>\n",
              "      <td>451</td>\n",
              "      <td>0.60</td>\n",
              "      <td>138</td>\n",
              "      <td>Male</td>\n",
              "      <td>True</td>\n",
              "      <td>True</td>\n",
              "      <td>60-65</td>\n",
              "      <td>Abormal</td>\n",
              "      <td>Abnormal</td>\n",
              "      <td>Normal</td>\n",
              "      <td>Normal</td>\n",
              "    </tr>\n",
              "    <tr>\n",
              "      <th>54</th>\n",
              "      <td>60</td>\n",
              "      <td>True</td>\n",
              "      <td>True</td>\n",
              "      <td>38</td>\n",
              "      <td>False</td>\n",
              "      <td>255</td>\n",
              "      <td>2.20</td>\n",
              "      <td>132</td>\n",
              "      <td>Female</td>\n",
              "      <td>True</td>\n",
              "      <td>True</td>\n",
              "      <td>60-65</td>\n",
              "      <td>Abormal</td>\n",
              "      <td>Normal</td>\n",
              "      <td>Abnormal</td>\n",
              "      <td>Abnormal</td>\n",
              "    </tr>\n",
              "    <tr>\n",
              "      <th>58</th>\n",
              "      <td>49</td>\n",
              "      <td>False</td>\n",
              "      <td>False</td>\n",
              "      <td>20</td>\n",
              "      <td>True</td>\n",
              "      <td>319</td>\n",
              "      <td>1.10</td>\n",
              "      <td>136</td>\n",
              "      <td>Male</td>\n",
              "      <td>True</td>\n",
              "      <td>True</td>\n",
              "      <td>45-50</td>\n",
              "      <td>Abormal</td>\n",
              "      <td>Normal</td>\n",
              "      <td>Normal</td>\n",
              "      <td>Normal</td>\n",
              "    </tr>\n",
              "    <tr>\n",
              "      <th>59</th>\n",
              "      <td>72</td>\n",
              "      <td>False</td>\n",
              "      <td>True</td>\n",
              "      <td>20</td>\n",
              "      <td>True</td>\n",
              "      <td>254</td>\n",
              "      <td>1.30</td>\n",
              "      <td>136</td>\n",
              "      <td>Male</td>\n",
              "      <td>True</td>\n",
              "      <td>True</td>\n",
              "      <td>70-75</td>\n",
              "      <td>Abormal</td>\n",
              "      <td>Normal</td>\n",
              "      <td>Abnormal</td>\n",
              "      <td>Normal</td>\n",
              "    </tr>\n",
              "    <tr>\n",
              "      <th>65</th>\n",
              "      <td>60</td>\n",
              "      <td>False</td>\n",
              "      <td>False</td>\n",
              "      <td>20</td>\n",
              "      <td>False</td>\n",
              "      <td>119</td>\n",
              "      <td>2.90</td>\n",
              "      <td>127</td>\n",
              "      <td>Male</td>\n",
              "      <td>True</td>\n",
              "      <td>True</td>\n",
              "      <td>60-65</td>\n",
              "      <td>Abormal</td>\n",
              "      <td>Abnormal</td>\n",
              "      <td>Abnormal</td>\n",
              "      <td>Abnormal</td>\n",
              "    </tr>\n",
              "    <tr>\n",
              "      <th>67</th>\n",
              "      <td>72</td>\n",
              "      <td>True</td>\n",
              "      <td>False</td>\n",
              "      <td>25</td>\n",
              "      <td>False</td>\n",
              "      <td>274</td>\n",
              "      <td>1.00</td>\n",
              "      <td>140</td>\n",
              "      <td>Male</td>\n",
              "      <td>True</td>\n",
              "      <td>True</td>\n",
              "      <td>70-75</td>\n",
              "      <td>Abormal</td>\n",
              "      <td>Normal</td>\n",
              "      <td>Normal</td>\n",
              "      <td>Normal</td>\n",
              "    </tr>\n",
              "    <tr>\n",
              "      <th>72</th>\n",
              "      <td>85</td>\n",
              "      <td>False</td>\n",
              "      <td>False</td>\n",
              "      <td>35</td>\n",
              "      <td>False</td>\n",
              "      <td>243</td>\n",
              "      <td>1.00</td>\n",
              "      <td>132</td>\n",
              "      <td>Male</td>\n",
              "      <td>True</td>\n",
              "      <td>True</td>\n",
              "      <td>85-90</td>\n",
              "      <td>Abormal</td>\n",
              "      <td>Normal</td>\n",
              "      <td>Normal</td>\n",
              "      <td>Abnormal</td>\n",
              "    </tr>\n",
              "    <tr>\n",
              "      <th>74</th>\n",
              "      <td>69</td>\n",
              "      <td>False</td>\n",
              "      <td>False</td>\n",
              "      <td>20</td>\n",
              "      <td>False</td>\n",
              "      <td>266</td>\n",
              "      <td>1.20</td>\n",
              "      <td>134</td>\n",
              "      <td>Male</td>\n",
              "      <td>True</td>\n",
              "      <td>True</td>\n",
              "      <td>65-70</td>\n",
              "      <td>Abormal</td>\n",
              "      <td>Normal</td>\n",
              "      <td>Normal</td>\n",
              "      <td>Abnormal</td>\n",
              "    </tr>\n",
              "    <tr>\n",
              "      <th>75</th>\n",
              "      <td>60</td>\n",
              "      <td>True</td>\n",
              "      <td>False</td>\n",
              "      <td>20</td>\n",
              "      <td>False</td>\n",
              "      <td>204</td>\n",
              "      <td>0.70</td>\n",
              "      <td>139</td>\n",
              "      <td>Male</td>\n",
              "      <td>True</td>\n",
              "      <td>True</td>\n",
              "      <td>60-65</td>\n",
              "      <td>Abormal</td>\n",
              "      <td>Normal</td>\n",
              "      <td>Normal</td>\n",
              "      <td>Normal</td>\n",
              "    </tr>\n",
              "    <tr>\n",
              "      <th>105</th>\n",
              "      <td>72</td>\n",
              "      <td>True</td>\n",
              "      <td>False</td>\n",
              "      <td>30</td>\n",
              "      <td>True</td>\n",
              "      <td>621</td>\n",
              "      <td>1.70</td>\n",
              "      <td>138</td>\n",
              "      <td>Female</td>\n",
              "      <td>True</td>\n",
              "      <td>True</td>\n",
              "      <td>70-75</td>\n",
              "      <td>Abormal</td>\n",
              "      <td>Abnormal</td>\n",
              "      <td>Abnormal</td>\n",
              "      <td>Normal</td>\n",
              "    </tr>\n",
              "    <tr>\n",
              "      <th>110</th>\n",
              "      <td>85</td>\n",
              "      <td>False</td>\n",
              "      <td>False</td>\n",
              "      <td>60</td>\n",
              "      <td>False</td>\n",
              "      <td>306</td>\n",
              "      <td>1.20</td>\n",
              "      <td>132</td>\n",
              "      <td>Male</td>\n",
              "      <td>True</td>\n",
              "      <td>True</td>\n",
              "      <td>85-90</td>\n",
              "      <td>Normal</td>\n",
              "      <td>Normal</td>\n",
              "      <td>Normal</td>\n",
              "      <td>Abnormal</td>\n",
              "    </tr>\n",
              "    <tr>\n",
              "      <th>144</th>\n",
              "      <td>72</td>\n",
              "      <td>True</td>\n",
              "      <td>False</td>\n",
              "      <td>25</td>\n",
              "      <td>True</td>\n",
              "      <td>338</td>\n",
              "      <td>1.70</td>\n",
              "      <td>139</td>\n",
              "      <td>Male</td>\n",
              "      <td>True</td>\n",
              "      <td>True</td>\n",
              "      <td>70-75</td>\n",
              "      <td>Abormal</td>\n",
              "      <td>Normal</td>\n",
              "      <td>Abnormal</td>\n",
              "      <td>Normal</td>\n",
              "    </tr>\n",
              "    <tr>\n",
              "      <th>181</th>\n",
              "      <td>59</td>\n",
              "      <td>True</td>\n",
              "      <td>True</td>\n",
              "      <td>25</td>\n",
              "      <td>False</td>\n",
              "      <td>221</td>\n",
              "      <td>1.00</td>\n",
              "      <td>136</td>\n",
              "      <td>Male</td>\n",
              "      <td>True</td>\n",
              "      <td>True</td>\n",
              "      <td>55-60</td>\n",
              "      <td>Abormal</td>\n",
              "      <td>Normal</td>\n",
              "      <td>Normal</td>\n",
              "      <td>Normal</td>\n",
              "    </tr>\n",
              "    <tr>\n",
              "      <th>182</th>\n",
              "      <td>65</td>\n",
              "      <td>False</td>\n",
              "      <td>True</td>\n",
              "      <td>25</td>\n",
              "      <td>False</td>\n",
              "      <td>265</td>\n",
              "      <td>1.20</td>\n",
              "      <td>136</td>\n",
              "      <td>Male</td>\n",
              "      <td>True</td>\n",
              "      <td>True</td>\n",
              "      <td>65-70</td>\n",
              "      <td>Abormal</td>\n",
              "      <td>Normal</td>\n",
              "      <td>Normal</td>\n",
              "      <td>Normal</td>\n",
              "    </tr>\n",
              "    <tr>\n",
              "      <th>184</th>\n",
              "      <td>58</td>\n",
              "      <td>True</td>\n",
              "      <td>False</td>\n",
              "      <td>25</td>\n",
              "      <td>False</td>\n",
              "      <td>219</td>\n",
              "      <td>1.20</td>\n",
              "      <td>137</td>\n",
              "      <td>Male</td>\n",
              "      <td>True</td>\n",
              "      <td>True</td>\n",
              "      <td>55-60</td>\n",
              "      <td>Abormal</td>\n",
              "      <td>Normal</td>\n",
              "      <td>Normal</td>\n",
              "      <td>Normal</td>\n",
              "    </tr>\n",
              "    <tr>\n",
              "      <th>266</th>\n",
              "      <td>55</td>\n",
              "      <td>False</td>\n",
              "      <td>False</td>\n",
              "      <td>20</td>\n",
              "      <td>False</td>\n",
              "      <td>263</td>\n",
              "      <td>1.83</td>\n",
              "      <td>134</td>\n",
              "      <td>Male</td>\n",
              "      <td>True</td>\n",
              "      <td>True</td>\n",
              "      <td>55-60</td>\n",
              "      <td>Abormal</td>\n",
              "      <td>Normal</td>\n",
              "      <td>Abnormal</td>\n",
              "      <td>Abnormal</td>\n",
              "    </tr>\n",
              "  </tbody>\n",
              "</table>\n",
              "</div>\n",
              "      <button class=\"colab-df-convert\" onclick=\"convertToInteractive('df-e0fd63c1-bb92-4c85-8ef6-998886ca150c')\"\n",
              "              title=\"Convert this dataframe to an interactive table.\"\n",
              "              style=\"display:none;\">\n",
              "        \n",
              "  <svg xmlns=\"http://www.w3.org/2000/svg\" height=\"24px\"viewBox=\"0 0 24 24\"\n",
              "       width=\"24px\">\n",
              "    <path d=\"M0 0h24v24H0V0z\" fill=\"none\"/>\n",
              "    <path d=\"M18.56 5.44l.94 2.06.94-2.06 2.06-.94-2.06-.94-.94-2.06-.94 2.06-2.06.94zm-11 1L8.5 8.5l.94-2.06 2.06-.94-2.06-.94L8.5 2.5l-.94 2.06-2.06.94zm10 10l.94 2.06.94-2.06 2.06-.94-2.06-.94-.94-2.06-.94 2.06-2.06.94z\"/><path d=\"M17.41 7.96l-1.37-1.37c-.4-.4-.92-.59-1.43-.59-.52 0-1.04.2-1.43.59L10.3 9.45l-7.72 7.72c-.78.78-.78 2.05 0 2.83L4 21.41c.39.39.9.59 1.41.59.51 0 1.02-.2 1.41-.59l7.78-7.78 2.81-2.81c.8-.78.8-2.07 0-2.86zM5.41 20L4 18.59l7.72-7.72 1.47 1.35L5.41 20z\"/>\n",
              "  </svg>\n",
              "      </button>\n",
              "      \n",
              "  <style>\n",
              "    .colab-df-container {\n",
              "      display:flex;\n",
              "      flex-wrap:wrap;\n",
              "      gap: 12px;\n",
              "    }\n",
              "\n",
              "    .colab-df-convert {\n",
              "      background-color: #E8F0FE;\n",
              "      border: none;\n",
              "      border-radius: 50%;\n",
              "      cursor: pointer;\n",
              "      display: none;\n",
              "      fill: #1967D2;\n",
              "      height: 32px;\n",
              "      padding: 0 0 0 0;\n",
              "      width: 32px;\n",
              "    }\n",
              "\n",
              "    .colab-df-convert:hover {\n",
              "      background-color: #E2EBFA;\n",
              "      box-shadow: 0px 1px 2px rgba(60, 64, 67, 0.3), 0px 1px 3px 1px rgba(60, 64, 67, 0.15);\n",
              "      fill: #174EA6;\n",
              "    }\n",
              "\n",
              "    [theme=dark] .colab-df-convert {\n",
              "      background-color: #3B4455;\n",
              "      fill: #D2E3FC;\n",
              "    }\n",
              "\n",
              "    [theme=dark] .colab-df-convert:hover {\n",
              "      background-color: #434B5C;\n",
              "      box-shadow: 0px 1px 3px 1px rgba(0, 0, 0, 0.15);\n",
              "      filter: drop-shadow(0px 1px 2px rgba(0, 0, 0, 0.3));\n",
              "      fill: #FFFFFF;\n",
              "    }\n",
              "  </style>\n",
              "\n",
              "      <script>\n",
              "        const buttonEl =\n",
              "          document.querySelector('#df-e0fd63c1-bb92-4c85-8ef6-998886ca150c button.colab-df-convert');\n",
              "        buttonEl.style.display =\n",
              "          google.colab.kernel.accessAllowed ? 'block' : 'none';\n",
              "\n",
              "        async function convertToInteractive(key) {\n",
              "          const element = document.querySelector('#df-e0fd63c1-bb92-4c85-8ef6-998886ca150c');\n",
              "          const dataTable =\n",
              "            await google.colab.kernel.invokeFunction('convertToInteractive',\n",
              "                                                     [key], {});\n",
              "          if (!dataTable) return;\n",
              "\n",
              "          const docLinkHtml = 'Like what you see? Visit the ' +\n",
              "            '<a target=\"_blank\" href=https://colab.research.google.com/notebooks/data_table.ipynb>data table notebook</a>'\n",
              "            + ' to learn more about interactive tables.';\n",
              "          element.innerHTML = '';\n",
              "          dataTable['output_type'] = 'display_data';\n",
              "          await google.colab.output.renderOutput(dataTable, element);\n",
              "          const docLink = document.createElement('div');\n",
              "          docLink.innerHTML = docLinkHtml;\n",
              "          element.appendChild(docLink);\n",
              "        }\n",
              "      </script>\n",
              "    </div>\n",
              "  </div>\n",
              "  "
            ]
          },
          "metadata": {},
          "execution_count": 102
        }
      ],
      "source": [
        "heart_failure_df [(heart_failure_df.patient_dead == True) & (heart_failure_df.smoking == True )]"
      ]
    },
    {
      "cell_type": "code",
      "execution_count": 103,
      "metadata": {
        "colab": {
          "base_uri": "https://localhost:8080/"
        },
        "id": "vJenBrnfKOg6",
        "outputId": "f65632dd-6041-42e3-cd2d-f593b09e1aa4"
      },
      "outputs": [
        {
          "output_type": "execute_result",
          "data": {
            "text/plain": [
              "(2, 16)"
            ]
          },
          "metadata": {},
          "execution_count": 103
        }
      ],
      "source": [
        "heart_failure_df [(heart_failure_df.patient_dead == True) & (heart_failure_df.smoking == True ) & (heart_failure_df.abnormal_ef == 'Normal')].shape "
      ]
    },
    {
      "cell_type": "code",
      "execution_count": 104,
      "metadata": {
        "colab": {
          "base_uri": "https://localhost:8080/"
        },
        "id": "M4z3AYbhKOg7",
        "outputId": "bf8df9ab-1886-4e60-c299-43811a0d6759"
      },
      "outputs": [
        {
          "output_type": "execute_result",
          "data": {
            "text/plain": [
              "(16, 16)"
            ]
          },
          "metadata": {},
          "execution_count": 104
        }
      ],
      "source": [
        "heart_failure_df [(heart_failure_df.patient_dead == True) & (heart_failure_df.smoking == True ) & (heart_failure_df.abnormal_creatinine == 'Normal')].shape "
      ]
    },
    {
      "cell_type": "markdown",
      "metadata": {
        "id": "MAbz6iQLKOg7"
      },
      "source": [
        "  <p style='text-align:justify;'> Since, we already know that the most common factor among the heart failure patients was Ejection Fraction followed by abnormal creatinine level in the blood. 2 Patients with smoking habit died, though they had Normal Ejection Fraction and 16 Patients died with smoking habit, though they had Normal Creatinine Level in the blood. </p>\n",
        "  <p style='text-align:justify;'> \n",
        "So, we can conclude that the smoking habit surely has little impact on the life of a heart failure patient. </p>"
      ]
    },
    {
      "cell_type": "markdown",
      "metadata": {
        "id": "JVTd9Y8eKOg8"
      },
      "source": [
        "## Inferences and Conclusions\n",
        "\n",
        "We've drawn many inferences from the survey. Here's a summary of a few of them:\n",
        "<ul style='text-align:justify;'><li>\n",
        "Based on the recorded patients gender, we can infer that the dataset is slightly imbalanced, since only 35.1% of Patients were Female.</li>\n",
        "<li>We have more number of patients under 60-65 age group and the next place goes to 50-55 age group.  And the number of patients recorded starts declining from 65-70 age group,  it's obvious since the life expectancy of a person in Pakistan in 2015 was approximately 67 years.</li>\n",
        "\n",
        "<li>32.1% of patients died during the follow-up period. This might be because the data mentioned in our data frame corresponds to only the certain period of time (April'15 - December'15) and more number of patients might have died after this period (which isn't recorded).</li>\n",
        "\n",
        "<li>Maximum patients died (during the follow-up period is) under 60-65 age group (i.e 15 Patients). It's obvious, since we have more number of patients in 60-65 age group. And the proportion of patients died starts increasing from 65-70 age group and the number of patients died is more than alive patients in the age group of 80-85, 85-90 and 90-95. This is because over the time, the body’s immune system naturally becomes less capable of handling new threats, such as viruses including novel corona virus. This increases the risk of having issues with various illnesses which ultimately leads to their end.</li>\n",
        "\n",
        "<li>The proportion of male and female patients died during the follow-up period is almost equal (i.e ~32%).</li>\n",
        "\n",
        "<li>The abnormality in Ejection Fraction(EF) is the most common factor among the heart failure patients. Abnormal Ejection Fraction is followed by the abnormal creatinine and sodium level in the blood respectively, the factor which is least common among the heart failure patients is abnormal Platelets Count (i.e only 47 Patients).</li>\n",
        "\n",
        "<li>No medical record values have been normally distributed. Platelets count, Ejection Fraction and Creatinine Level are right skewed and Sodium Level is left skewed.</li>\n",
        "\n",
        "<li>The most common abnormality or disease among the heart failure patients is Ejection Fraction and 261 Patients had abnormal Ejection Fraction.</li>\n",
        "\n",
        "<li>The least common abnormality or disease among the heart failure patients is Abnormal Platelets Count and 47 Patients had abnormal Platelets Count.</li>\n",
        "\n",
        "<li>Though they had normal ejection fraction and normal creatinine level in the blood, some patients with smoking habit died. So, we can conclude that the smoking habit has little impact on the life expectancy of a heart failure patient.</li> </ul>\n"
      ]
    },
    {
      "cell_type": "markdown",
      "metadata": {
        "id": "kCLZuQJrKOg8"
      },
      "source": [
        "# References and Future work \n",
        "\n",
        "### References\n",
        "  <p style='text-align:justify;'> \n",
        "Check out the following resources to learn more about the dataset, attributes and tools used in this notebook:</p>\n",
        " \n",
        "- Heart Failure Clinical Records Dataset in Kaggle:\n",
        "https://www.kaggle.com/andrewmvd/heart-failure-clinical-data\n",
        "\n",
        "- Advanced study in Heart Failure Patients Dataset:\n",
        "https://bmcmedinformdecismak.biomedcentral.com/articles/10.1186/s12911-020-1023-5\n",
        "\n",
        "- Attributes Information Table:\n",
        "https://bmcmedinformdecismak.biomedcentral.com/articles/10.1186/s12911-020-1023-5/tables/1\n",
        "\n",
        "- Ejection Fraction:\n",
        "https://my.clevelandclinic.org/health/articles/16950-ejection-fraction\n",
        "\n",
        "- Platelets:\n",
        "https://www.ucsfhealth.org/medical-tests/platelet-count\n",
        "\n",
        "- Serum Creatinine:\n",
        "https://www.medicinenet.com/creatinine_blood_test/article.htm\n",
        "\n",
        "- Serum Sodium:\n",
        "https://www.healthcheckup.com/general/normal-sodium-levels-in-blood/\n",
        "\n",
        "- Life expectancy in Pakistan:\n",
        "https://www.macrotrends.net/countries/PAK/pakistan/life-expectancy\n",
        "\n",
        "- Pandas user guide: \n",
        "https://pandas.pydata.org/docs/user_guide/index.html\n",
        "\n",
        "- Matplotlib user guide:\n",
        "https://matplotlib.org/3.3.1/users/index.html\n",
        "\n",
        "- Seaborn user guide & tutorial:\n",
        "https://seaborn.pydata.org/tutorial.html\n",
        "\n",
        "- `opendatasets` Python library: https://github.com/JovianML/opendatasets\n",
        "\n",
        "- Data Visualization in Python:\n",
        "https://medium.com/@siddhardhan23/data-visualization-in-python-a90ddb706b23"
      ]
    },
    {
      "cell_type": "markdown",
      "metadata": {
        "id": "uHJ4u0DKKOg9"
      },
      "source": [
        "### Future Work\n",
        "\n",
        "  <p style='text-align:justify;'> There are a lot of improvements we can make to our project in the future with the help of necessary tools and datasets. Here are some of the things we could do in enhancing our project:</p>\n",
        "\n",
        "<ul style='text-align:justify;' ><li>Analyze what is the most common factor among heart failure patients to confirm our findings, using data gathered from all over the world on heart failure patients</li>\n",
        "\n",
        "<li>Determine the number of patients who died based on their abnormality and disease. For example: Number of Patients who died with Anaemia and Diabetes, Number of Patients who died with Abnormal Ejection Fraction, High Blood Pressure, and Abnormal Creatinine Level.</li>\n",
        "\n",
        "<li>Study further about the clinical records like 'Ejection Fraction' and 'Creatinine Level' and how they are interrelated.</li>\n",
        "\n",
        "<li>Predict the life expectancy of heart failure patients through machine learning models.</li></ul>"
      ]
    }
  ],
  "metadata": {
    "language_info": {
      "name": "python"
    },
    "colab": {
      "provenance": []
    },
    "kernelspec": {
      "name": "python3",
      "display_name": "Python 3"
    },
    "gpuClass": "standard"
  },
  "nbformat": 4,
  "nbformat_minor": 0
}